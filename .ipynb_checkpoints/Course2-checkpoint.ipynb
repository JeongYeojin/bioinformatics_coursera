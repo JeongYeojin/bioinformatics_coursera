{
 "cells": [
  {
   "cell_type": "code",
   "execution_count": 2,
   "metadata": {
    "collapsed": true
   },
   "outputs": [],
   "source": [
    "def composition(k, text):\n",
    "    composition_list = []\n",
    "    for i in range(len(text)-k+1):\n",
    "        composition_list.append(text[i:i+k])\n",
    "    #composition_list.sort()\n",
    "    return composition_list"
   ]
  },
  {
   "cell_type": "code",
   "execution_count": 23,
   "metadata": {
    "collapsed": true
   },
   "outputs": [],
   "source": [
    "a = composition(100, dna_data[1])"
   ]
  },
  {
   "cell_type": "code",
   "execution_count": 14,
   "metadata": {},
   "outputs": [
    {
     "name": "stdout",
     "output_type": "stream",
     "text": [
      "['12', 'GTCTGGGCTTCATGGTTCCGAGCGACTATCGCCGCTACACAGAGTGATCTTTTGGCTATCTGCAGTTTTACTAGTCTAGTCATTTGTTTTCATCGGATTACAGATACAGACGACCGACATGCCGAGGTTTTTAAGCCTGTGCGTTAATCCGGTAGGGACGTCAGATCTATTCTGATTCCAGGAGGGTGTAGGTCCTGCATCAATGTGGAGGACCACTCGTGTATGGATTAACATTATGTTCACGCGCGTCTGTTAAGGATTAGACCTCGATCGTTAACATGTTCGGTCGTCGGTCCCCGCCCCGCACGAGCAAGTACGGTTTCCGACATCCCCGCTTGCTCCTTCATATTACCTGCTATTGTGACCCGAGAGGAAGCCTAGATCTAAATATACGGTATGGGCGTAAGCATGAATGTCTTGATTCATTTTCAACTGCCGCTGGCATAACTGCTTCTATATTTAGCCAGCTGCATCGCCGACAAATTAGCCTAATTGAATAGCATCGCCGTCGTGCCGCGCGATACCGCCTGCTACCAGGACTAGATGTCGCTTGCCGCTAAATGGTAGGTCTAAACGATTTCATATTCACCGAGTGTACAGAAACTAGCTATATGACCCATTGCAGCATGGTACCATTGGGCAGCCAGCTTAACCTTGAACTGAGACGAGTTTACGGAGCTGATGCGCTCACGGGAAGCGAGAACTAGCTACGCTCATTGATATGCACCGTAATGTCACTCCCATGTGCAGTTCACGAGGTGTACTAAGGCAAGCGCGGGTTTACGCGAGGTATATCGCATTATCGTTATCTCTGCACAGCTTGGCGACATGCTTCAGTCAATGCAGAGGTAAAAGAAGCAGCCATCAAAAGATAAGTTATTAGATACAGCGGAGTAAGTCGTCGTCAAAGCAGGCTTATTTGGGTCAAAGCAAGACGGAGTCCCCCGGATTGACTGTGAGCCCCGGACGAGGCCGTGCTGTCCTGATCACCTCCCCAGTTATTAGCTAAGGCTAACTTTTACCGATTCATCTAGTAGCCAATATTCGATAACCAGAGGGCTGCATGTACTAGTGGGGGGTAAGAATCGGTACACCTGCTTCTCAGTCTTGGACGGTGTAAAGATCCAGAGCACTTACGCTGGCCATGTATTGTTCTGTTCAATCTGTGTAGTTTATTGATGACTACACATATTGACACCTAGATCAACCCGCGCGGATTAGACGTGACACGCTTGGGCAAGTGATTGCGAGGGGGTGCTTTTAATTTCACGGCACCAAATATACGTGCCAGACAAAGTGATAGGGGGGTTAGCAGATATGCCACTTCTTTACATGACGCAAATTACGGGCAACAGTATAATGGCTTTCGTAACGCGTGAACCTATTGCACTGACGGTGTCTTAGGTGCGGCGTAAACATTCGGTGGAATGCCGACCACCGGTGCCTAGGGAGGATGTAGATGAACGTTATACCTACAATATACATGGGAGCCGGCTCTAATTTATATCAGTGCTAGCCGATGGAAGTTCTCGGACAAGTCATGTTCAATTTTTACTGCCCTCCTCGAATAGTCCGAGCTAACTTGTGACATCGATAAAGTCAGTTACCTGCCAAACAGCGTCCCCTTCATGCTAATTGAACCTGACGTGCTTCAATACGGACTCCGACTCCCTGACCACTTCATACAGTTGAGTCAAGGGGAGTACACATAACTGAAGATTTCGGTATGCCACATGAAGGAACTACAACGGGTCCACGGGTCCACGAAATCTCCGAGCCCCCGCTAGCTCCTACAGAAAAGAAAAACCGCATTCTAGTGGCCACACTAGGGGAACGGAGCAGGTAAAGGCAAAACAACGTACGTGCTCCTGGCGCATTCCCCCGTTGGGTAAAAGTGGCCACGCGACAGGTCATCAAGCCAAAGGCATATTCAAGGCGGTGAAGGAACGTCTATCGTGTCTAAGGGATAGAAGCTTGCCTACCGTCCACCTTCCTTTTCT']\n"
     ]
    }
   ],
   "source": [
    "with open('/home/jeongyeojin/dataset_199_6.txt') as f:\n",
    "    data = f.read()\n",
    "    dna_data = data.split('\\n')[:-1]\n",
    "print(dna_data)"
   ]
  },
  {
   "cell_type": "code",
   "execution_count": 3,
   "metadata": {
    "collapsed": true
   },
   "outputs": [],
   "source": [
    "def genome_path(patterns):\n",
    "    genome_path = ''\n",
    "    genome_path += patterns[0]\n",
    "    for i in range(len(patterns)-1):\n",
    "        genome_path += patterns[i+1][-1]\n",
    "    return genome_path\n",
    "        \n",
    "    "
   ]
  },
  {
   "cell_type": "code",
   "execution_count": 26,
   "metadata": {
    "collapsed": true
   },
   "outputs": [],
   "source": [
    "sample_patterns = ['ACCGA', 'CCGAA','CGAAG','GAAGC','AAGCT']"
   ]
  },
  {
   "cell_type": "code",
   "execution_count": 3,
   "metadata": {
    "collapsed": true
   },
   "outputs": [],
   "source": [
    "edge_set = [(1,6),(1,7),(1,9),(2,3),(2,8),(2,10),(3,9),(3,11),(4,10),(4,12),(5,7),(5,11),(6,8),(6,12),(7,12),(10,11)]"
   ]
  },
  {
   "cell_type": "code",
   "execution_count": 4,
   "metadata": {
    "collapsed": true
   },
   "outputs": [],
   "source": [
    "from collections import defaultdict\n",
    "\n",
    "def overlap_graph(patterns):\n",
    "    overlapGraph = defaultdict(list)\n",
    "    for i in range(len(patterns)):\n",
    "        for j in range(len(patterns)):\n",
    "            if i != j and patterns[i][1:] == patterns[j][:-1]:\n",
    "                overlapGraph[i].append(j)\n",
    "    return overlapGraph"
   ]
  },
  {
   "cell_type": "code",
   "execution_count": 17,
   "metadata": {
    "collapsed": true
   },
   "outputs": [],
   "source": [
    "og_dict = overlap_graph(dna_data)"
   ]
  },
  {
   "cell_type": "code",
   "execution_count": null,
   "metadata": {},
   "outputs": [],
   "source": [
    "for x, y in og_dict.items():\n",
    "    for y_ in y:\n",
    "        print(\"{} -> {}\".format(dna_data[x], dna_data[y_]))"
   ]
  },
  {
   "cell_type": "code",
   "execution_count": 12,
   "metadata": {},
   "outputs": [],
   "source": [
    "def deBrujin(text, k):\n",
    "    patterns = [text[i:i+k-1] for i in range(len(text)-k+2)]\n",
    "    debrujin_dict = defaultdict(list)\n",
    "    for i in range(len(patterns)-1):\n",
    "        debrujin_dict[patterns[i]].append(patterns[i+1])\n",
    "    for x, y in debrujin_dict.items():\n",
    "        print(\"{} -> {}\".format(x, \", \".join(y)))\n",
    "\n",
    "\n",
    "    "
   ]
  },
  {
   "cell_type": "code",
   "execution_count": 16,
   "metadata": {},
   "outputs": [
    {
     "name": "stdout",
     "output_type": "stream",
     "text": [
      "T -> A, G, G, G, T\n",
      "A -> A, T, T, T\n",
      "G -> C, G, G, A, T\n",
      "C -> C, A\n"
     ]
    }
   ],
   "source": [
    "deBrujin('TAATGCCATGGGATGTT', 2)"
   ]
  },
  {
   "cell_type": "code",
   "execution_count": 17,
   "metadata": {},
   "outputs": [
    {
     "name": "stdout",
     "output_type": "stream",
     "text": [
      "TA -> AA\n",
      "AA -> AT\n",
      "AT -> TG, TG, TG\n",
      "TG -> GC, GG, GT\n",
      "GC -> CC\n",
      "CC -> CA\n",
      "CA -> AT\n",
      "GG -> GG, GA\n",
      "GA -> AT\n",
      "GT -> TT\n"
     ]
    }
   ],
   "source": [
    "deBrujin('TAATGCCATGGGATGTT', 3)"
   ]
  },
  {
   "cell_type": "code",
   "execution_count": 20,
   "metadata": {},
   "outputs": [
    {
     "name": "stdout",
     "output_type": "stream",
     "text": [
      "TA -> AA\n",
      "AA -> AT\n",
      "AT -> TG, TG, TG\n",
      "TG -> GG, GC, GT\n",
      "GG -> GG, GA\n",
      "GA -> AT\n",
      "GC -> CC\n",
      "CC -> CA\n",
      "CA -> AT\n",
      "GT -> TT\n"
     ]
    }
   ],
   "source": [
    "deBrujin('TAATGGGATGCCATGTT', 3)"
   ]
  },
  {
   "cell_type": "code",
   "execution_count": null,
   "metadata": {
    "collapsed": true
   },
   "outputs": [],
   "source": [
    "def deBrujin_from_kmers(kmers):\n",
    "    debrujin_dict = defaultdict(list)\n",
    "    for x in kmers:\n",
    "        debrujin_dict[x[:-1]].append(x[1:])\n",
    "    for x, y in debrujin_dict.items():\n",
    "        print(\"{} -> {}\".format(x, \", \".join(y)))"
   ]
  }
 ],
 "metadata": {
  "kernelspec": {
   "display_name": "Python 3",
   "language": "python",
   "name": "python3"
  },
  "language_info": {
   "codemirror_mode": {
    "name": "ipython",
    "version": 3
   },
   "file_extension": ".py",
   "mimetype": "text/x-python",
   "name": "python",
   "nbconvert_exporter": "python",
   "pygments_lexer": "ipython3",
   "version": "3.6.1"
  }
 },
 "nbformat": 4,
 "nbformat_minor": 2
}
