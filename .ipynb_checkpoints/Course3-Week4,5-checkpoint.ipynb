{
 "cells": [
  {
   "cell_type": "code",
   "execution_count": 136,
   "metadata": {},
   "outputs": [
    {
     "data": {
      "text/plain": [
       "['(+1 +2 -3 -4 -5 -6 +7 -8 -9 -10 +11 +12 +13 +14 +15 +16 +17 -18 -19 +20 -21 -22 +23 +24 +25 +26 +27 -28 +29 -30 -31 -32 +33 +34 +35 -36 +37 +38 +39 +40 -41 +42 -43 +44 -45 -46 +47 -48 +49 +50 -51 -52 -53 +54 +55 -56 +57 +58 -59 +60 +61)',\n",
       " '63, 65, 21, 19']"
      ]
     },
     "execution_count": 136,
     "metadata": {},
     "output_type": "execute_result"
    }
   ],
   "source": [
    "with open('/home/jeongyeojin/dataset_8224_3.txt') as f:\n",
    "    data = f.read()\n",
    "    dna_data = data.split('\\n')[:-1]\n",
    "dna_data"
   ]
  },
  {
   "cell_type": "code",
   "execution_count": 1,
   "metadata": {
    "collapsed": true
   },
   "outputs": [],
   "source": [
    "# ex. P : '(-3 +1 +2)\n",
    "import re\n",
    "\n",
    "def greedy_sorting(P):\n",
    "    print_list = lambda x : print(\"(\" + \" \".join([\"+\"+str(s) if s>0 else str(s) for s in x]) + \")\")\n",
    "    approx_reversal_distance = 0\n",
    "    p_list = [int(s) for s in re.split('[( )]', P)[1:-1]] \n",
    "    for i in range(len(p_list)):\n",
    "        # single flip\n",
    "        if p_list[i] == -(i+1):\n",
    "            p_list[i] *= -1\n",
    "            approx_reversal_distance += 1\n",
    "            #print_list(p_list)\n",
    "        elif p_list[i] != (i+1):\n",
    "            if (i+1) in p_list[i+1:]:\n",
    "                target_index = p_list.index(i+1)\n",
    "                p_list = p_list[:i] + [-s for s in p_list[i:target_index+1][::-1]] + p_list[target_index+1:]\n",
    "                approx_reversal_distance += 1\n",
    "                #print_list(p_list)\n",
    "                p_list[i] *= -1\n",
    "                approx_reversal_distance += 1\n",
    "                #print_list(p_list)\n",
    "            elif -(i+1) in p_list[i+1:]:\n",
    "                target_index = p_list.index(-(i+1))\n",
    "                p_list = p_list[:i] + [-s for s in p_list[i:target_index+1][::-1]] + p_list[target_index+1:]\n",
    "                approx_reversal_distance += 1\n",
    "                #print_list(p_list)\n",
    "    return approx_reversal_distance\n",
    "                "
   ]
  },
  {
   "cell_type": "code",
   "execution_count": 2,
   "metadata": {
    "collapsed": true
   },
   "outputs": [],
   "source": [
    "# find number of breakpoints\n",
    "def breakpoint_num(P):\n",
    "    breakpoints = 0\n",
    "    p_list = [int(s) for s in re.split('[( )]', P)[1:-1]]  \n",
    "    p_list = [0] + p_list + [len(p_list)+1]\n",
    "    for i in range(len(p_list)-1):\n",
    "        if p_list[i+1] != p_list[i] + 1:\n",
    "            breakpoints += 1\n",
    "    return breakpoints\n",
    "    \n",
    "    "
   ]
  },
  {
   "cell_type": "code",
   "execution_count": 108,
   "metadata": {
    "collapsed": true
   },
   "outputs": [],
   "source": [
    "def chromosome_to_cycle(chromosome):\n",
    "    nodes = []\n",
    "    c_list = [int(s) for s in re.split('[( )]', chromosome)[1:-1]] \n",
    "    for i in c_list:\n",
    "        if i > 0:\n",
    "            nodes.append(2*i -1)\n",
    "            nodes.append(2*i)\n",
    "        else:\n",
    "            nodes.append((-2)*i)\n",
    "            nodes.append((-2)*i-1)\n",
    "    nodes_str =  \"(\" + \" \".join([str(s) for s in nodes]) + \")\"\n",
    "    #print(nodes_str)\n",
    "    return nodes"
   ]
  },
  {
   "cell_type": "code",
   "execution_count": 28,
   "metadata": {},
   "outputs": [
    {
     "data": {
      "text/plain": [
       "[7, 8, 9, 10, 12, 11]"
      ]
     },
     "execution_count": 28,
     "metadata": {},
     "output_type": "execute_result"
    }
   ],
   "source": [
    "chromosome_to_cycle('(+4 +5 -6)')"
   ]
  },
  {
   "cell_type": "code",
   "execution_count": 62,
   "metadata": {
    "collapsed": true
   },
   "outputs": [],
   "source": [
    "def cycle_to_chromosome(nodes):\n",
    "    chromosome = []\n",
    "    nodes_list = [int(s) for s in re.split('[( )]', nodes)[1:-1]]  \n",
    "    for i in range(len(nodes_list)//2):\n",
    "        if nodes_list[2*i] < nodes_list[2*i+1]:\n",
    "            chromosome.append(nodes_list[2*i+1]//2)\n",
    "        else:\n",
    "            chromosome.append((-1)*(nodes_list[2*i]//2))\n",
    "    chromosome_str = \"(\" + \" \".join([\"+\"+str(s) if s>0 else str(s) for s in chromosome]) + \")\"\n",
    "    #print(chromosome_str)\n",
    "    return chromosome_str ,chromosome"
   ]
  },
  {
   "cell_type": "code",
   "execution_count": 63,
   "metadata": {},
   "outputs": [
    {
     "data": {
      "text/plain": [
       "('(+1 -2 -3)', [1, -2, -3])"
      ]
     },
     "execution_count": 63,
     "metadata": {},
     "output_type": "execute_result"
    }
   ],
   "source": [
    "cycle_to_chromosome('(1 2 4 3 6 5)')"
   ]
  },
  {
   "cell_type": "code",
   "execution_count": 116,
   "metadata": {
    "collapsed": true
   },
   "outputs": [],
   "source": [
    "def colored_edges(P):\n",
    "    edges = []\n",
    "    # list of chromosomes ex.(+1 -2 -3)(+4 +5 -6) -> [(+1 -2 -3), (+4 +5 -6)]\n",
    "    c_list = [s+\")\" for s in re.split('[)]',P)[:-1]]\n",
    "    for x in c_list:\n",
    "        nodes = chromosome_to_cycle(x) \n",
    "        len_n = len(nodes)\n",
    "        for i in range(1, (len_n//2)+1):\n",
    "            edges.append((nodes[(2*i-1)%len_n], nodes[(2*i)%len_n]))\n",
    "    return edges"
   ]
  },
  {
   "cell_type": "code",
   "execution_count": 121,
   "metadata": {},
   "outputs": [
    {
     "data": {
      "text/plain": [
       "[(2, 4), (3, 8), (7, 5), (6, 1)]"
      ]
     },
     "execution_count": 121,
     "metadata": {},
     "output_type": "execute_result"
    }
   ],
   "source": [
    "colored_edges('(+1 -2 -4 +3)')"
   ]
  },
  {
   "cell_type": "code",
   "execution_count": 40,
   "metadata": {},
   "outputs": [],
   "source": [
    "with open('/home/jeongyeojin/answer.txt', 'w') as f:\n",
    "    for x in result:\n",
    "        f.write(str(x)+\", \")"
   ]
  },
  {
   "cell_type": "code",
   "execution_count": 56,
   "metadata": {},
   "outputs": [
    {
     "data": {
      "text/plain": [
       "[1, 2, 4, 3, 6, 5]"
      ]
     },
     "execution_count": 56,
     "metadata": {},
     "output_type": "execute_result"
    }
   ],
   "source": [
    "colored_edges_to_chromosome([(2, 4), (3, 6), (5, 1)])"
   ]
  },
  {
   "cell_type": "code",
   "execution_count": 64,
   "metadata": {
    "collapsed": true
   },
   "outputs": [],
   "source": [
    "def colored_edges_to_chromosome(edges):\n",
    "    # input : list that contains colored edges\n",
    "    nodes_list = []\n",
    "    for a in edges:\n",
    "        nodes_list.append(a[0])\n",
    "        nodes_list.append(a[1])\n",
    "    nodes_list = nodes_list[len(nodes_list)-1:] + nodes_list[:-1]\n",
    "    return nodes_list\n",
    "\n",
    "def graph_to_genome(genome_graph):\n",
    "    tuple_rx = re.compile(\"\\((\\d+),\\s*(\\d+)\\)\")\n",
    "    nodes_list = [] # input (string) 을 list로 변환\n",
    "    for match in tuple_rx.finditer(genome_graph):\n",
    "        nodes_list.append((int(match.group(1)), int(match.group(2))))\n",
    "    cycle_list = [] # 각 cycle을 담을 list\n",
    "    current_cycle = []\n",
    "    for x in nodes_list: \n",
    "        current_cycle.append(x)\n",
    "        if x[0] > x[1]: # end of cycle\n",
    "            cycle_list.append(current_cycle)\n",
    "            current_cycle = [] # 초기화 for next cycle\n",
    "    result_str = ''\n",
    "    for each_cycle in cycle_list:\n",
    "        input_chromosome = \"(\" + ' '.join([str(x) for x in colored_edges_to_chromosome(each_cycle)]) + \")\"\n",
    "        # input_chromosome ex. (1 2 4 3 6 5)\n",
    "        chromosome_str, _ = cycle_to_chromosome(input_chromosome) # ex. (+1 -2 -3)\n",
    "        result_str += chromosome_str\n",
    "    return result_str"
   ]
  },
  {
   "cell_type": "code",
   "execution_count": 67,
   "metadata": {},
   "outputs": [
    {
     "data": {
      "text/plain": [
       "'(+1 +2 +3 -4 +5 +6 -7 +8 -9 -10 +11 +12 -13 -14 -15 +16 +17 +18 +19 +20 +21)(-22 -23 +24 +25 +26 -27 -28 -29 +30 +31 -32 -33 -34 -35 +36 +37 -38 +39 -40 +41 +42 -43 +44 +45 +46 +47 +48 -49 +50 +51)(-52 -53 -54 +55 -56 +57 -58 -59 -60 +61 -62 +63 +64 +65 +66 -67 +68 -69 -70 +71 -72 +73 +74 +75)(+76 +77 -78 -79 -80 -81 +82 -83 -84 +85 -86 +87 -88 -89 +90 +91 +92 +93 -94 -95 -96 +97 +98 -99 -100 +101 +102)(+103 -104 -105 +106 -107 +108 +109 -110 -111 +112 +113 +114 -115 +116 -117 +118 -119 +120 -121 +122 -123 +124)(-125 -126 +127 -128 -129 -130 -131 +132 -133 -134 +135 +136 +137 +138 +139 -140 -141 +142 +143 +144 -145 -146 +147 +148 +149 +150)(+151 +152 +153 -154 +155 -156 +157 -158 -159 +160 -161 +162 -163 +164 -165 +166 -167 +168 -169 -170 -171 +172 +173)(-174 +175 +176 -177 +178 +179 -180 -181 -182 +183 -184 +185 -186 -187 -188 +189 -190 +191 +192 -193 +194 +195 -196 +197 +198 -199 -200)'"
      ]
     },
     "execution_count": 67,
     "metadata": {},
     "output_type": "execute_result"
    }
   ],
   "source": [
    "graph_to_genome(dna_data[0])"
   ]
  },
  {
   "cell_type": "code",
   "execution_count": 92,
   "metadata": {
    "collapsed": true
   },
   "outputs": [],
   "source": [
    "def two_break_on_genome_graph(genome_graph, i1, i2, i3, i4):\n",
    "    two_break_points = [i1, i2, i3, i4]\n",
    "    tuple_rx = re.compile(\"\\((\\d+),\\s*(\\d+)\\)\")\n",
    "    nodes_list = [] # input (string) 을 list로 변환\n",
    "    new_graph = []\n",
    "    for match in tuple_rx.finditer(genome_graph):\n",
    "        nodes_list.append((int(match.group(1)), int(match.group(2))))\n",
    "    for a in nodes_list:\n",
    "        if a[0] not in two_break_points and a[1] not in two_break_points:\n",
    "            new_graph.append(a)\n",
    "        else: # 없어져야 하는 edge\n",
    "            i_index = two_break_points.index(a[0])\n",
    "            new_edge = (a[0], two_break_points[(i_index+2)%4])\n",
    "            new_graph.append(new_edge)\n",
    "    #new_graph.append((i1, i3))\n",
    "    #new_graph.append((i2, i4))\n",
    "    return \", \".join([str(s) for s in new_graph])"
   ]
  },
  {
   "cell_type": "code",
   "execution_count": 91,
   "metadata": {},
   "outputs": [
    {
     "data": {
      "text/plain": [
       "'(1, 4), (3, 6), (5, 7), (8, 9), (10, 11), (12, 14), (13, 15), (16, 17), (18, 19), (20, 22), (21, 24), (23, 25), (26, 28), (27, 30), (29, 32), (31, 33), (34, 36), (35, 37), (38, 39), (40, 42), (41, 44), (43, 46), (45, 47), (48, 49), (50, 51), (52, 54), (53, 55), (56, 57), (58, 59), (60, 61), (62, 63), (64, 66), (65, 68), (67, 69), (70, 71), (73, 75), (76, 77), (78, 80), (79, 81), (82, 84), (83, 85), (86, 87), (88, 90), (89, 91), (92, 94), (93, 95), (96, 98), (97, 99), (100, 101), (102, 103), (104, 105), (106, 108), (107, 110), (109, 111), (112, 113), (114, 115), (116, 117), (118, 119), (121, 124), (123, 2), (120, 72), (122, 74)'"
      ]
     },
     "execution_count": 91,
     "metadata": {},
     "output_type": "execute_result"
    }
   ],
   "source": [
    "two_break_on_genome_graph(dna_data[0], 120, 122, 72, 74)"
   ]
  },
  {
   "cell_type": "code",
   "execution_count": 134,
   "metadata": {},
   "outputs": [],
   "source": [
    "# ex. (+1 -2 -4 +3), 1, 6, 3, 8 --> (+1 -2)(-3 +4) \n",
    "def two_break_on_genome(P, i1, i2, i3, i4):\n",
    "    # make cycle graph from chromosome \n",
    "    a = colored_edges(P) # make colored edges from sorted P \n",
    "    # a = [(2, 4), (3, 8), (7, 5), (6, 1)]\n",
    "    str_colored_edges = \", \".join([str(s) for s in a]) #make into string (함수에 넣기 위해) \n",
    "    # (2, 4), (3, 8), (7, 5), (6, 1)\n",
    "    changed_edges = two_break_on_genome_graph(str_colored_edges, i1, i2, i3, i4) \n",
    "    # (2, 4), (3, 1), (7, 5), (6, 8)\n",
    "    tuple_rx = re.compile(\"\\((\\d+),\\s*(\\d+)\\)\")\n",
    "    changed_edges_list = [] # input (string) 을 list로 변환\n",
    "    for match in tuple_rx.finditer(changed_edges):\n",
    "        changed_edges_list.append((int(match.group(1)), int(match.group(2))))\n",
    "        # [(2, 4), (3, 1), (7, 5), (6, 8)]\n",
    "    #print(changed_edges_list)\n",
    "    changed_edges_list.sort(key=lambda x: x[0])\n",
    "    changed_graph = \", \".join([str(s) for s in changed_edges_list])\n",
    "    return graph_to_genome(changed_graph)"
   ]
  },
  {
   "cell_type": "code",
   "execution_count": 135,
   "metadata": {},
   "outputs": [
    {
     "name": "stdout",
     "output_type": "stream",
     "text": [
      "[(2, 4), (3, 1), (7, 5), (6, 8)]\n"
     ]
    },
    {
     "data": {
      "text/plain": [
       "'(+1 -2)(+3 -4)'"
      ]
     },
     "execution_count": 135,
     "metadata": {},
     "output_type": "execute_result"
    }
   ],
   "source": [
    "two_break_on_genome('(+1 -2 -4 +3)', 1, 6, 3, 8)"
   ]
  }
 ],
 "metadata": {
  "kernelspec": {
   "display_name": "Python 3",
   "language": "python",
   "name": "python3"
  },
  "language_info": {
   "codemirror_mode": {
    "name": "ipython",
    "version": 3
   },
   "file_extension": ".py",
   "mimetype": "text/x-python",
   "name": "python",
   "nbconvert_exporter": "python",
   "pygments_lexer": "ipython3",
   "version": "3.6.1"
  }
 },
 "nbformat": 4,
 "nbformat_minor": 2
}
