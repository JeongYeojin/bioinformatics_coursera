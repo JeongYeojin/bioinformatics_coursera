{
 "cells": [
  {
   "cell_type": "code",
   "execution_count": 39,
   "metadata": {},
   "outputs": [
    {
     "data": {
      "text/plain": [
       "['6 4',\n",
       " '3 4 3 0 1',\n",
       " '3 1 3 4 0',\n",
       " '2 0 4 1 1',\n",
       " '1 0 1 1 2',\n",
       " '3 2 0 1 3',\n",
       " '1 4 0 1 1',\n",
       " '-',\n",
       " '3 2 0 1',\n",
       " '2 0 2 2',\n",
       " '2 0 4 0',\n",
       " '3 2 2 3',\n",
       " '4 2 2 1',\n",
       " '4 0 0 4',\n",
       " '4 3 2 4']"
      ]
     },
     "execution_count": 39,
     "metadata": {},
     "output_type": "execute_result"
    }
   ],
   "source": [
    "with open('/home/jeongyeojin/dataset_261_10.txt') as f:\n",
    "    dna_data = f.read().split('\\n')[:-1]\n",
    "\n",
    "dna_data"
   ]
  },
  {
   "cell_type": "code",
   "execution_count": 42,
   "metadata": {},
   "outputs": [],
   "source": [
    "# make down & right matrix from dataset \n",
    "test_down = []\n",
    "for i in range(1, 7):\n",
    "    test_down.append([int(s) for s in dna_data[i].split(' ')])\n",
    "test_right = []\n",
    "for i in range(8, 15):\n",
    "    test_right.append([int(s) for s in dna_data[i].split(' ')])"
   ]
  },
  {
   "cell_type": "code",
   "execution_count": 4,
   "metadata": {},
   "outputs": [
    {
     "data": {
      "text/plain": [
       "inf"
      ]
     },
     "execution_count": 4,
     "metadata": {},
     "output_type": "execute_result"
    }
   ],
   "source": [
    "import math\n",
    "math.inf"
   ]
  },
  {
   "cell_type": "code",
   "execution_count": 9,
   "metadata": {
    "collapsed": true
   },
   "outputs": [],
   "source": [
    "def dynamic_change(money, coins):\n",
    "    min_num_coins = [0]*(money+1)\n",
    "    for i in range(1,money+1):\n",
    "        min_num_coins[i] = math.inf\n",
    "        for j in range(len(coins)):\n",
    "            if i >= coins[j]:  # if money > coin[j]\n",
    "                if min_num_coins[i-coins[j]] + 1 < min_num_coins[i]:  # find minimum among 3 \n",
    "                    min_num_coins[i] = min_num_coins[i-coins[j]] + 1\n",
    "    return min_num_coins[money]     "
   ]
  },
  {
   "cell_type": "code",
   "execution_count": 22,
   "metadata": {},
   "outputs": [
    {
     "data": {
      "text/plain": [
       "705"
      ]
     },
     "execution_count": 22,
     "metadata": {},
     "output_type": "execute_result"
    }
   ],
   "source": [
    "dynamic_change(int(dna_data[0]), [int(s) for s in dna_data[1].split(',')])"
   ]
  },
  {
   "cell_type": "code",
   "execution_count": 47,
   "metadata": {
    "collapsed": true
   },
   "outputs": [],
   "source": [
    "# down : down arrow weight matrix, right : right arrow weight matrix \n",
    "def manhattan_tourist(n, m, down, right, diagonal):\n",
    "    s = [[0 for _ in range(m+1)] for _ in range(n+1)]\n",
    "    # fill out first column\n",
    "    for i in range(1,n+1):\n",
    "        s[i][0] = s[i-1][0] +down[i-1][0]\n",
    "    # filll out first row \n",
    "    for j in range(1,m+1):\n",
    "        s[0][j] = s[0][j-1] + right[0][j-1]\n",
    "    # fill out each node \n",
    "    for i in range(1,n+1):\n",
    "        for j in range(1,m+1):\n",
    "            s[i][j] = max(s[i-1][j] + down[i-1][j], s[i][j-1] + right[i][j-1], s[i-1][j-1] + diagonal[i-1][j-1])\n",
    "    return s[n][m]\n",
    "        "
   ]
  },
  {
   "cell_type": "code",
   "execution_count": 49,
   "metadata": {},
   "outputs": [
    {
     "data": {
      "text/plain": [
       "35"
      ]
     },
     "execution_count": 49,
     "metadata": {},
     "output_type": "execute_result"
    }
   ],
   "source": [
    "sample_down = [[1,0,2,4,3],[4,6,5,2,1],[4,4,5,2,1],[5,6,8,5,3]]\n",
    "sample_right = [[3,2,4,0],[3,2,4,2],[0,7,3,3],[3,3,0,2],[1,3,2,2]]\n",
    "sample_diagonal = [[5,0,2,1],[8,4,3,0],[10,8,9,5],[5,6,4,7]]\n",
    "manhattan_tourist(4,4,sample_down,sample_right, sample_diagonal)"
   ]
  }
 ],
 "metadata": {
  "kernelspec": {
   "display_name": "Python 3",
   "language": "python",
   "name": "python3"
  },
  "language_info": {
   "codemirror_mode": {
    "name": "ipython",
    "version": 3
   },
   "file_extension": ".py",
   "mimetype": "text/x-python",
   "name": "python",
   "nbconvert_exporter": "python",
   "pygments_lexer": "ipython3",
   "version": "3.6.1"
  }
 },
 "nbformat": 4,
 "nbformat_minor": 2
}
