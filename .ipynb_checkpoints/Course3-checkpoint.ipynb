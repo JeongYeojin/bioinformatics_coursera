{
 "cells": [
  {
   "cell_type": "code",
   "execution_count": 144,
   "metadata": {},
   "outputs": [
    {
     "data": {
      "text/plain": [
       "['CTAAGCAATTAACAAAGTGTTTATGTCGAGGTGCGGCCAGTCACAGCACTCAGTGCGCATTGTCTTGTCAGAAATTTAGTAGTCGGCGCGTGCATGTATCGACGGTCAAACGTTAGCCTGTTGGGCTGGAATGTGCCCGTAGGGTGTCCCGTTTTGAGAGATTGCCCGTCACTTATTATAGTATGCATTGCCGCTTTGTTCTAAGGCACTCGGGATTGACGAATCCGGCGTCTCGATGTACCCGGCGACCGCACGCGTTGGATAAGTATAGGGATTCGCCAACAGCGCCCGGGGGTGGCTTCCCGAATAATACGAGACGTGGTTCATAAGAACAATGGAGGCTGGGCGGTACGAGGGGCAGAGGTTTATTCATCTCGCGTACCCAACTAATGCTAGCGTGGGCACTTACTCGCAACCCTAACAAGGTACCCAGTGGAGCCCTCGCAGGAGTCTGGCATTTCTGGAGCGGTGCGGCCGATGAATTGAGAGGAATTAAGCACACTGCGCTCATCACCTACGTTCGCTATGCGAGTCTTCATCTACGACTAATCCGTTGCGACACTACCACGCTGCTCGCACGAGGCATACTTGGTCACATACGTCGGGCTGCGTAGTTTTTGGCGCTACCATCTGAAGCACAACCCAGCTATGCTTATATTGGGGAGCCATCTAGATGAAAGAGGACGGTTTGTTATAGGTGCTACGCCGTCCTTGGGGCATTACACCGCAGTGTCCCGCTGTTGTCCGCTATCTAGGACGTCAAAGAGCGACGGAATCGACAGAACTGAGCAAACGGCGGTGAGCCATGCTTTATGGCAAATGTTGTCAGAGCGGGTGATCGCCGCATAAGTCTACGGTCGCTATTCCGGCTACGCAATCATTCGATGTGTTACGGACACCCAATCGACTTAAGGAGGCCCATGCTAGTGCG',\n",
       " 'TAATTGGTGCACGCCGTCCTCGCGCATACGCCCCTTTCCCGCTATTGTGGTGTCTAGGACTGTTGATGAACCGGGGGACTGGTAAGAACCCGACAGACGGGCGGTATGCCATGCTTATGCAAATCTAGTCAGGACGTGGTATTATGCGCATGAGTCTACGTTCGCCTCTTGACCTAATGCGATGCCTCGCCGGCTACTGAACCCCCCATCAATTGGAAAGGCCCCTGCTAATTGAAGCATCAGGGGCTGGGCTTGATGCGCTAACGCCGTCTTAAAGAGTCAGTTACAATCTGGTTACTCTAATGCTCGCCAAGATAATTATGCGATCTTCCCGTAACGACCGAGAACGGGGAACTTAACAAGCTTTATTGGCACGGTGACTAGGGATCTTCCATGCGCATTGCAGGACCGAAGCTCGGCACGTCGACTAAGTAAGTTGCGCCTGGGGCCCTAAGCCACATCTAGCAAAAGGAACGTAGGGAACGGGGCACACTCGAAACGCACGCCTGCAGTCCCAAACTTGGTAGCATATTATTGTGATCCGTCTCCACAGAACGATGGTAAGGCCACTGGGGTAGTTCACGGACTCGATGTGTACCTCATCGCTTTGCTGGGTGTACCTGACGCCCGTCGATTTACCCTGGCAAATATCAGCCACCGGCGGAAGCGTAGACTAACGGTAAAAATCATACCCCGGAGTGTGATATGACTCACCTCAACGCGAGATCCGACTCATCAGAAGCTCCGGAAAATTCTCCATCACAGTGACGGTGGGCCTAAGGACCTAGGAACAGCCGATACCTCGTCACCATACGCACCACATTATTAATGGCCATTTCAAAACGTTAGAGAAACCTCTACATAAGCTGCTTCAGGTCGTCGAAACCTCCGAAGGCCCAACGCGCTACCAGTTTGAGCCGCCAGAGCTGCTCCTGTGCCACACTGACCCGCCTGCCGGGTG',\n",
       " '']"
      ]
     },
     "execution_count": 144,
     "metadata": {},
     "output_type": "execute_result"
    }
   ],
   "source": [
    "with open('/home/jeongyeojin/dataset_248_7.txt') as f:\n",
    "    dna_data = f.read().split('\\n')\n",
    "\n",
    "dna_data\n"
   ]
  },
  {
   "cell_type": "code",
   "execution_count": 151,
   "metadata": {
    "collapsed": true
   },
   "outputs": [
    {
     "data": {
      "text/plain": [
       "[[2, -2, 0, 0, -3, 1, -1, -1, -1, -2, -1, 0, 1, 0, -2, 1, 1, 0, -6, -3],\n",
       " [-2,\n",
       "  12,\n",
       "  -5,\n",
       "  -5,\n",
       "  -4,\n",
       "  -3,\n",
       "  -3,\n",
       "  -2,\n",
       "  -5,\n",
       "  -6,\n",
       "  -5,\n",
       "  -4,\n",
       "  -3,\n",
       "  -5,\n",
       "  -4,\n",
       "  0,\n",
       "  -2,\n",
       "  -2,\n",
       "  -8,\n",
       "  0],\n",
       " [0, -5, 4, 3, -6, 1, 1, -2, 0, -4, -3, 2, -1, 2, -1, 0, 0, -2, -7, -4],\n",
       " [0, -5, 3, 4, -5, 0, 1, -2, 0, -3, -2, 1, -1, 2, -1, 0, 0, -2, -7, -4],\n",
       " [-3, -4, -6, -5, 9, -5, -2, 1, -5, 2, 0, -3, -5, -5, -4, -3, -3, -1, 0, 7],\n",
       " [1, -3, 1, 0, -5, 5, -2, -3, -2, -4, -3, 0, 0, -1, -3, 1, 0, -1, -7, -5],\n",
       " [-1, -3, 1, 1, -2, -2, 6, -2, 0, -2, -2, 2, 0, 3, 2, -1, -1, -2, -3, 0],\n",
       " [-1, -2, -2, -2, 1, -3, -2, 5, -2, 2, 2, -2, -2, -2, -2, -1, 0, 4, -5, -1],\n",
       " [-1, -5, 0, 0, -5, -2, 0, -2, 5, -3, 0, 1, -1, 1, 3, 0, 0, -2, -3, -4],\n",
       " [-2, -6, -4, -3, 2, -4, -2, 2, -3, 6, 4, -3, -3, -2, -3, -3, -2, 2, -2, -1],\n",
       " [-1, -5, -3, -2, 0, -3, -2, 2, 0, 4, 6, -2, -2, -1, 0, -2, -1, 2, -4, -2],\n",
       " [0, -4, 2, 1, -3, 0, 2, -2, 1, -3, -2, 2, 0, 1, 0, 1, 0, -2, -4, -2],\n",
       " [1, -3, -1, -1, -5, 0, 0, -2, -1, -3, -2, 0, 6, 0, 0, 1, 0, -1, -6, -5],\n",
       " [0, -5, 2, 2, -5, -1, 3, -2, 1, -2, -1, 1, 0, 4, 1, -1, -1, -2, -5, -4],\n",
       " [-2, -4, -1, -1, -4, -3, 2, -2, 3, -3, 0, 0, 0, 1, 6, 0, -1, -2, 2, -4],\n",
       " [1, 0, 0, 0, -3, 1, -1, -1, 0, -3, -2, 1, 1, -1, 0, 2, 1, -1, -2, -3],\n",
       " [1, -2, 0, 0, -3, 0, -1, 0, 0, -2, -1, 0, 0, -1, -1, 1, 3, 0, -5, -3],\n",
       " [0, -2, -2, -2, -1, -1, -2, 4, -2, 2, 2, -2, -1, -2, -2, -1, 0, 4, -6, -2],\n",
       " [-6, -8, -7, -7, 0, -7, -3, -5, -3, -2, -4, -4, -6, -5, 2, -2, -5, -6, 17, 0],\n",
       " [-3, 0, -4, -4, 7, -5, 0, -1, -4, -1, -2, -2, -5, -4, -4, -3, -3, -2, 0, 10]]"
      ]
     },
     "execution_count": 151,
     "metadata": {},
     "output_type": "execute_result"
    }
   ],
   "source": [
    "sc_mt = []\n",
    "for a in dna_data[1:]:\n",
    "    sc_mt.append([int(s) for s in a.split(' ')[1:] if s != ''])\n",
    "sc_mt"
   ]
  },
  {
   "cell_type": "code",
   "execution_count": 1,
   "metadata": {
    "collapsed": true
   },
   "outputs": [
    {
     "ename": "NameError",
     "evalue": "name 'dna_data' is not defined",
     "output_type": "error",
     "traceback": [
      "\u001b[0;31m---------------------------------------------------------------------------\u001b[0m",
      "\u001b[0;31mNameError\u001b[0m                                 Traceback (most recent call last)",
      "\u001b[0;32m<ipython-input-1-2fd9544752b8>\u001b[0m in \u001b[0;36m<module>\u001b[0;34m()\u001b[0m\n\u001b[1;32m      2\u001b[0m \u001b[0mtest_down\u001b[0m \u001b[0;34m=\u001b[0m \u001b[0;34m[\u001b[0m\u001b[0;34m]\u001b[0m\u001b[0;34m\u001b[0m\u001b[0m\n\u001b[1;32m      3\u001b[0m \u001b[0;32mfor\u001b[0m \u001b[0mi\u001b[0m \u001b[0;32min\u001b[0m \u001b[0mrange\u001b[0m\u001b[0;34m(\u001b[0m\u001b[0;36m1\u001b[0m\u001b[0;34m,\u001b[0m \u001b[0;36m7\u001b[0m\u001b[0;34m)\u001b[0m\u001b[0;34m:\u001b[0m\u001b[0;34m\u001b[0m\u001b[0m\n\u001b[0;32m----> 4\u001b[0;31m     \u001b[0mtest_down\u001b[0m\u001b[0;34m.\u001b[0m\u001b[0mappend\u001b[0m\u001b[0;34m(\u001b[0m\u001b[0;34m[\u001b[0m\u001b[0mint\u001b[0m\u001b[0;34m(\u001b[0m\u001b[0ms\u001b[0m\u001b[0;34m)\u001b[0m \u001b[0;32mfor\u001b[0m \u001b[0ms\u001b[0m \u001b[0;32min\u001b[0m \u001b[0mdna_data\u001b[0m\u001b[0;34m[\u001b[0m\u001b[0mi\u001b[0m\u001b[0;34m]\u001b[0m\u001b[0;34m.\u001b[0m\u001b[0msplit\u001b[0m\u001b[0;34m(\u001b[0m\u001b[0;34m' '\u001b[0m\u001b[0;34m)\u001b[0m\u001b[0;34m]\u001b[0m\u001b[0;34m)\u001b[0m\u001b[0;34m\u001b[0m\u001b[0m\n\u001b[0m\u001b[1;32m      5\u001b[0m \u001b[0mtest_right\u001b[0m \u001b[0;34m=\u001b[0m \u001b[0;34m[\u001b[0m\u001b[0;34m]\u001b[0m\u001b[0;34m\u001b[0m\u001b[0m\n\u001b[1;32m      6\u001b[0m \u001b[0;32mfor\u001b[0m \u001b[0mi\u001b[0m \u001b[0;32min\u001b[0m \u001b[0mrange\u001b[0m\u001b[0;34m(\u001b[0m\u001b[0;36m8\u001b[0m\u001b[0;34m,\u001b[0m \u001b[0;36m15\u001b[0m\u001b[0;34m)\u001b[0m\u001b[0;34m:\u001b[0m\u001b[0;34m\u001b[0m\u001b[0m\n",
      "\u001b[0;31mNameError\u001b[0m: name 'dna_data' is not defined"
     ]
    }
   ],
   "source": [
    "# make down & right matrix from dataset \n",
    "test_down = []\n",
    "for i in range(1, 7):\n",
    "    test_down.append([int(s) for s in dna_data[i].split(' ')])\n",
    "test_right = []\n",
    "for i in range(8, 15):\n",
    "    test_right.append([int(s) for s in dna_data[i].split(' ')])"
   ]
  },
  {
   "cell_type": "code",
   "execution_count": 2,
   "metadata": {},
   "outputs": [
    {
     "data": {
      "text/plain": [
       "inf"
      ]
     },
     "execution_count": 2,
     "metadata": {},
     "output_type": "execute_result"
    }
   ],
   "source": [
    "import math\n",
    "math.inf"
   ]
  },
  {
   "cell_type": "code",
   "execution_count": 3,
   "metadata": {
    "collapsed": true
   },
   "outputs": [],
   "source": [
    "def dynamic_change(money, coins):\n",
    "    min_num_coins = [0]*(money+1)\n",
    "    for i in range(1,money+1):\n",
    "        min_num_coins[i] = math.inf\n",
    "        for j in range(len(coins)):\n",
    "            if i >= coins[j]:  # if money > coin[j]\n",
    "                if min_num_coins[i-coins[j]] + 1 < min_num_coins[i]:  # find minimum among 3 \n",
    "                    min_num_coins[i] = min_num_coins[i-coins[j]] + 1\n",
    "    return min_num_coins[money]     "
   ]
  },
  {
   "cell_type": "code",
   "execution_count": 4,
   "metadata": {
    "collapsed": true
   },
   "outputs": [],
   "source": [
    "# down : down arrow weight matrix, right : right arrow weight matrix \n",
    "def manhattan_tourist(n, m, down, right, diagonal):\n",
    "    s = [[0 for _ in range(m+1)] for _ in range(n+1)]\n",
    "    # fill out first column\n",
    "    for i in range(1,n+1):\n",
    "        s[i][0] = s[i-1][0] +down[i-1][0]\n",
    "    # filll out first row \n",
    "    for j in range(1,m+1):\n",
    "        s[0][j] = s[0][j-1] + right[0][j-1]\n",
    "    # fill out each node \n",
    "    for i in range(1,n+1):\n",
    "        for j in range(1,m+1):\n",
    "            s[i][j] = max(s[i-1][j] + down[i-1][j], s[i][j-1] + right[i][j-1], s[i-1][j-1] + diagonal[i-1][j-1])\n",
    "    return s[n][m]\n",
    "        "
   ]
  },
  {
   "cell_type": "code",
   "execution_count": 5,
   "metadata": {},
   "outputs": [
    {
     "data": {
      "text/plain": [
       "35"
      ]
     },
     "execution_count": 5,
     "metadata": {},
     "output_type": "execute_result"
    }
   ],
   "source": [
    "sample_down = [[1,0,2,4,3],[4,6,5,2,1],[4,4,5,2,1],[5,6,8,5,3]]\n",
    "sample_right = [[3,2,4,0],[3,2,4,2],[0,7,3,3],[3,3,0,2],[1,3,2,2]]\n",
    "sample_diagonal = [[5,0,2,1],[8,4,3,0],[10,8,9,5],[5,6,4,7]]\n",
    "manhattan_tourist(4,4,sample_down,sample_right, sample_diagonal)"
   ]
  },
  {
   "cell_type": "code",
   "execution_count": 6,
   "metadata": {
    "collapsed": true
   },
   "outputs": [],
   "source": [
    "def alphabetical_index(alphabet):\n",
    "    alphabet_dict = {'A':0,'C':1,'D':2,'E':3,'F':4,'G':5,'H':6,'I':7,'K':8,'L':9,'M':10,'N':11,'P':12,\n",
    "                    'Q':13,'R':14,'S':15,'T':16,'V':17,'W':18,'Y':19}\n",
    "    return alphabet_dict[alphabet]"
   ]
  },
  {
   "cell_type": "code",
   "execution_count": 7,
   "metadata": {
    "collapsed": true
   },
   "outputs": [],
   "source": [
    "def lcs_backtrack(v, w, indel_penalty, scoring_matrix):\n",
    "    len_v = len(v)\n",
    "    len_w =len(w)\n",
    "    s = [[0 for _ in range(len_w+1)] for _ in range(len_v+1)]  # stores score \n",
    "    # fill out the first column, in this case 등차수열 w/ d = - sigma (indel penalty)\n",
    "    for i in range(1, len_v+1):\n",
    "        s[i][0] = (-5)*(i)\n",
    "    # fill out the first row, in this case 등차수열 w/ d = - sigma (indel penalty)\n",
    "    for j in range(1, len_w+1):\n",
    "        s[0][j] = (-5)*(j)\n",
    "    backtrack = [[0 for _ in range(len_w+1)] for _ in range(len_v+1)]\n",
    "    # fill out the first column\n",
    "    for i in range(1, len_v+1):\n",
    "        backtrack[i][0] = -1\n",
    "    # fill out the first row,\n",
    "    for j in range(1, len_w+1):\n",
    "        backtrack[0][j] = 1\n",
    "    for i in range(1, len_v+1):\n",
    "        for j in range(1, len_w+1):\n",
    "            match = scoring_matrix[alphabetical_index(v[i-1])][alphabetical_index(w[j-1])]\n",
    "            s[i][j] = max(s[i-1][j] - indel_penalty, s[i][j-1] - indel_penalty, s[i-1][j-1] + match)\n",
    "            #backtrack - deletion : -1, insertion : 1, match : 0, mismatch : 2\n",
    "            if s[i][j] == (s[i-1][j] - indel_penalty):\n",
    "                backtrack[i][j] = -1\n",
    "            elif s[i][j] == (s[i][j-1] - indel_penalty):\n",
    "                backtrack[i][j] = 1\n",
    "            elif s[i][j] == s[i-1][j-1] + match and v[i-1] == w[j-1]:\n",
    "                backtrack[i][j] = 0\n",
    "            elif s[i][j] == s[i-1][j-1] + match and v[i-1] != w[j-1]:\n",
    "                backtrack[i][j] = 2 \n",
    "    return backtrack"
   ]
  },
  {
   "cell_type": "code",
   "execution_count": 8,
   "metadata": {
    "collapsed": true
   },
   "outputs": [],
   "source": [
    "def output_lcs(backtrack, v, i, j):\n",
    "    if i == 0 or j == 0:\n",
    "        return\n",
    "    if backtrack[i][j] == -1:\n",
    "        output_lcs(backtrack, v, i-1, j)\n",
    "    elif backtrack[i][j] == 1:\n",
    "        output_lcs(backtrack, v, i, j-1)\n",
    "    else:\n",
    "        output_lcs(backtrack, v, i-1, j-1)\n",
    "        print(v[i])    "
   ]
  },
  {
   "cell_type": "code",
   "execution_count": 9,
   "metadata": {
    "collapsed": true
   },
   "outputs": [],
   "source": [
    "def output_lcs_wo_recursion(backtrack, v, i, j):\n",
    "    lcs = ''\n",
    "    while i >=0 and j >= 0 :\n",
    "        if backtrack[i][j] == 0:\n",
    "            lcs += v[i]\n",
    "            i -= 1\n",
    "            j -= 1\n",
    "        elif backtrack[i][j] == -1:\n",
    "            i -= 1\n",
    "        else:\n",
    "            j -= 1\n",
    "    return lcs[::-1]"
   ]
  },
  {
   "cell_type": "code",
   "execution_count": 10,
   "metadata": {
    "collapsed": true
   },
   "outputs": [],
   "source": [
    "def output_global_alignment(v, w, indel_penalty, scoring_matrix):\n",
    "    backtrack = lcs_backtrack(v, w, indel_penalty, scoring_matrix)\n",
    "    v_align = ''\n",
    "    w_align = ''\n",
    "    score = 0\n",
    "    i = len(v) \n",
    "    j = len(w) \n",
    "    while not (i <= 0 and j <= 0):\n",
    "        if backtrack[i][j] == 0: # match (red)\n",
    "            v_align += v[i-1]\n",
    "            w_align += w[j-1]\n",
    "            score += scoring_matrix[alphabetical_index(v[i-1])][alphabetical_index(w[j-1])]\n",
    "            i -=1\n",
    "            j -=1\n",
    "        elif backtrack[i][j] == -1: # deletion (green)\n",
    "            v_align += v[i-1]\n",
    "            w_align += '-'\n",
    "            score -= indel_penalty\n",
    "            i -= 1\n",
    "        elif backtrack[i][j] == 1: # insertion (blue)\n",
    "            v_align += '-'\n",
    "            w_align += w[j-1]\n",
    "            score -= indel_penalty\n",
    "            j -= 1\n",
    "        else: # mismatch (purple)\n",
    "            v_align += v[i-1]\n",
    "            w_align += w[j-1]\n",
    "            score += scoring_matrix[alphabetical_index(v[i-1])][alphabetical_index(w[j-1])]\n",
    "            i -= 1\n",
    "            j -= 1\n",
    "\n",
    "    return score, v_align[::-1], w_align[::-1]#[-(len(w)+1):]\n",
    "            "
   ]
  },
  {
   "cell_type": "code",
   "execution_count": 146,
   "metadata": {},
   "outputs": [
    {
     "data": {
      "text/plain": [
       "(2054,\n",
       " 'RSYCWMANPMLYFCGYCQTHERKCAAHPAFLISQATIKYAQNEMQTSVPRLLVVQEYLHNKHMMFKP-Q--PCIYDFNCTRRCGQFWETVMCIMTKRLVPAKNI-W-R-YN-KNH-N-RA-DS-KWEC-MVQ-SSARVNRWRCFW---HLNYETKEITMCPSANWLYVMRLDFDMYQSMHKKTQQAG--W--V---DLCNWSFNKDVQVGICKYGVSIQFACYPYQIFS-------W-TVRLM--H--IP-GNS-SH-AYH-GGRSCFIYLSNYMVFSIF----R--------T-KDEKGHHELDQWWRFIFWFPRVVTEGPPLMMVSNYSPWAAWLRWAMV-IYAPWFTIVRELMSSTVAALGKVPWNCVDETCH----ATT--T--CR-C-W----CTRTG-----VGGEADGTQMEWQHAKECRDDSRQRQYLKGVACTTE-C----E-HLYHIPCQI----Q-VQEQHSEKKAWW--IQCPSCMHGDKTMKTAGGRPSM-CKMETN-VWFVDFYRCQWQFSSSWPRMNAKLATPTSFIESVEPPRSPFD-I--F-DTQHGINDLSMTRKLPRVHCTMGAAVIDNYGLP--DRIAQHRFPEETASDPRALVFHHKTIE---F--KEYMSRGTPWHSSNRADWWTHCIQQGCDDSVDISHIWDTSVTSFVIKILKCTLDGDKGGPVIDGSEMSMCILAEPKKETDIPHDAAMDYVKTSQCSKGTAWKWGSTDYMHHRKGEVRYCGMKCCGPMANCHW-F-QDIYCW---S--QDHADQDEPVMMYTGLKDNHPPGLRSHGIHDFRSIQHCEQIGYHPYQMSTCVFKCCCNHGE--H---RWHSIADHVQKKHYPWMEV--D-F--WPRERWYEAVAAVVCWMAGEAGGRDGNKELPKHKTMTESSTHTRWGNIYDEWCRPYLGPFSYG--------ITWWISFT----E-TEDQMQSKCEICG',\n",
       " 'RSYCWAANPM-G-C-LVSFFLYFCG-Y-CH--ER--IKYAQNEMQTSVPRYLHCHQS-HNCSS-YAPLQNWPCIYDFNCTRRCGK-W--VMCIMTKRLVPAKNMNYYACHSFKNHRNDRVWNIVEMEPQMVKIPSRRVNRWRCFWIFMQLNYETKEITMSPLDSD-YQSR-D--V--N-HKKTQQAGYVWTFMRWGDLCNWSFNKDVQVGICKYGVSIQVACYPYQIGSDALINETMGTVRLMSSHTTIFWAFSWPKITFHVGGRSGFIYLSNYMVFSIFWTWMKVFCPNNAPSYKDEKGHHELDQWWRFIFWFPG----GPPLMCVSNYSPWAAQLRWAMVQCYAPWFT-----MSSTVAALGKVPWNCVDETCHEVNGATCLFNEGCATCRWIPSLCTRTNDEAERVGGEADG--MEWQHAKECRDDSRQRQYLKFCADTTEFSYFPTKMHLYHIPCQLMMTWELVQEQHSAIK-WLKKIQSPSCMNGRKT-NT-N-KMELGWEMISNMVWFA--YH----LSTPDPN-RCQWATDPSFIVSVEPPRSPFDFIPNYPDTQHGSNP-E-TRKLPRVHCTMQAAV-RAYQ-PWAQHLSLSMFPAESAM--YIDVFHHKTIECNGWQTKEYMSRGTPWW---RHDTG-HC---GCDDS--LN-IY-C----FYYQI-S-HI-WDTS--TIDGSEMSMCILAEPKKET-------MD-----QCSKGNAWKWGSFDYMHHRKGEVDYCGMKECGPMANCHWQLCQDIYCWYIESKPQDHADQDPPVVMYTGCKWLQYWWLQ-HPIHDFRSIQHCEQIGYHPYQMSTFVFKVCCNHGEFNYYSNRWHSIADHV---HYPWMEMLRDVFTFWQRERWYEAVAAVVCWMAGEAGGRDGN-------T--ESST--RWQNIYDEWCRPYLGPFSYPFLLHLTLWITWWISFVKMKKEETEDQIQSKCEEFG')"
      ]
     },
     "execution_count": 146,
     "metadata": {},
     "output_type": "execute_result"
    }
   ],
   "source": [
    "output_global_alignment(dna_data[0],dna_data[1], 5, sc_mt)"
   ]
  },
  {
   "cell_type": "code",
   "execution_count": 11,
   "metadata": {
    "collapsed": true
   },
   "outputs": [],
   "source": [
    "import math\n",
    "\n",
    "def lcs_backtrack_local(v, w, indel_penalty, scoring_matrix):\n",
    "    len_v = len(v)\n",
    "    len_w =len(w)\n",
    "    s = [[0 for _ in range(len_w+1)] for _ in range(len_v+1)]  # stores score \n",
    "    # fill out the first column, in this case 등차수열 w/ d = - sigma (indel penalty)\n",
    "    for i in range(1, len_v+1):\n",
    "        s[i][0] = (-5)*(i)\n",
    "    # fill out the first row, in this case 등차수열 w/ d = - sigma (indel penalty)\n",
    "    for j in range(1, len_w+1):\n",
    "        s[0][j] = (-5)*(j)\n",
    "    backtrack = [[0 for _ in range(len_w+1)] for _ in range(len_v+1)]\n",
    "    # fill out the first column\n",
    "    for i in range(1, len_v+1):\n",
    "        backtrack[i][0] = -1\n",
    "    # fill out the first row,\n",
    "    for j in range(1, len_w+1):\n",
    "        backtrack[0][j] = 1\n",
    "    for i in range(1, len_v+1):\n",
    "        for j in range(1, len_w+1):\n",
    "            match = scoring_matrix[alphabetical_index(v[i-1])][alphabetical_index(w[j-1])]\n",
    "            s[i][j] = max(0, s[i-1][j] - indel_penalty, s[i][j-1] - indel_penalty, s[i-1][j-1] + match)\n",
    "            #backtrack - deletion : -1, insertion : 1, match : 0, mismatch : 2\n",
    "            if s[i][j] == (s[i-1][j] - indel_penalty):\n",
    "                backtrack[i][j] = -1\n",
    "            elif s[i][j] == (s[i][j-1] - indel_penalty):\n",
    "                backtrack[i][j] = 1\n",
    "            elif s[i][j] == s[i-1][j-1] + match and v[i-1] == w[j-1]:\n",
    "                backtrack[i][j] = 0\n",
    "            elif s[i][j] == s[i-1][j-1] + match and v[i-1] != w[j-1]:\n",
    "                backtrack[i][j] = 2 \n",
    "            elif s[i][j] == 0:\n",
    "                backtrack[i][j] = 3 # 0 edge\n",
    "    # find sink source in s matrix\n",
    "    max_score = -(math.inf)\n",
    "    for i in range(len_v+1):\n",
    "        for j in range(len_w+1):\n",
    "            if s[i][j] > max_score:\n",
    "                max_score = s[i][j]\n",
    "                sink_n = i\n",
    "                sink_m = j\n",
    "    return backtrack, (sink_n, sink_m)"
   ]
  },
  {
   "cell_type": "code",
   "execution_count": 12,
   "metadata": {
    "collapsed": true
   },
   "outputs": [
    {
     "ename": "NameError",
     "evalue": "name 'sc_mt' is not defined",
     "output_type": "error",
     "traceback": [
      "\u001b[0;31m---------------------------------------------------------------------------\u001b[0m",
      "\u001b[0;31mNameError\u001b[0m                                 Traceback (most recent call last)",
      "\u001b[0;32m<ipython-input-12-fdeb78493d9c>\u001b[0m in \u001b[0;36m<module>\u001b[0;34m()\u001b[0m\n\u001b[0;32m----> 1\u001b[0;31m \u001b[0mlcs_backtrack_local\u001b[0m\u001b[0;34m(\u001b[0m\u001b[0;34m'MEANLY'\u001b[0m\u001b[0;34m,\u001b[0m\u001b[0;34m'PENALTY'\u001b[0m\u001b[0;34m,\u001b[0m\u001b[0;36m5\u001b[0m\u001b[0;34m,\u001b[0m\u001b[0msc_mt\u001b[0m\u001b[0;34m)\u001b[0m\u001b[0;34m\u001b[0m\u001b[0m\n\u001b[0m",
      "\u001b[0;31mNameError\u001b[0m: name 'sc_mt' is not defined"
     ]
    }
   ],
   "source": [
    "lcs_backtrack_local('MEANLY','PENALTY',5,sc_mt)"
   ]
  },
  {
   "cell_type": "code",
   "execution_count": 13,
   "metadata": {
    "collapsed": true
   },
   "outputs": [],
   "source": [
    "def output_local_alignment(v, w, indel_penalty, scoring_matrix):\n",
    "    backtrack, (sink_n, sink_m) = lcs_backtrack_local(v, w, indel_penalty, scoring_matrix)\n",
    "    v_align = ''\n",
    "    w_align = ''\n",
    "    score = 0\n",
    "    i = sink_n\n",
    "    j = sink_m\n",
    "    reached_free_point = False\n",
    "    while not reached_free_point:\n",
    "        if backtrack[i][j] == 0: # match (red)\n",
    "            v_align += v[i-1]\n",
    "            w_align += w[j-1]\n",
    "            score += scoring_matrix[alphabetical_index(v[i-1])][alphabetical_index(w[j-1])]\n",
    "            i -=1\n",
    "            j -=1\n",
    "        elif backtrack[i][j] == -1: # deletion (green)\n",
    "            v_align += v[i-1]\n",
    "            w_align += '-'\n",
    "            score -= indel_penalty\n",
    "            i -= 1\n",
    "        elif backtrack[i][j] == 1: # insertion (blue)\n",
    "            v_align += '-'\n",
    "            w_align += w[j-1]\n",
    "            score -= indel_penalty\n",
    "            j -= 1\n",
    "        elif backtrack[i][j] == 2: # mismatch (purple)\n",
    "            v_align += v[i-1]\n",
    "            w_align += w[j-1]\n",
    "            score += scoring_matrix[alphabetical_index(v[i-1])][alphabetical_index(w[j-1])]\n",
    "            i -= 1\n",
    "            j -= 1\n",
    "        else: # 0 edge (3)\n",
    "            reached_free_point = True\n",
    "\n",
    "    return score, v_align[::-1], w_align[::-1]#[-(len(w)+1):]\n",
    "            "
   ]
  },
  {
   "cell_type": "code",
   "execution_count": 187,
   "metadata": {
    "collapsed": true
   },
   "outputs": [],
   "source": [
    "t_1 = 'AMTAFRYRQGNPRYVKHFAYEIRLSHIWLLTQMPWEFVMGIKMPEDVFQHWRVYSVCTAEPMRSDETYEQKPKPMAKWSGMTIMYQAGIIRQPPRGDRGVSDRNYSQCGKQNQAQLDNNPTWTKYEIEWRVQILPPGAGVFEGDNGQNQCLCPNWAWEQPCQWGALHSNEQYPNRIHLWAPMSKLHIKIEKSSYNRNAQFPNRCMYECEFPSYREQVDSCHYENVQIAFTIFSGAEQKRKFCSCHFWSNFIDQAVFSTGLIPWCYRRDDHSAFFMPNWNKQYKHPQLQFRVAGEGTQCRPFYTREMFTKVSAWRIAGRFAGPYERHHDAHLELWYQHHKVRTGQQLGIIWNNRDKTRNPCPFSAYYNKLPWWKINQNAFYNCLQNIAHSTHDETHEFNPVKCIDWLQGTMVPTECKKGFVHEKCECYRNPGPPLHDMYHQMEDIFGVRFDCLTGWKHLSDYNPCQERRNINDFYIFAYEIAPAVKNLVLSPQPLADATKKCAFNYTPLDQSPVVIACKWYIHQPICMLLIVLICAMDKYNAHMIVIRTTEGQQPMHACRMTEGPGMCMKEPLVTFTLPAQWQWPNHEFKYVYMYVLNYHLSQYTYTDEGHAGGQHYSFNVAVDVGMAWGHNRCYCQPACYSQQETQTRTIDYEKWQYMKHQAFKWGLWFCEQERHAWFKGQNRCEMFTAKMTRMGADSNLDQYKLMLAQNYEEQWEQPIMECGMSEIIEIDPPYRSELIFTFWPFCTYSPWQNLIKCRCNNVIEEMDQCVPLTFIGFGVKQAGGIQAWAFYKEEWTSTYYLMCQCMKSDKAQYPYEIILFWMQPMDTGEQEPPQQNMWIFLPHSWFFDWCCNAPWSEICSSRHDHGQCQDAFYPCELFTVFDDIFTAEPVVCSCFYDDPM'\n",
    "t_2 = 'WQEKAVDGTVPSRHQYREKEDRQGNEIGKEFRRGPQVCEYSCNSHSCGWMPIFCIVCMSYVAFYCGLEYPMSRKTAKSQFIEWCDWFCFNHWTNWAPLSIVRTSVAFAVWGHCWYPCGGVCKTNRCKDDFCGRWRKALFAEGPRDWKCCKNDLQNWNPQYSQGTRNTKRMVATTNQTMIEWKQSHIFETWLFCHVIIEYNWSAFWMWMNRNEAFNSIIKSGYPKLLLTQYPLSQGSTPIVKPLIRRDQGKFWAWAQMWWFREPTNIPTADYCHSWWQSRADLQNDRDMGPEADASFYVEFWYWVRCAARTYGQQLGIIWNNRLKTRNPCPYSADGIQNKENYVFWWKNMCTKSHIAFYYCLQNVAHYTHDVTAEFNPVKCIDWLQGHMVLSSWFKYNTECKKLFVHEKCECYRMFCGVVEDIFGVRFHTGWKHLSTAKPVPHVCVYNPSVQERRNINDFYIFYEIAPAVKNLVLSAQPLHDYTKKCAFNYTPITITRIISTRNQIIWAHVVIACQFYSPHQMLLIELAMDKYCADMNVRRSTEGHQPMHACRSTFGPGMAAKEPLVTFTLVAFWQWPNHEFQYVYMYTEDKIIQIGPHLSNGCEMVEYCVDCYAKRPCYRAYSAEAQYWRMITEAEDYSYKTRNAIAATATVRGQYCHPFRWLGIVWMAHHDCFFANECGTICIPQMAEMRPPETTPYEIDIIFMMFWKEHMSTTILDVVGMYRPATFSHWHDAHHQCEPYLTPLMCQSKLVFDAAFTQVGVKGVWYHTEKLELMAGFNHMKFKKEEAQQSCFYWFQDCPDYDPPDAVRKTDEKHIRAHGEIWWLMRYYCMYHILHIASRHEWMHLRWDQACTNPGYELFEFIPWVLRRYVVYDKIRYNYSYRNSASMEFV'"
   ]
  },
  {
   "cell_type": "code",
   "execution_count": 189,
   "metadata": {},
   "outputs": [
    {
     "data": {
      "text/plain": [
       "(1062,\n",
       " 'TIMYQAGIIRQPPRGD-RGVSDRNYSQCGKQ-NQ-AQLDNNPTWTKYEIEWRVQI-LPPGAGVFEGDNGQNQCLCPNW--A-W-EQPCQW----GALHS-NEQYPNRIHLWAPMSKLHIKIEKSSYN-RNAQ-FPNRCMYECE-FPSY-REQVDSCHYENVQIAF-TIFSGAEQKRKFCSCHFWSNFIDQAVFSTGLI-PWCYRRDDHSAFFMPNWNKQ--YKHPQLQFRVAGEGTQCRPFYTREMFTKVSAWRIAGRFAGPYERHHDAHLELWY-QHHKVRT-GQQLGIIWNNRDKTRNPCPFSAY-Y-NK--LP-WWK-I-NQ-N-AFYNCLQNIAHSTHDETHEFNPVKCIDWLQGTMV-P------TECKKGFVHEKCECYRNPGPPLHDMYHQMEDIFGVRFDCLTGWKHLS------D---YNPC-QERRNINDFYIFAYEIAPAVKNLVLSPQPLADATKKCAFNYTPLDQSPVVIACK---WYIHQPI-CMLL----IVLIC-AMDKYNAHMIVIRTTEGQQPMHACRMTEGPGMCMKEPLVTFTLPAQWQWPNHEFKYVYMYVLNYHLSQYTYTDEGHAGGQHYSFNVAVDVGMAWGHNRCYCQPACYSQQETQTRTIDYEKWQYMKHQAFKWGLWFCEQER-HA--WFKGQNRCEMFTAKMTRMGADSNLDQYKLMLAQNYEEQWEQPIMECGMSEIIEIDPPYRSELIFTFWPFCTYSPWQNLIKCRCNNVIEEMDQCVP-LTF-IGFGVKQAGGIQA-WAFYKE--EWTSTYYLMCQCMKSDKAQYPYEIILFWMQ--P-MDTGE--QEPPQQNMWIFLPHSWFFDWCCNAPWSEICSSRHD--H---GQ-CQDAFYPCELFTVF',\n",
       " 'GLEY-P-MSRKTAKSQFIEWCDW-F--CFNHWTNWAPLSIVRTSVAFAV-W-GHCWYPCG-GVCKTNRCKDD-FCGRWRKALFAEGPRDWKCCKNDLQNWNPQYSQGTR--NTK-RMVATTNQTMIEWKQSHIFETW-LF-CHVIIEYNWSAF-W-MWMNRNEAFNSIIKSGYPKLLL-T-QY-P-L-SQG--STPIVKPL-IRRD-QGKFW-A-WAQMWWFREPT-NIPTA-D-Y-CHSW--WQ--SR-ADLQ-NDRDMGP-EADASFYVEFWYWVRCAARTYGQQLGIIWNNRLKTRNPCPYSADGIQNKENYVFWWKNMCTKSHIAFYYCLQNVAHYTHDVTAEFNPVKCIDWLQGHMVLSSWFKYNTECKKLFVHEKCECYRM----FCGV---VEDIFGVRFH--TGWKHLSTAKPVPHVCVYNPSVQERRNINDFYIF-YEIAPAVKNLVLSAQPLHDYTKKCAFNYTPITITRIISTRNQIIW-AHVVIACQFYSPHQMLLIELAMDKYCADMNVRRSTEGHQPMHACRSTFGPGMAAKEPLVTFTLVAFWQWPNHEFQYVYMYTED-KIIQIG-PHLSN-GCEMVEYCVDC-YAK-RPCYRAYSAEAQYWRMITEAEDYSYKTRNAIAATATVRGQ-YCHPFRWLGIVWM-AHHDC-FFANECGTICI-PQMAEMRPPETTPYEI--DIIFMMF-WKE--HMSTTIL-DVVGMYRP-ATFSHWHDAHH-QCEPYLTPL-MCQSKLVFDAAFT--QVG-VKGVW-YHTEKLELMAGFNHM-K-FKKEEAQ---QSCFYWFQDCPDYDPPDAVRKTDEKHIRAHGEIWWLMRYYCMYHILHI-ASRHEWMHLRWDQACTNPGY--ELFE-F')"
      ]
     },
     "execution_count": 189,
     "metadata": {},
     "output_type": "execute_result"
    }
   ],
   "source": [
    "output_local_alignment(t_1, t_2, 5, sc_mt)"
   ]
  },
  {
   "cell_type": "code",
   "execution_count": 191,
   "metadata": {},
   "outputs": [
    {
     "data": {
      "text/plain": [
       "(1151,\n",
       " 'LVSE-R--PRRVFEKHYYNAGSLWPIKYMNCNSTIP--HYEVPHGFEK-KKLCQQQIIDMMW--M-----WTSM-WQ-FHSSPVPAAWPSW-LLGVY-FISERGLNRSDREWCMG-GVKTGNTHHV-F-VDMH-AWCFEPLTRLQPRLADLVD-WVAVVDCTRPASDVVAAQYI-DVHDNTYDIIPDNKL-ATND-H-M-L-DACMQ--H-ILN-ARHQMY--CYKYW-LDCC---WTPVHIRYYKYSAHVNHYWYPC-K--KPGRLYNQDGFTRAFNSVDGE-KRM-FPAG-GLTC-DE-E-LNVSLLCVTNPIPS-YSECNMFSICMREMDLAFMSLFG-Q-------NFS--H------RHWQFVEQPNGVVLARMASEEGQWWWAQLNPIWEVH-S-AKEDRIMCMSFRNCCDYTCK-QT-LN--E-N--A-C-REHF--IH-THCLW--------CQVI--G------TTLLWKAFKEP-HYTNKNCDMEEIRTFRCCDGCWQNPMHPTG-GL---TG--LPECEKKTFVGSKLNGPSADYLMLCMVGMTTCIYGGGTGIPREKQNRYWTKVSERWKMYCMGFELFKTCNSNDNTCLAARNKQRCQPLFKVFIYLEHNPVLRFKLEHRPLWGTSQ--QVMQ---E-----IACMTSTDDGAFWSSILKLVRTVNHSMKYRGPMWFTCNPCSYTAHEKCSTDMIDFFGSSFPQ-G-WLNIPTHYDCDNAREP-FRCVHENMAENNY-G-DQ--MEHSHKNNWRHVVCLPGWAYIINMCTCCIPFDVSADDVGSHAPLWQQQTWIFMQYPLWVEVMDLTCPLAQPMCE-IVQ-PHYRWRSGYHNHRYHC-MI-IQTGAIRPYSDDNV--GFTTIKPDQVMWYFTFRDSGNGGINRTSVKHCNCYLVD-SSQPANATICMHSWEMPHIA---LEWMTVF---PKVKFYKWLSF--CH--NNR-RYGLLKYWNDRMPMCVEVTPIWSGIILI-RSWIVADTWQENISMTNQSECPKPT-W',\n",
       " 'LVQHVRMEPATVYHK-CTEVMWFWHDKYVH-HYAIPSGDNQTEWSFEVWHMLCNT-CF-MFWHGLSGLPPWDCLDWGWLHFTPNMYVSHEWRMMSQCTFHYYVAM--CQW-WVMELQEETGWYPSVGFNIQPDESRANQKL-QL-P-IG-MIDCWAMQITYSYGWGQVSWPQCGGNIYGSRWECISKFTVCKTQPMHQRSLTNAKMNLGHNVYNMPSHEMIARC-NCVEMTTCKMIWTPRNEKQTSCNNEEHHNNNCCIKYGNPGNMIHWNLWMYIFDENDEACWHLCFPQGMKRGCYVERQWVTNPIKGVLQKIIDLYSECNMFSICMREMDHAMMSLFGFQMLQGVPYNFSVMDKIIAGMRHWQFVEQPNLVVLAR-------WSWAQDNPIWEVRINNAQQPRFMPMKFRNCCYYTCKPDAEINRFQPHSDADCLNENACRVDFTHCLWGEMWNELWAQVIPWAIPNWHPTTALWKATKEPKNCPMHKIESYNIRTFRCCDGGWQVDFQSTEMPMRMMAPQYLPECEKRTFVGSKLNGP-------CMVGETTCIYGGATGIPRGKGNRYWKKVSERWKMYCMGFELFKTHNSNDTTCLAARNWQRCQPLFKVFICL-----L--KLEHIPLWGTSQTWDFMQAIPDDNYHNIACMTSTDDG---SSISALVTTVNHSMKYRGPMWFTCNPCS-SPLILC-VEREPFL-RNHRQVDCWCDETNKVVHGVSMVPTYR-VYNYGCYIQYFPWIRYPLEGS-RYGWP-IV-HKTWR-LCDKVGPQVTWKLMTYKCHGTDP--KEPP-MIPTNNV-NQYAYLRCP-SQ-MIERIMMWDKDIWW-G-R-LRYVCDVLQLQTKNVCTF-DHPIKCDFSN-SPHQ----FQYHDADRGASLTNCATGVTMILWDYRSWAEWQKF--WTWAMDYIAGYQMRWWDYFGTQPPTKVHASVQYRQCKWWITPGRYNSV--WEHILDGIREVIQMWM-FYMRGRCW--GG-W-EPVT-TYYYKAPHHVRW')"
      ]
     },
     "execution_count": 191,
     "metadata": {},
     "output_type": "execute_result"
    }
   ],
   "source": [
    "output_local_alignment(dna_data[0],dna_data[1], 5, sc_mt)"
   ]
  },
  {
   "cell_type": "code",
   "execution_count": 14,
   "metadata": {
    "collapsed": true
   },
   "outputs": [],
   "source": [
    "def adjency_list_to_dict(adjency_list):\n",
    "    adjency_dict = defaultdict(list)\n",
    "    for x in adjency_list:\n",
    "        start, ends = x[0], x[1]\n",
    "        adjency_dict[start].append(ends)\n",
    "    return adjency_dict\n",
    "\n",
    "from collections import Counter\n",
    "from collections import defaultdict\n",
    "\n",
    "# return list that contains indegree and outdegree of each vertex\n",
    "def adjency_list_degree_list(adjency_list):\n",
    "    adjency_dict = adjency_list_to_dict(adjency_list)\n",
    "    degree_list = defaultdict(list)\n",
    "    indegree_count = Counter([x for a in adjency_dict.values() for x in a])\n",
    "    for x in adjency_dict.keys():\n",
    "        degree_list[x].append(len(adjency_dict[x]))\n",
    "        degree_list[x].append(indegree_count[x])\n",
    "    \n",
    "    end_points = set([x for a in adjency_dict.values() for x in a])\n",
    "    start_points = set(adjency_dict.keys())\n",
    "    no_outgoing_points = end_points.difference(start_points)\n",
    "    \n",
    "    for a in no_outgoing_points:\n",
    "        degree_list[a].append(0)\n",
    "        degree_list[a].append(indegree_count[a])\n",
    "    \n",
    "    return degree_list"
   ]
  },
  {
   "cell_type": "code",
   "execution_count": 15,
   "metadata": {
    "collapsed": true
   },
   "outputs": [],
   "source": [
    "def remove_no_indegree_path(adjency_list, path_data, start):\n",
    "\n",
    "    degree_list = adjency_list_degree_list(adjency_list)\n",
    "  \n",
    "    # remove data that has no indegree \n",
    "    real_path_data = {}\n",
    "    for x in path_data.keys():\n",
    "        if degree_list[x[0]][1] != 0 or x[0] == start:\n",
    "            real_path_data[x] = path_data[x]\n",
    "    \n",
    "    return real_path_data"
   ]
  },
  {
   "cell_type": "code",
   "execution_count": 16,
   "metadata": {
    "collapsed": true
   },
   "outputs": [],
   "source": [
    "import re \n",
    "from collections import defaultdict\n",
    "from collections import Counter\n",
    "\n",
    "def longest_path_dag(data, start, end):\n",
    "    \n",
    "    path_data = {}\n",
    "    adjency_list = []\n",
    "    for x in data:\n",
    "        splitted = re.split('[->:]+', x)\n",
    "        path_tuple = (splitted[0],splitted[1])\n",
    "        path_data[path_tuple] = splitted[2]   # dictionary - key : tuple, value : weight \n",
    "        adjency_list.append(path_tuple) # list - path tuples \n",
    "    #print(adjency_list)\n",
    "    \n",
    "    # remove all nodes that have in-degrees equals to 0 but is not the start node,\n",
    "    # until the sole node has in-degree equals 0 is the start node \n",
    "    only_sole_node_is_start_node = False\n",
    "    while not only_sole_node_is_start_node:\n",
    "        real_path_data = remove_no_indegree_path(adjency_list, path_data, start)\n",
    "        new_paths = []\n",
    "        for x in real_path_data.keys():\n",
    "            new_paths.append(x)\n",
    "        \n",
    "        path_data = real_path_data\n",
    "        adjency_list = new_paths\n",
    "        #print(new_paths)\n",
    "        d_list = adjency_list_degree_list(adjency_list)\n",
    "        indegree_zero_nodes = [a for a in d_list.keys() if d_list[a][1] == 0]\n",
    "        if len(indegree_zero_nodes) == 1:\n",
    "            only_sole_node_is_start_node = True\n",
    "\n",
    "    best_path = []\n",
    "    best_path_score = 0\n",
    "    \n",
    "    did_it_reached_start = False\n",
    "    while not did_it_reached_start:\n",
    "        \n",
    "        last_edges = [a for a in list(path_data.keys()) if a[1] == end]\n",
    "        #print(last_edges)\n",
    "        \n",
    "        best_edge = max(last_edges, key= lambda x : path_data[x]) \n",
    "        #print(best_edge)\n",
    "        \n",
    "        best_path.append(best_edge)\n",
    "        #print(best_path)\n",
    "        best_path_score += int(path_data[best_edge])\n",
    "        if best_edge[0] == start:\n",
    "            did_it_reached_start = True\n",
    "        end = best_edge[0]\n",
    "    \n",
    "    real_best_path = best_path[::-1]\n",
    "    answer = []\n",
    "    answer.append(str(real_best_path[0][0]))\n",
    "    answer.append(str(real_best_path[0][1]))\n",
    "    \n",
    "    for i in range(1,len(real_best_path)):\n",
    "        answer.append(str(real_best_path[i][1]))\n",
    "    \n",
    "    return '->'.join(answer), best_path_score\n",
    "        \n",
    "    \n",
    "    \n",
    "    \n",
    "    "
   ]
  },
  {
   "cell_type": "code",
   "execution_count": 110,
   "metadata": {},
   "outputs": [
    {
     "data": {
      "text/plain": [
       "('3->21->26', 32)"
      ]
     },
     "execution_count": 110,
     "metadata": {},
     "output_type": "execute_result"
    }
   ],
   "source": [
    "longest_path_dag(dna_data[2:], '3', '26')"
   ]
  },
  {
   "cell_type": "code",
   "execution_count": 111,
   "metadata": {},
   "outputs": [
    {
     "data": {
      "text/plain": [
       "('a->d->e->g', 13)"
      ]
     },
     "execution_count": 111,
     "metadata": {},
     "output_type": "execute_result"
    }
   ],
   "source": [
    "test_path = ['a -> b: 5','a -> c: 6','a->d:5','b->c:2','b->f:4','c->e:4','c->f:3','c->g:5','d->e:6','d->f:8','e->g:2','f->g:1']\n",
    "longest_path_dag(test_path,'a','g')"
   ]
  },
  {
   "cell_type": "code",
   "execution_count": 26,
   "metadata": {},
   "outputs": [],
   "source": [
    "# 이해 안되면 그림으로 볼것. 결국 dag 문제 방식임\n",
    "def edit_distance(source, target):\n",
    "    if len(source) < len(target):\n",
    "        return edit_distance(target, source)\n",
    "\n",
    "    # len(source) >= len(target)\n",
    "    if len(target) == 0:\n",
    "        return len(source)\n",
    "    \n",
    "    previous_column = range(len(target)+1) # 사실상 first column \n",
    "    for i, c1 in enumerate(source):\n",
    "        current_column = [i+1]\n",
    "        for j, c2 in enumerate(target):\n",
    "            insertions = previous_column[j+1] + 1 # j+1 instead of j since previous_row and current_row\n",
    "                                                               # are one character longer\n",
    "                                                                # -> \n",
    "            deletions = current_column[j] + 1 # than target  # downward \n",
    "            substitutions = previous_column[j] + (c1 != c2)  # c1 != c2 : cost \n",
    "            current_column.append(min(insertions, deletions, substitutions))\n",
    "            #print(previous_column, current_column)\n",
    "        previous_column = current_column\n",
    "    \n",
    "    return previous_column[-1]"
   ]
  },
  {
   "cell_type": "code",
   "execution_count": 28,
   "metadata": {},
   "outputs": [
    {
     "data": {
      "text/plain": [
       "326"
      ]
     },
     "execution_count": 28,
     "metadata": {},
     "output_type": "execute_result"
    }
   ],
   "source": [
    "edit_distance(dna_data[0], dna_data[1])"
   ]
  },
  {
   "cell_type": "code",
   "execution_count": 86,
   "metadata": {
    "collapsed": true
   },
   "outputs": [],
   "source": [
    "import math\n",
    "\n",
    "def lcs_backtrack_best_fitting(v, w, indel_penalty=1):\n",
    "    len_v = len(v)\n",
    "    len_w = len(w)\n",
    "    s = [[0 for _ in range(len_w+1)] for _ in range(len_v+1)]  # stores score \n",
    "    # fill out the first column, in this case 등차수열 w/ d = - sigma (indel penalty)\n",
    "    for i in range(1, len_v+1):\n",
    "        s[i][0] = 0  # free taxi ride has to start from source of second string (any position in first column)\n",
    "    # fill out the first row, in this case 등차수열 w/ d = - sigma (indel penalty)\n",
    "    for j in range(1, len_w+1):\n",
    "        s[0][j] = (-(indel_penalty))*(j)\n",
    "    backtrack = [[0 for _ in range(len_w+1)] for _ in range(len_v+1)]\n",
    "    # fill out the first column\n",
    "    for i in range(1, len_v+1):\n",
    "        backtrack[i][0] = -1\n",
    "    # fill out the first row,\n",
    "    for j in range(1, len_w+1):\n",
    "        backtrack[0][j] = 1\n",
    "    for i in range(1, len_v+1):\n",
    "        for j in range(1, len_w+1):\n",
    "            if v[i-1] == w[j-1]:\n",
    "                match = 1\n",
    "            else:\n",
    "                match = -(indel_penalty)\n",
    "            s[i][j] = max(s[i-1][j] - indel_penalty, s[i][j-1] - indel_penalty, s[i-1][j-1] + match)\n",
    "            #backtrack - deletion : -1, insertion : 1, match : 0, mismatch : 2\n",
    "            if s[i][j] == (s[i-1][j] - indel_penalty):\n",
    "                backtrack[i][j] = -1\n",
    "            elif s[i][j] == (s[i][j-1] - indel_penalty):\n",
    "                backtrack[i][j] = 1\n",
    "            elif s[i][j] == s[i-1][j-1] + match and v[i-1] == w[j-1]:\n",
    "                backtrack[i][j] = 0\n",
    "            elif s[i][j] == s[i-1][j-1] + match and v[i-1] != w[j-1]:\n",
    "                backtrack[i][j] = 2 \n",
    "    # find sink source in s matrix\n",
    "    max_score = -(math.inf)\n",
    "    for i in range(len_v+1):\n",
    "        if s[i][-1] > max_score:\n",
    "            max_score = s[i][-1]\n",
    "            sink_n = i\n",
    "    return backtrack, sink_n"
   ]
  },
  {
   "cell_type": "code",
   "execution_count": 80,
   "metadata": {
    "collapsed": true
   },
   "outputs": [],
   "source": [
    "def output_best_fitting(v, w, indel_penalty=1):\n",
    "    backtrack, sink_n  = lcs_backtrack_best_fitting(v, w)\n",
    "    v_align = ''\n",
    "    w_align = ''\n",
    "    score = 0\n",
    "    i = sink_n\n",
    "    j = len(w)\n",
    "    while j > 0:\n",
    "        if backtrack[i][j] == 0: # match (red)\n",
    "            v_align += v[i-1]\n",
    "            w_align += w[j-1]\n",
    "            score += 1\n",
    "            i -=1\n",
    "            j -=1\n",
    "        elif backtrack[i][j] == -1: # deletion (green)\n",
    "            v_align += v[i-1]\n",
    "            w_align += '-'\n",
    "            score -= indel_penalty\n",
    "            i -= 1\n",
    "        elif backtrack[i][j] == 1: # insertion (blue)\n",
    "            v_align += '-'\n",
    "            w_align += w[j-1]\n",
    "            score -= indel_penalty\n",
    "            j -= 1\n",
    "        elif backtrack[i][j] == 2: # mismatch (purple)\n",
    "            v_align += v[i-1]\n",
    "            w_align += w[j-1]\n",
    "            score -= 1\n",
    "            i -= 1\n",
    "            j -= 1\n",
    "        #print(j)\n",
    "    return score, v_align[::-1], w_align[::-1]\n",
    "            "
   ]
  },
  {
   "cell_type": "code",
   "execution_count": 145,
   "metadata": {},
   "outputs": [
    {
     "data": {
      "text/plain": [
       "(-361,\n",
       " 'TA-TGTCGAGGTGCG-GCCAGTCACAGCACTCAGTGCGCATTGTCTTGTCA-GAAATT-TAGTAGTC--GG-CGCGT-GCATGTATCG----AC-GGTCA-AAC--GTTAGCCTGTTGGGCTGGAATGTGCCCGTAGGGTGTCCCGTTTTG-AGAGAT-T-GCCCGTCAC-T--TATTATAGTATGCATTGCCG-CTTTGTTCTAAGGCACTCGGGA--T--TGACGAAT-CCG-GC-GTCT-CGATGTACCCGGCGACCG-CACGCGTTGGATAAGTA---TAGGGA-TTCGCCAACAGCGCCCGGGGGTGG-CTTCC--CGAATAATACGAGACGTGGTTCATAAGAA-CAATGG-AGGCTGGG--CGGTACGAGGG--GC-AGAGGT--TTATTC-ATCT-CGCGTACCCAACTAATGCTAGCGTGGGCACTTACTCGCAACCCTAA----CAAGGT-ACCCAGTGGAGCCCTCGCAGGAGTCTGGCATTTCTGGAGCG--G-TGCGGC-CGAT-GAATTGAGAGGAA-TTAAGCACACTGCG-CTCATCA-CCTACGT-TCGCTAT-GCGAGTCTTCATC-TACGACTAATCCGTTGCGACACTACCACGCTGCTCGCACGAGGCATACTTGGTCACATACGTCGGGCT-GCGTAGTTTTTGGCGCTACCATCTGAAGCACAACCCA-GCTATG-CTTATATTGGGG-AG--C-C--ATCTAGATGAAAG-AGG--A-CGGTTTGTTATAGGTGCTAC--GCCGTCCTTGGGGCATT-ACACC-G-CAG-TGTC--CCGCTGTTGTCCGC-TAT-CTAGGACG-TCAAAGAGCG-AC---GGAATC-GACA-GAACTGAGCA-AACGGCG-G-T--GAGC-CATGCTTTA--T--GGCAAATGT-TG--TCAGAGCG--GGTGATCGCCGCATAAGT-C-TACGGT-C-GCT-ATTCCG-G-C----TACGCAATCATTCGATGTGTTAC-GGACACC-CAAT-CGACTTA-AGGAGGCC-CATGC-TA-G-TGCG',\n",
       " 'TAAT-T-G-G-TGCACGCC-GTC-CT-CGCGCA-TACGCCC---CTT-TCCCGCTATTGTGGT-GTCTAGGACT-GTTG-ATGAACCGGGGGACTGGTAAGAACCCGACAGAC-G--GG-C-GGTATG--CC---A---TG-C---TTATGCA-A-ATCTAGTCAGG-ACGTGGTATTAT-GC--GCAT-GA-GTCTACGTTC---G-C-CTCTTGACCTAATG-CGA-TGCCTCGCCGGCTAC--TGAACCC--C--CCATCAA---TTGGA-AAGGCCCCT-GCTAATT-G--AA--GCATCAGGGGCTGGGCTTGATGCGC-TAA--CGC--CGTC-TT-A-AAGAGTCAGTTACAATCTGGTTACTCTA--ATGCTCGCCA-AGATAATTATGCGATCTTCCCGTAACGACCGA--GA-A-CG-GGGAACTTAA-C--AAGCTTTATTGGCACGGTGACT-AG-GGATCT-TC-CATG---C-G-CATTGCAGGACCGAAGCT-CGGCACG-TCGACT--A-AGTAAGTT--GCGC-CTGGGGCCC-TAAGCC-ACATCTAGCAAAAG-GA------A-CGTAGGG--AA-CGGG-GC-ACACT-CGAAAC-GCACGC-CT-G-CA-----G-TCCCAAACTT-GG--TAGCATA-TTATTGT-GAT-CCGTCTCCA-CAGAACG-ATGGTAAGGCC-AC-T-GGGGTAGTTCACGGA-CTCGATGT--GTACCTCATCGCTTTGCTG--GGTG-TACCTGACGCCCGTCG---ATTTAC-CCTGGCAAATATCAGCCACCGGCGGAAGCGTAGACTA--ACGGTAAAA-ATCATACCCCGGAGTGTGATATGA-CTCACCTCAACG-CGAGATCCGA-CTCAT-CAGAAGCTCCGGAAAAT-TCTCCATCACAGTGACGGTGG--GCC---TAAGGACCTA-GGAACAGCCGATACCTCGTCACCATACGCAC-CA--C-AT-TATTAATGGCCATTTCAAAACG--TTAGAGAAA-CCTC-TACATAAGCTGCT')"
      ]
     },
     "execution_count": 145,
     "metadata": {},
     "output_type": "execute_result"
    }
   ],
   "source": [
    "output_overlap_fitting(dna_data[0], dna_data[1], 2)"
   ]
  },
  {
   "cell_type": "code",
   "execution_count": 169,
   "metadata": {
    "collapsed": true
   },
   "outputs": [],
   "source": [
    "def lcs_backtrack_overlap_fitting(v, w, indel_penalty=1):\n",
    "    len_v = len(v)\n",
    "    len_w = len(w)\n",
    "    s = [[0 for _ in range(len_w+1)] for _ in range(len_v+1)]  # stores score \n",
    "    # fill out the first column\n",
    "    for i in range(1, len_v+1):\n",
    "        s[i][0] = 0  # free taxi ride has to start from source of second string (any position in first column)\n",
    "    # fill out the first row\n",
    "    for j in range(1, len_w+1):\n",
    "        s[0][j] = (-(indel_penalty))*(j)\n",
    "    backtrack = [[0 for _ in range(len_w+1)] for _ in range(len_v+1)]\n",
    "    # fill out the first column\n",
    "    for i in range(1, len_v+1):\n",
    "        backtrack[i][0] = -1\n",
    "    # fill out the first row,\n",
    "    for j in range(1, len_w+1):\n",
    "        backtrack[0][j] = 1\n",
    "    for i in range(1, len_v+1):\n",
    "        for j in range(1, len_w+1):\n",
    "            if v[i-1] == w[j-1]:\n",
    "                match = 1\n",
    "            else:\n",
    "                match = -(indel_penalty)\n",
    "            s[i][j] = max(s[i-1][j] - indel_penalty, s[i][j-1] - indel_penalty, s[i-1][j-1] + match)\n",
    "            #backtrack - deletion : -1, insertion : 1, match : 0, mismatch : 2\n",
    "            if s[i][j] == (s[i-1][j] - indel_penalty):\n",
    "                backtrack[i][j] = -1\n",
    "            elif s[i][j] == (s[i][j-1] - indel_penalty):\n",
    "                backtrack[i][j] = 1\n",
    "            elif s[i][j] == s[i-1][j-1] + match and v[i-1] == w[j-1]:\n",
    "                backtrack[i][j] = 0\n",
    "            elif s[i][j] == s[i-1][j-1] + match and v[i-1] != w[j-1]:\n",
    "                backtrack[i][j] = 2 \n",
    "    # find sink source in s matrix\n",
    "    max_score = -(math.inf)\n",
    "    for i in range(len_w+1): # 0 ~ len_w\n",
    "        if s[-1][i] > max_score:\n",
    "            max_score = s[-1][i]\n",
    "            sink_w = i\n",
    "    return backtrack, sink_w"
   ]
  },
  {
   "cell_type": "code",
   "execution_count": 188,
   "metadata": {
    "collapsed": true
   },
   "outputs": [],
   "source": [
    "def output_overlap_fitting(v, w, indel_penalty=1):\n",
    "    backtrack, sink_w = lcs_backtrack_overlap_fitting(v, w)\n",
    "    v_align = ''\n",
    "    w_align = ''\n",
    "    score = 0\n",
    "    i = len(v)\n",
    "    j = sink_w\n",
    "    print(sink_w)\n",
    "    while j > 0:\n",
    "        if backtrack[i][j] == 0: # match (red)\n",
    "            v_align += v[i-1]\n",
    "            w_align += w[j-1]\n",
    "            score += 1\n",
    "            i -=1\n",
    "            j -=1\n",
    "        elif backtrack[i][j] == -1: # deletion (green)\n",
    "            v_align += v[i-1]\n",
    "            w_align += '-'\n",
    "            score -= indel_penalty\n",
    "            i -= 1\n",
    "        elif backtrack[i][j] == 1: # insertion (blue)\n",
    "            v_align += '-'\n",
    "            w_align += w[j-1]\n",
    "            score -= indel_penalty\n",
    "            j -= 1\n",
    "        elif backtrack[i][j] == 2: # mismatch (purple)\n",
    "            v_align += v[i-1]\n",
    "            w_align += w[j-1]\n",
    "            score -= indel_penalty\n",
    "            i -= 1\n",
    "            j -= 1\n",
    "    return score, v_align[::-1], w_align[::-1]\n"
   ]
  },
  {
   "cell_type": "code",
   "execution_count": 189,
   "metadata": {},
   "outputs": [
    {
     "name": "stdout",
     "output_type": "stream",
     "text": [
      "3\n"
     ]
    },
    {
     "data": {
      "text/plain": [
       "(1, 'HEAE', 'HEA-')"
      ]
     },
     "execution_count": 189,
     "metadata": {},
     "output_type": "execute_result"
    }
   ],
   "source": [
    "output_overlap_fitting('PAWHEAE','HEAGAWGHEE', 2)"
   ]
  },
  {
   "cell_type": "code",
   "execution_count": 190,
   "metadata": {},
   "outputs": [
    {
     "name": "stdout",
     "output_type": "stream",
     "text": [
      "905\n"
     ]
    },
    {
     "data": {
      "text/plain": [
       "(-376,\n",
       " 'TA-TAAGAA-TAAACCAC-T-A----GAT--CACCT---C-CGGCTCGCTCACTCCTGATCATGGTTCGTGCTAAC-ATCGCGCCGCGCTGAC-GCCGAATCGTTCG-TAGGAGACA--AGTCGACGACC-TC--ATCTACA-G-GC--A---A-------A--AGTTAAATTAGCTCTCG-G---C-TAG-ATG--T-GA--CAA-TCG-GAAC-C-CT--GCA--C-C-C-TGCGTAATAGGGTAAATAGTCGGGAG-TT-GATGCA-CACA-CCTAG-AT-A--TTGGCTGAATGAC-AGACTGC-CAT--TCCTGCA---CTG-GAAAGTAGAGTG-CATATGTTT-C---G-T---GAGAT-TATGCAG--G-CTC-TACGGTTA-TACTG--GGC--TCCAC-GG-ATTCG-ACCGGT-ACTGTTG--ATTGAAGACT-CTTC-TA---TAGAGGCTCTAAC-C-GCGG-AGGCCGCAACCAATCGACA-ATGAA-GCACCCGTCG-TCG-GTATCG-TTGGG-AAGGACGACACCGTAAGGG-CAGACTT-TATCG-TGA-C-CCGTCTGCTTG-CTAGAAAAGCCCTGGCGTTTGTA-C----AACGTCCGTG-CA----GAAT-TA-GC-GTTTTTCTCAG-GAAAGA-T--G--A-GGGG-GTTGATCATCAT----CTCGTT-TCGCAC--GGGTCA-AGCGCATT-TTCCT-ACTGTTTTGGACACAGTACGTCTTCCA-CTGATCTCATACGGACATTACCAG-CACCCTT-TTGTACCTG-TCGTAACTT-GT--GC-CATTCTAGGCCCGTTTT--CACTTGC---GC-TT--ATGA---TCA-TGGTTCCG--C-TGATCT-ATATGGGCCGGGTAGGGCACTCCCAGATGAAGGGGAGTAATGGTAGCCGGATCCAAGTGACGCGCCCTAGCGGCTCCGGAGTTTGATA-GACGTCGTGCTATGGAGCGTTGGAGCGA--CAACGCGC-TCGTGCTC-TGGAAGGTCGCTGCTG-ATCCGTAA',\n",
       " 'TACTG-GTCCTGACCCACCTCACTTTGATGTCCCCTTTTCTCGTTT-GCGCA-TCAAGATC-TGGCCCG--C-AACTATTG-GCCG---TGAAAGGC-ACTCAT-CAATAA-AGACAGTACTC-ACG-CGGTCGGATCCAAATGCGCGCACCGAGCGGCCCAGGAGTTGA-T-AGCG-TCGAGTAACCTATTAGGACTCGAGGCAACTCGCG--CTCTCTCAGGAGGCTCGCCTGC-TAGTCCG-TGAAC-GACGG-ATCTTTGGTGCTGC-CTTCCTATCATGACATTGCCT-AATAACGAG-CGGCACCTACTCC--CAGGTCTTTGAAGG--GA-TGGC-T-TGTTTACCCCGATTCCGAGAAATA-G-AGATGACTCCTAAGGA-AGTAATGAAGGAAGTTCAGTGGTATGGGTATCGTTTAGT-TTGCCAGGGA-GATTGCC-CATAACCTA-AGTCCCTAATACAGCAGTAGATCTCA-CCA-TAGATGTAGGAAAGCACA-GT-GATTTAG-A-CGCTTAGCCAAATACAA-AG-G-AATGTACCCCCTCCTAACACTGAGCACCG-CTTATTTACTAGTATA-CTCAGA-GTGTGGAGCGCTGAACGTT-GTGTCAACAAGAACATAAGCCG-----C-C-GTGAATGAATTTGTGAAGGGGAGT-GATCATGGTTTTACTCGTGGTAG-ATTTGGG-CAGAAC-C-TGATTCCTCAC-GTGT-G-A-AT-GTAA-T-TGA-AGCTGA-CTCCCAC--ACAT-AC-AGGCACGATTCTTTTAGATGAT-GTT--TTAGGAAGCGCATT-T---C--GTATTAACACT-GCCTTGCATTTGATAACCATCACTTGTTCATTACATGATCCCATA-GGGCCGTGTTGTT-ACTTTC-G-TGTT----AGTC--G--AGCAG--T--A--TGAC-CACCTTTTCGGCGC-----TT-GATATG-C--C-T-CAA-G-A-CGT-G---CGATTCAA-G-GAATCAAACAAATG-AACGCCGCA-CTGGAT--G-A-')"
      ]
     },
     "execution_count": 190,
     "metadata": {},
     "output_type": "execute_result"
    }
   ],
   "source": [
    "ol_1 = 'GCTATAAGAATAAACCACTAGATCACCTCCGGCTCGCTCACTCCTGATCATGGTTCGTGCTAACATCGCGCCGCGCTGACGCCGAATCGTTCGTAGGAGACAAGTCGACGACCTCATCTACAGGCAAAAGTTAAATTAGCTCTCGGCTAGATGTGACAATCGGAACCCTGCACCCTGCGTAATAGGGTAAATAGTCGGGAGTTGATGCACACACCTAGATATTGGCTGAATGACAGACTGCCATTCCTGCACTGGAAAGTAGAGTGCATATGTTTCGTGAGATTATGCAGGCTCTACGGTTATACTGGGCTCCACGGATTCGACCGGTACTGTTGATTGAAGACTCTTCTATAGAGGCTCTAACCGCGGAGGCCGCAACCAATCGACAATGAAGCACCCGTCGTCGGTATCGTTGGGAAGGACGACACCGTAAGGGCAGACTTTATCGTGACCCGTCTGCTTGCTAGAAAAGCCCTGGCGTTTGTACAACGTCCGTGCAGAATTAGCGTTTTTCTCAGGAAAGATGAGGGGGTTGATCATCATCTCGTTTCGCACGGGTCAAGCGCATTTTCCTACTGTTTTGGACACAGTACGTCTTCCACTGATCTCATACGGACATTACCAGCACCCTTTTGTACCTGTCGTAACTTGTGCCATTCTAGGCCCGTTTTCACTTGCGCTTATGATCATGGTTCCGCTGATCTATATGGGCCGGGTAGGGCACTCCCAGATGAAGGGGAGTAATGGTAGCCGGATCCAAGTGACGCGCCCTAGCGGCTCCGGAGTTTGATAGACGTCGTGCTATGGAGCGTTGGAGCGACAACGCGCTCGTGCTCTGGAAGGTCGCTGCTGATCCGTAA'\n",
    "ol_2 = 'TACTGGTCCTGACCCACCTCACTTTGATGTCCCCTTTTCTCGTTTGCGCATCAAGATCTGGCCCGCAACTATTGGCCGTGAAAGGCACTCATCAATAAAGACAGTACTCACGCGGTCGGATCCAAATGCGCGCACCGAGCGGCCCAGGAGTTGATAGCGTCGAGTAACCTATTAGGACTCGAGGCAACTCGCGCTCTCTCAGGAGGCTCGCCTGCTAGTCCGTGAACGACGGATCTTTGGTGCTGCCTTCCTATCATGACATTGCCTAATAACGAGCGGCACCTACTCCCAGGTCTTTGAAGGGATGGCTTGTTTACCCCGATTCCGAGAAATAGAGATGACTCCTAAGGAAGTAATGAAGGAAGTTCAGTGGTATGGGTATCGTTTAGTTTGCCAGGGAGATTGCCCATAACCTAAGTCCCTAATACAGCAGTAGATCTCACCATAGATGTAGGAAAGCACAGTGATTTAGACGCTTAGCCAAATACAAAGGAATGTACCCCCTCCTAACACTGAGCACCGCTTATTTACTAGTATACTCAGAGTGTGGAGCGCTGAACGTTGTGTCAACAAGAACATAAGCCGCCGTGAATGAATTTGTGAAGGGGAGTGATCATGGTTTTACTCGTGGTAGATTTGGGCAGAACCTGATTCCTCACGTGTGAATGTAATTGAAGCTGACTCCCACACATACAGGCACGATTCTTTTAGATGATGTTTTAGGAAGCGCATTTCGTATTAACACTGCCTTGCATTTGATAACCATCACTTGTTCATTACATGATCCCATAGGGCCGTGTTGTTACTTTCGTGTTAGTCGAGCAGTATGACCACCTTTTCGGCGCTTGATATGCCTCAAGACGTGCGATTCAAGGAATCAAACAAATGAACGCCGCACTGGATGACTGGG'\n",
    "output_overlap_fitting(ol_1, ol_2, 2)"
   ]
  }
 ],
 "metadata": {
  "kernelspec": {
   "display_name": "Python 3",
   "language": "python",
   "name": "python3"
  },
  "language_info": {
   "codemirror_mode": {
    "name": "ipython",
    "version": 3
   },
   "file_extension": ".py",
   "mimetype": "text/x-python",
   "name": "python",
   "nbconvert_exporter": "python",
   "pygments_lexer": "ipython3",
   "version": "3.6.1"
  }
 },
 "nbformat": 4,
 "nbformat_minor": 2
}
