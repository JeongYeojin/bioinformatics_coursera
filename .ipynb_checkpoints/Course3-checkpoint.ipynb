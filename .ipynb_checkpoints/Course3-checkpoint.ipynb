{
 "cells": [
  {
   "cell_type": "code",
   "execution_count": 101,
   "metadata": {},
   "outputs": [
    {
     "data": {
      "text/plain": [
       "['3',\n",
       " '26',\n",
       " '18->19:26',\n",
       " '2->6:32',\n",
       " '7->8:30',\n",
       " '4->32:18',\n",
       " '9->19:0',\n",
       " '9->32:32',\n",
       " '19->26:28',\n",
       " '10->14:3',\n",
       " '24->26:11',\n",
       " '2->15:21',\n",
       " '6->8:15',\n",
       " '20->25:19',\n",
       " '1->21:17',\n",
       " '0->17:28',\n",
       " '1->14:0',\n",
       " '11->27:19',\n",
       " '9->12:36',\n",
       " '15->22:1',\n",
       " '11->13:24',\n",
       " '9->11:27',\n",
       " '14->18:6',\n",
       " '19->32:3',\n",
       " '31->33:17',\n",
       " '14->33:39',\n",
       " '15->21:15',\n",
       " '17->32:14',\n",
       " '3->21:30',\n",
       " '10->13:35',\n",
       " '13->14:37',\n",
       " '2->29:39',\n",
       " '18->24:7',\n",
       " '16->32:15',\n",
       " '20->30:6',\n",
       " '11->24:16',\n",
       " '10->25:11',\n",
       " '14->23:37',\n",
       " '6->30:12',\n",
       " '1->12:34',\n",
       " '4->16:3',\n",
       " '6->33:3',\n",
       " '9->15:32',\n",
       " '0->22:28',\n",
       " '14->28:31',\n",
       " '4->24:33',\n",
       " '7->16:17',\n",
       " '10->24:37',\n",
       " '21->26:2',\n",
       " '0->14:3',\n",
       " '28->32:26',\n",
       " '13->18:34',\n",
       " '14->31:34',\n",
       " '5->19:21',\n",
       " '8->18:19',\n",
       " '23->32:19']"
      ]
     },
     "execution_count": 101,
     "metadata": {},
     "output_type": "execute_result"
    }
   ],
   "source": [
    "with open('/home/jeongyeojin/dataset_245_7.txt') as f:\n",
    "    dna_data = f.read().split('\\n')[:-1]\n",
    "\n",
    "dna_data\n"
   ]
  },
  {
   "cell_type": "code",
   "execution_count": null,
   "metadata": {},
   "outputs": [],
   "source": [
    "# make down & right matrix from dataset \n",
    "test_down = []\n",
    "for i in range(1, 7):\n",
    "    test_down.append([int(s) for s in dna_data[i].split(' ')])\n",
    "test_right = []\n",
    "for i in range(8, 15):\n",
    "    test_right.append([int(s) for s in dna_data[i].split(' ')])"
   ]
  },
  {
   "cell_type": "code",
   "execution_count": 3,
   "metadata": {},
   "outputs": [
    {
     "data": {
      "text/plain": [
       "inf"
      ]
     },
     "execution_count": 3,
     "metadata": {},
     "output_type": "execute_result"
    }
   ],
   "source": [
    "import math\n",
    "math.inf"
   ]
  },
  {
   "cell_type": "code",
   "execution_count": 4,
   "metadata": {
    "collapsed": true
   },
   "outputs": [],
   "source": [
    "def dynamic_change(money, coins):\n",
    "    min_num_coins = [0]*(money+1)\n",
    "    for i in range(1,money+1):\n",
    "        min_num_coins[i] = math.inf\n",
    "        for j in range(len(coins)):\n",
    "            if i >= coins[j]:  # if money > coin[j]\n",
    "                if min_num_coins[i-coins[j]] + 1 < min_num_coins[i]:  # find minimum among 3 \n",
    "                    min_num_coins[i] = min_num_coins[i-coins[j]] + 1\n",
    "    return min_num_coins[money]     "
   ]
  },
  {
   "cell_type": "code",
   "execution_count": 5,
   "metadata": {
    "collapsed": true
   },
   "outputs": [],
   "source": [
    "# down : down arrow weight matrix, right : right arrow weight matrix \n",
    "def manhattan_tourist(n, m, down, right, diagonal):\n",
    "    s = [[0 for _ in range(m+1)] for _ in range(n+1)]\n",
    "    # fill out first column\n",
    "    for i in range(1,n+1):\n",
    "        s[i][0] = s[i-1][0] +down[i-1][0]\n",
    "    # filll out first row \n",
    "    for j in range(1,m+1):\n",
    "        s[0][j] = s[0][j-1] + right[0][j-1]\n",
    "    # fill out each node \n",
    "    for i in range(1,n+1):\n",
    "        for j in range(1,m+1):\n",
    "            s[i][j] = max(s[i-1][j] + down[i-1][j], s[i][j-1] + right[i][j-1], s[i-1][j-1] + diagonal[i-1][j-1])\n",
    "    return s[n][m]\n",
    "        "
   ]
  },
  {
   "cell_type": "code",
   "execution_count": 6,
   "metadata": {},
   "outputs": [
    {
     "data": {
      "text/plain": [
       "35"
      ]
     },
     "execution_count": 6,
     "metadata": {},
     "output_type": "execute_result"
    }
   ],
   "source": [
    "sample_down = [[1,0,2,4,3],[4,6,5,2,1],[4,4,5,2,1],[5,6,8,5,3]]\n",
    "sample_right = [[3,2,4,0],[3,2,4,2],[0,7,3,3],[3,3,0,2],[1,3,2,2]]\n",
    "sample_diagonal = [[5,0,2,1],[8,4,3,0],[10,8,9,5],[5,6,4,7]]\n",
    "manhattan_tourist(4,4,sample_down,sample_right, sample_diagonal)"
   ]
  },
  {
   "cell_type": "code",
   "execution_count": 7,
   "metadata": {
    "collapsed": true
   },
   "outputs": [],
   "source": [
    "def lcs_backtrack(v, w):\n",
    "    len_v = len(v)\n",
    "    len_w =len(w)\n",
    "    s = [[0 for _ in range(len_w+1)] for _ in range(len_v+1)]\n",
    "    backtrack = [[0 for _ in range(len_w)] for _ in range(len_v)]\n",
    "    for i in range(1, len_v+1):\n",
    "        for j in range(1, len_w+1):\n",
    "            if v[i-1] == w[j-1]:\n",
    "                match = 1\n",
    "            else:\n",
    "                match = 0\n",
    "            s[i][j] = max(s[i-1][j], s[i][j-1], s[i-1][j-1] + match)\n",
    "            #backtrack - deletion : -1, insertion : 1, match : 0\n",
    "            if s[i][j] == s[i-1][j]:\n",
    "                backtrack[i-1][j-1] = -1\n",
    "            elif s[i][j] == s[i][j-1]:\n",
    "                backtrack[i-1][j-1] = 1\n",
    "            elif s[i][j] == s[i-1][j-1] + 1 and match == 1:\n",
    "                backtrack[i-1][j-1] == 0\n",
    "    return backtrack"
   ]
  },
  {
   "cell_type": "code",
   "execution_count": 8,
   "metadata": {
    "collapsed": true
   },
   "outputs": [],
   "source": [
    "def output_lcs(backtrack, v, i, j):\n",
    "    if i == 0 or j == 0:\n",
    "        return\n",
    "    if backtrack[i][j] == -1:\n",
    "        output_lcs(backtrack, v, i-1, j)\n",
    "    elif backtrack[i][j] == 1:\n",
    "        output_lcs(backtrack, v, i, j-1)\n",
    "    else:\n",
    "        output_lcs(backtrack, v, i-1, j-1)\n",
    "        print(v[i])    "
   ]
  },
  {
   "cell_type": "code",
   "execution_count": 9,
   "metadata": {
    "collapsed": true
   },
   "outputs": [],
   "source": [
    "def output_lcs_wo_recursion(backtrack, v, i, j):\n",
    "    lcs = ''\n",
    "    while i >=0 and j >= 0 :\n",
    "        if backtrack[i][j] == 0:\n",
    "            lcs += v[i]\n",
    "            i -= 1\n",
    "            j -= 1\n",
    "        elif backtrack[i][j] == -1:\n",
    "            i -= 1\n",
    "        else:\n",
    "            j -= 1\n",
    "    return lcs[::-1]"
   ]
  },
  {
   "cell_type": "code",
   "execution_count": 58,
   "metadata": {},
   "outputs": [
    {
     "data": {
      "text/plain": [
       "886"
      ]
     },
     "execution_count": 58,
     "metadata": {},
     "output_type": "execute_result"
    }
   ],
   "source": [
    "len(dna_data[0])"
   ]
  },
  {
   "cell_type": "code",
   "execution_count": 59,
   "metadata": {},
   "outputs": [
    {
     "data": {
      "text/plain": [
       "885"
      ]
     },
     "execution_count": 59,
     "metadata": {},
     "output_type": "execute_result"
    }
   ],
   "source": [
    "len(dna_data[1])"
   ]
  },
  {
   "cell_type": "code",
   "execution_count": 103,
   "metadata": {},
   "outputs": [
    {
     "data": {
      "text/plain": [
       "[[-1, -1, 0, 1, 1, 1],\n",
       " [0, 1, -1, -1, 0, 1],\n",
       " [-1, -1, 0, 1, -1, 0],\n",
       " [-1, -1, -1, 0, 1, -1],\n",
       " [-1, 0, -1, -1, -1, -1],\n",
       " [-1, -1, -1, -1, 0, 1]]"
      ]
     },
     "execution_count": 103,
     "metadata": {},
     "output_type": "execute_result"
    }
   ],
   "source": [
    "bt = lcs_backtrack('CTCGAT','TACGTC')\n",
    "bt"
   ]
  },
  {
   "cell_type": "code",
   "execution_count": 104,
   "metadata": {},
   "outputs": [
    {
     "data": {
      "text/plain": [
       "'TCGT'"
      ]
     },
     "execution_count": 104,
     "metadata": {},
     "output_type": "execute_result"
    }
   ],
   "source": [
    "output_lcs_wo_recursion(bt, 'CTCGAT', 5, 5)\n",
    "\n"
   ]
  },
  {
   "cell_type": "code",
   "execution_count": 95,
   "metadata": {
    "collapsed": true
   },
   "outputs": [],
   "source": [
    "def adjency_list_to_dict(adjency_list):\n",
    "    adjency_dict = defaultdict(list)\n",
    "    for x in adjency_list:\n",
    "        start, ends = x[0], x[1]\n",
    "        adjency_dict[start].append(ends)\n",
    "    return adjency_dict\n",
    "\n",
    "from collections import Counter\n",
    "from collections import defaultdict\n",
    "\n",
    "# return list that contains indegree and outdegree of each vertex\n",
    "def adjency_list_degree_list(adjency_list):\n",
    "    adjency_dict = adjency_list_to_dict(adjency_list)\n",
    "    degree_list = defaultdict(list)\n",
    "    indegree_count = Counter([x for a in adjency_dict.values() for x in a])\n",
    "    for x in adjency_dict.keys():\n",
    "        degree_list[x].append(len(adjency_dict[x]))\n",
    "        degree_list[x].append(indegree_count[x])\n",
    "    \n",
    "    end_points = set([x for a in adjency_dict.values() for x in a])\n",
    "    start_points = set(adjency_dict.keys())\n",
    "    no_outgoing_points = end_points.difference(start_points)\n",
    "    \n",
    "    for a in no_outgoing_points:\n",
    "        degree_list[a].append(0)\n",
    "        degree_list[a].append(indegree_count[a])\n",
    "    \n",
    "    return degree_list"
   ]
  },
  {
   "cell_type": "code",
   "execution_count": 99,
   "metadata": {
    "collapsed": true
   },
   "outputs": [],
   "source": [
    "def remove_no_indegree_path(adjency_list, path_data, start):\n",
    "\n",
    "    degree_list = adjency_list_degree_list(adjency_list)\n",
    "  \n",
    "    # remove data that has no indegree \n",
    "    real_path_data = {}\n",
    "    for x in path_data.keys():\n",
    "        if degree_list[x[0]][1] != 0 or x[0] == start:\n",
    "            real_path_data[x] = path_data[x]\n",
    "    \n",
    "    return real_path_data"
   ]
  },
  {
   "cell_type": "code",
   "execution_count": 109,
   "metadata": {},
   "outputs": [],
   "source": [
    "import re \n",
    "from collections import defaultdict\n",
    "from collections import Counter\n",
    "\n",
    "def longest_path_dag(data, start, end):\n",
    "    \n",
    "    path_data = {}\n",
    "    adjency_list = []\n",
    "    for x in data:\n",
    "        splitted = re.split('[->:]+', x)\n",
    "        path_tuple = (splitted[0],splitted[1])\n",
    "        path_data[path_tuple] = splitted[2]   # dictionary - key : tuple, value : weight \n",
    "        adjency_list.append(path_tuple) # list - path tuples \n",
    "    #print(adjency_list)\n",
    "    \n",
    "    # remove all nodes that have in-degrees equals to 0 but is not the start node,\n",
    "    # until the sole node has in-degree equals 0 is the start node \n",
    "    only_sole_node_is_start_node = False\n",
    "    while not only_sole_node_is_start_node:\n",
    "        real_path_data = remove_no_indegree_path(adjency_list, path_data, start)\n",
    "        new_paths = []\n",
    "        for x in real_path_data.keys():\n",
    "            new_paths.append(x)\n",
    "        \n",
    "        path_data = real_path_data\n",
    "        adjency_list = new_paths\n",
    "        #print(new_paths)\n",
    "        d_list = adjency_list_degree_list(adjency_list)\n",
    "        indegree_zero_nodes = [a for a in d_list.keys() if d_list[a][1] == 0]\n",
    "        if len(indegree_zero_nodes) == 1:\n",
    "            only_sole_node_is_start_node = True\n",
    "\n",
    "    best_path = []\n",
    "    best_path_score = 0\n",
    "    \n",
    "    did_it_reached_start = False\n",
    "    while not did_it_reached_start:\n",
    "        \n",
    "        last_edges = [a for a in list(path_data.keys()) if a[1] == end]\n",
    "        #print(last_edges)\n",
    "        \n",
    "        best_edge = max(last_edges, key= lambda x : path_data[x]) \n",
    "        #print(best_edge)\n",
    "        \n",
    "        best_path.append(best_edge)\n",
    "        #print(best_path)\n",
    "        best_path_score += int(path_data[best_edge])\n",
    "        if best_edge[0] == start:\n",
    "            did_it_reached_start = True\n",
    "        end = best_edge[0]\n",
    "    \n",
    "    real_best_path = best_path[::-1]\n",
    "    answer = []\n",
    "    answer.append(str(real_best_path[0][0]))\n",
    "    answer.append(str(real_best_path[0][1]))\n",
    "    \n",
    "    for i in range(1,len(real_best_path)):\n",
    "        answer.append(str(real_best_path[i][1]))\n",
    "    \n",
    "    return '->'.join(answer), best_path_score\n",
    "        \n",
    "    \n",
    "    \n",
    "    \n",
    "    "
   ]
  },
  {
   "cell_type": "code",
   "execution_count": 110,
   "metadata": {},
   "outputs": [
    {
     "data": {
      "text/plain": [
       "('3->21->26', 32)"
      ]
     },
     "execution_count": 110,
     "metadata": {},
     "output_type": "execute_result"
    }
   ],
   "source": [
    "longest_path_dag(dna_data[2:], '3', '26')"
   ]
  },
  {
   "cell_type": "code",
   "execution_count": 111,
   "metadata": {},
   "outputs": [
    {
     "data": {
      "text/plain": [
       "('a->d->e->g', 13)"
      ]
     },
     "execution_count": 111,
     "metadata": {},
     "output_type": "execute_result"
    }
   ],
   "source": [
    "test_path = ['a -> b: 5','a -> c: 6','a->d:5','b->c:2','b->f:4','c->e:4','c->f:3','c->g:5','d->e:6','d->f:8','e->g:2','f->g:1']\n",
    "longest_path_dag(test_path,'a','g')"
   ]
  }
 ],
 "metadata": {
  "kernelspec": {
   "display_name": "Python 3",
   "language": "python",
   "name": "python3"
  },
  "language_info": {
   "codemirror_mode": {
    "name": "ipython",
    "version": 3
   },
   "file_extension": ".py",
   "mimetype": "text/x-python",
   "name": "python",
   "nbconvert_exporter": "python",
   "pygments_lexer": "ipython3",
   "version": "3.6.1"
  }
 },
 "nbformat": 4,
 "nbformat_minor": 2
}
