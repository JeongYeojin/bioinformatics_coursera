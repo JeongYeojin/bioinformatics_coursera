{
 "cells": [
  {
   "cell_type": "code",
   "execution_count": 25,
   "metadata": {},
   "outputs": [
    {
     "data": {
      "text/plain": [
       "1.89208984375"
      ]
     },
     "execution_count": 25,
     "metadata": {},
     "output_type": "execute_result"
    }
   ],
   "source": [
    "500*992*(0.25)**9"
   ]
  },
  {
   "cell_type": "code",
   "execution_count": 26,
   "metadata": {
    "collapsed": true
   },
   "outputs": [],
   "source": [
    "def neighbors_of_each_dna(dna_string, k, d):\n",
    "    n_list = []\n",
    "    for i in range(len(dna_string)-k+1):\n",
    "        for n in neighbors(dna_string[i:i+k], d):\n",
    "            n_list.append(n)\n",
    "    n_list = list(set(n_list))\n",
    "    return n_list"
   ]
  },
  {
   "cell_type": "code",
   "execution_count": 62,
   "metadata": {},
   "outputs": [],
   "source": [
    "def motifEnumeration(dna, k, d):\n",
    "    patterns = set()\n",
    "    neighbor_list = [neighbors_of_each_dna(dna_string, k, d) for dna_string in dna]\n",
    "    for i in range(len(dna[0])-k+1):\n",
    "        current_kmer = dna[0][i:i+k]\n",
    "        for x in neighbors(current_kmer, d):\n",
    "            count = 0\n",
    "            for i in neighbor_list:\n",
    "                if x in i:\n",
    "                    count += 1\n",
    "            if count == len(dna):\n",
    "                patterns.add(x)\n",
    "    return patterns"
   ]
  },
  {
   "cell_type": "code",
   "execution_count": 63,
   "metadata": {},
   "outputs": [
    {
     "data": {
      "text/plain": [
       "{'ATA', 'ATT', 'GTT', 'TTT'}"
      ]
     },
     "execution_count": 63,
     "metadata": {},
     "output_type": "execute_result"
    }
   ],
   "source": [
    "motifEnumeration(['ATTTGGC', 'TGCCTTA','CGGTATC','GAAAATT'], 3, 1)"
   ]
  },
  {
   "cell_type": "code",
   "execution_count": 24,
   "metadata": {
    "collapsed": true
   },
   "outputs": [],
   "source": [
    "def neighbors(pattern, d):\n",
    "    if d == 0: return set(pattern)\n",
    "    if len(pattern) == 1:\n",
    "        return {'A','C','G','T'}\n",
    "    neighborhood = set()\n",
    "    suffixNeighbors = neighbors(pattern[1:], d)\n",
    "    for i in suffixNeighbors:\n",
    "        if hammingDistance(pattern[1:], i) < d:\n",
    "            for x in nu_list:\n",
    "                neighborhood.add(x + i)\n",
    "        else:\n",
    "            neighborhood.add(pattern[0]+i)\n",
    "    return neighborhood"
   ]
  },
  {
   "cell_type": "code",
   "execution_count": 23,
   "metadata": {
    "collapsed": true
   },
   "outputs": [],
   "source": [
    "def hammingDistance(p, q):\n",
    "    count = 0\n",
    "    for i in range(len(p)):\n",
    "        if p[i] != q[i]:\n",
    "            count += 1\n",
    "    return count"
   ]
  },
  {
   "cell_type": "code",
   "execution_count": 32,
   "metadata": {
    "collapsed": true
   },
   "outputs": [],
   "source": [
    "nu_list = ['A','C','T','G']\n",
    "\n",
    "def immediateNeighbors(pattern):\n",
    "    neighborhood = []\n",
    "    for i in range(len(pattern)):\n",
    "        neighborhood += [pattern[:i] + x + pattern[i+1:] for x in nu_list if x != pattern[i]]\n",
    "    return set(neighborhood)    "
   ]
  },
  {
   "cell_type": "code",
   "execution_count": 108,
   "metadata": {},
   "outputs": [
    {
     "name": "stdout",
     "output_type": "stream",
     "text": [
      "GAGTGCGATGGACCCCTTTAGCAGAACCCGGCCCAGCGTGTGTGCCTCGACTATCGGGCAGTTGGCTTTCCGCATGCGACTGATTACCTATGATTAGACGATGAGAATTGGTAGGAAAGTGCTCATGAGAGATCATGGGGTCATCACTACGGGTCAATAGTCTAAGGGTCCGACCCCACGTGGTCACTGCAGTTCGCATGAACCATGAACAGCAATCCCCCTTTGCGCAGAGCTTTAGTCTGGTAGATGGATCAAAAATCGTAGTATATTAACCGGCCATAACAGCATCATTCTATCTTTTAATTGCGCGCAGGGACGGAGTCTTCGTCGAGAGCACGTGCACGGCCCTAAGCAACAGCCATGCAGTTTTGGCTCCCAGTACGAAGTTGCAAGGCGGCGGAAAGTACAGGGTTGCTCCCAAGCAAAACAACTGGTGTGGCTGATGCAACCACTGAGGCGTGAGGCACAACGAGCGGAAACCAGAACCGACCTGGTTATTCCTCAATTTAGGATGCAGCTCGAATCACTCGGGACTGACAACACGTCTTGTGAGCCGTCCCCGTCTATGGACCCTAACGAAGCACTCACATCCTCGATTTGCCTAGTGTTTTACACCACTCAGGTCTCGGCGGTGAATCCTTGCTAAGTAGGGGACGTTGAGCCGTCGAAGGTCCTACGTGGGCCCTTTCCAGCTTCCGGTAATAACCTACAGTCCAACGGACAAGTCACTCATCGGTATCCAACCCTCGTTCCAAATTTGTCGCTCGACACCAGGATAAGCCTTGTACGTTACTACACGGCCGTAGTGTTAACAAATGTGGTCTTCCCTGATTCAGCGAAATGCCGATGCTAATATGGATGCTACGACCCAGGCCGTTACATATCAGCCTCACGGATAATACGTTTCCGGAAGGCGGGTAACCTCCACGATGCCAAGGCAAGACACGGACTTTCCCGGGGTTAGGTTCATCACCCACTGGGCACAAACACATAAATCAGT\n",
      "15\n",
      "0.152 0.258 0.288 0.288 0.197 0.212 0.242 0.242 0.182 0.258 0.288 0.242 0.288 0.212 0.227\n",
      "0.348 0.288 0.182 0.258 0.242 0.318 0.303 0.318 0.288 0.288 0.242 0.182 0.303 0.288 0.273\n",
      "0.273 0.227 0.288 0.212 0.258 0.258 0.273 0.197 0.273 0.258 0.318 0.303 0.227 0.242 0.333\n",
      "0.227 0.227 0.242 0.242 0.303 0.212 0.182 0.242 0.258 0.197 0.152 0.273 0.182 0.258 0.167\n",
      "\n"
     ]
    }
   ],
   "source": [
    "with open('/home/jeongyeojin/dataset_159_3.txt') as f:\n",
    "    data2 = f.read()\n",
    "\n",
    "print(data2)"
   ]
  },
  {
   "cell_type": "code",
   "execution_count": 109,
   "metadata": {},
   "outputs": [
    {
     "data": {
      "text/plain": [
       "['GAGTGCGATGGACCCCTTTAGCAGAACCCGGCCCAGCGTGTGTGCCTCGACTATCGGGCAGTTGGCTTTCCGCATGCGACTGATTACCTATGATTAGACGATGAGAATTGGTAGGAAAGTGCTCATGAGAGATCATGGGGTCATCACTACGGGTCAATAGTCTAAGGGTCCGACCCCACGTGGTCACTGCAGTTCGCATGAACCATGAACAGCAATCCCCCTTTGCGCAGAGCTTTAGTCTGGTAGATGGATCAAAAATCGTAGTATATTAACCGGCCATAACAGCATCATTCTATCTTTTAATTGCGCGCAGGGACGGAGTCTTCGTCGAGAGCACGTGCACGGCCCTAAGCAACAGCCATGCAGTTTTGGCTCCCAGTACGAAGTTGCAAGGCGGCGGAAAGTACAGGGTTGCTCCCAAGCAAAACAACTGGTGTGGCTGATGCAACCACTGAGGCGTGAGGCACAACGAGCGGAAACCAGAACCGACCTGGTTATTCCTCAATTTAGGATGCAGCTCGAATCACTCGGGACTGACAACACGTCTTGTGAGCCGTCCCCGTCTATGGACCCTAACGAAGCACTCACATCCTCGATTTGCCTAGTGTTTTACACCACTCAGGTCTCGGCGGTGAATCCTTGCTAAGTAGGGGACGTTGAGCCGTCGAAGGTCCTACGTGGGCCCTTTCCAGCTTCCGGTAATAACCTACAGTCCAACGGACAAGTCACTCATCGGTATCCAACCCTCGTTCCAAATTTGTCGCTCGACACCAGGATAAGCCTTGTACGTTACTACACGGCCGTAGTGTTAACAAATGTGGTCTTCCCTGATTCAGCGAAATGCCGATGCTAATATGGATGCTACGACCCAGGCCGTTACATATCAGCCTCACGGATAATACGTTTCCGGAAGGCGGGTAACCTCCACGATGCCAAGGCAAGACACGGACTTTCCCGGGGTTAGGTTCATCACCCACTGGGCACAAACACATAAATCAGT',\n",
       " '15',\n",
       " '0.152 0.258 0.288 0.288 0.197 0.212 0.242 0.242 0.182 0.258 0.288 0.242 0.288 0.212 0.227',\n",
       " '0.348 0.288 0.182 0.258 0.242 0.318 0.303 0.318 0.288 0.288 0.242 0.182 0.303 0.288 0.273',\n",
       " '0.273 0.227 0.288 0.212 0.258 0.258 0.273 0.197 0.273 0.258 0.318 0.303 0.227 0.242 0.333',\n",
       " '0.227 0.227 0.242 0.242 0.303 0.212 0.182 0.242 0.258 0.197 0.152 0.273 0.182 0.258 0.167',\n",
       " '']"
      ]
     },
     "execution_count": 109,
     "metadata": {},
     "output_type": "execute_result"
    }
   ],
   "source": [
    "new_data = data2.split('\\n')\n",
    "new_data"
   ]
  },
  {
   "cell_type": "code",
   "execution_count": 135,
   "metadata": {},
   "outputs": [
    {
     "ename": "TypeError",
     "evalue": "float() argument must be a string or a number, not 'list'",
     "output_type": "error",
     "traceback": [
      "\u001b[0;31m---------------------------------------------------------------------------\u001b[0m",
      "\u001b[0;31mTypeError\u001b[0m                                 Traceback (most recent call last)",
      "\u001b[0;32m<ipython-input-135-c1bb28b42c05>\u001b[0m in \u001b[0;36m<module>\u001b[0;34m()\u001b[0m\n\u001b[1;32m      1\u001b[0m \u001b[0mdna\u001b[0m \u001b[0;34m=\u001b[0m \u001b[0mnew_data\u001b[0m\u001b[0;34m[\u001b[0m\u001b[0;36m0\u001b[0m\u001b[0;34m]\u001b[0m\u001b[0;34m\u001b[0m\u001b[0m\n\u001b[0;32m----> 2\u001b[0;31m \u001b[0mprofile\u001b[0m \u001b[0;34m=\u001b[0m \u001b[0;34m{\u001b[0m\u001b[0;34m'A'\u001b[0m \u001b[0;34m:\u001b[0m \u001b[0mfloat\u001b[0m\u001b[0;34m(\u001b[0m\u001b[0mnew_data\u001b[0m\u001b[0;34m[\u001b[0m\u001b[0;36m2\u001b[0m\u001b[0;34m]\u001b[0m\u001b[0;34m.\u001b[0m\u001b[0msplit\u001b[0m\u001b[0;34m(\u001b[0m\u001b[0;34m' '\u001b[0m\u001b[0;34m)\u001b[0m\u001b[0;34m)\u001b[0m\u001b[0;34m,\u001b[0m \u001b[0;34m'C'\u001b[0m\u001b[0;34m:\u001b[0m \u001b[0mnew_data\u001b[0m\u001b[0;34m[\u001b[0m\u001b[0;36m3\u001b[0m\u001b[0;34m]\u001b[0m\u001b[0;34m.\u001b[0m\u001b[0msplit\u001b[0m\u001b[0;34m(\u001b[0m\u001b[0;34m' '\u001b[0m\u001b[0;34m)\u001b[0m\u001b[0;34m,\u001b[0m \u001b[0;34m'G'\u001b[0m\u001b[0;34m:\u001b[0m\u001b[0mnew_data\u001b[0m\u001b[0;34m[\u001b[0m\u001b[0;36m4\u001b[0m\u001b[0;34m]\u001b[0m\u001b[0;34m.\u001b[0m\u001b[0msplit\u001b[0m\u001b[0;34m(\u001b[0m\u001b[0;34m' '\u001b[0m\u001b[0;34m)\u001b[0m\u001b[0;34m,\u001b[0m \u001b[0;34m'T'\u001b[0m\u001b[0;34m:\u001b[0m\u001b[0mnew_data\u001b[0m\u001b[0;34m[\u001b[0m\u001b[0;36m5\u001b[0m\u001b[0;34m]\u001b[0m\u001b[0;34m.\u001b[0m\u001b[0msplit\u001b[0m\u001b[0;34m(\u001b[0m\u001b[0;34m' '\u001b[0m\u001b[0;34m)\u001b[0m \u001b[0;34m}\u001b[0m\u001b[0;34m\u001b[0m\u001b[0m\n\u001b[0m",
      "\u001b[0;31mTypeError\u001b[0m: float() argument must be a string or a number, not 'list'"
     ]
    }
   ],
   "source": [
    "dna = new_data[0]\n",
    "profile = {'A' :  [float(x) for x in new_data[2].split(' ')], 'C': new_data[3].split(' '), 'G':new_data[4].split(' '), 'T':new_data[5].split(' ') }"
   ]
  },
  {
   "cell_type": "code",
   "execution_count": 115,
   "metadata": {},
   "outputs": [
    {
     "data": {
      "text/plain": [
       "'GAGTGCGATGGACCCCTTTAGCAGAACCCGGCCCAGCGTGTGTGCCTCGACTATCGGGCAGTTGGCTTTCCGCATGCGACTGATTACCTATGATTAGACGATGAGAATTGGTAGGAAAGTGCTCATGAGAGATCATGGGGTCATCACTACGGGTCAATAGTCTAAGGGTCCGACCCCACGTGGTCACTGCAGTTCGCATGAACCATGAACAGCAATCCCCCTTTGCGCAGAGCTTTAGTCTGGTAGATGGATCAAAAATCGTAGTATATTAACCGGCCATAACAGCATCATTCTATCTTTTAATTGCGCGCAGGGACGGAGTCTTCGTCGAGAGCACGTGCACGGCCCTAAGCAACAGCCATGCAGTTTTGGCTCCCAGTACGAAGTTGCAAGGCGGCGGAAAGTACAGGGTTGCTCCCAAGCAAAACAACTGGTGTGGCTGATGCAACCACTGAGGCGTGAGGCACAACGAGCGGAAACCAGAACCGACCTGGTTATTCCTCAATTTAGGATGCAGCTCGAATCACTCGGGACTGACAACACGTCTTGTGAGCCGTCCCCGTCTATGGACCCTAACGAAGCACTCACATCCTCGATTTGCCTAGTGTTTTACACCACTCAGGTCTCGGCGGTGAATCCTTGCTAAGTAGGGGACGTTGAGCCGTCGAAGGTCCTACGTGGGCCCTTTCCAGCTTCCGGTAATAACCTACAGTCCAACGGACAAGTCACTCATCGGTATCCAACCCTCGTTCCAAATTTGTCGCTCGACACCAGGATAAGCCTTGTACGTTACTACACGGCCGTAGTGTTAACAAATGTGGTCTTCCCTGATTCAGCGAAATGCCGATGCTAATATGGATGCTACGACCCAGGCCGTTACATATCAGCCTCACGGATAATACGTTTCCGGAAGGCGGGTAACCTCCACGATGCCAAGGCAAGACACGGACTTTCCCGGGGTTAGGTTCATCACCCACTGGGCACAAACACATAAATCAGT'"
      ]
     },
     "execution_count": 115,
     "metadata": {},
     "output_type": "execute_result"
    }
   ],
   "source": [
    "dna"
   ]
  },
  {
   "cell_type": "code",
   "execution_count": 120,
   "metadata": {},
   "outputs": [
    {
     "data": {
      "text/plain": [
       "{'A': ['0.152',\n",
       "  '0.258',\n",
       "  '0.288',\n",
       "  '0.288',\n",
       "  '0.197',\n",
       "  '0.212',\n",
       "  '0.242',\n",
       "  '0.242',\n",
       "  '0.182',\n",
       "  '0.258',\n",
       "  '0.288',\n",
       "  '0.242',\n",
       "  '0.288',\n",
       "  '0.212',\n",
       "  '0.227'],\n",
       " 'C': ['0.348',\n",
       "  '0.288',\n",
       "  '0.182',\n",
       "  '0.258',\n",
       "  '0.242',\n",
       "  '0.318',\n",
       "  '0.303',\n",
       "  '0.318',\n",
       "  '0.288',\n",
       "  '0.288',\n",
       "  '0.242',\n",
       "  '0.182',\n",
       "  '0.303',\n",
       "  '0.288',\n",
       "  '0.273'],\n",
       " 'G': ['0.273',\n",
       "  '0.227',\n",
       "  '0.288',\n",
       "  '0.212',\n",
       "  '0.258',\n",
       "  '0.258',\n",
       "  '0.273',\n",
       "  '0.197',\n",
       "  '0.273',\n",
       "  '0.258',\n",
       "  '0.318',\n",
       "  '0.303',\n",
       "  '0.227',\n",
       "  '0.242',\n",
       "  '0.333'],\n",
       " 'T': ['0.227',\n",
       "  '0.227',\n",
       "  '0.242',\n",
       "  '0.242',\n",
       "  '0.303',\n",
       "  '0.212',\n",
       "  '0.182',\n",
       "  '0.242',\n",
       "  '0.258',\n",
       "  '0.197',\n",
       "  '0.152',\n",
       "  '0.273',\n",
       "  '0.182',\n",
       "  '0.258',\n",
       "  '0.167']}"
      ]
     },
     "execution_count": 120,
     "metadata": {},
     "output_type": "execute_result"
    }
   ],
   "source": [
    "profile"
   ]
  },
  {
   "cell_type": "code",
   "execution_count": 90,
   "metadata": {},
   "outputs": [
    {
     "data": {
      "text/plain": [
       "['ACAATTAAGACATTAACCATACCGGGAGCAGCTAAGCACCGC',\n",
       " 'TGCGTGAGATGTCTTCATGCTAAGTGTGCAGCTGTAAGTCGC',\n",
       " 'AATTAAACATGATACGCGACTTCAGCTAAGCGGCTAGATCCC',\n",
       " 'TTTGTGTTGCTCGCTATGTTTGCCTAGTAGATTGTGGACATT',\n",
       " 'GCGAACACTCCCCATGGAGCCTTTCCACCGGCTATGATTGTA',\n",
       " 'ACACCTTAGTACTCTGCTCGAGCCGCTATGTTGATTCCCGGC',\n",
       " 'CGTGAAAATTGTGCTACGACTTTTTACATTTTTTTTTCAACA',\n",
       " 'ATGCCACTAATTGGCTACGCTACGATCTCCTGGATAAAATGC',\n",
       " 'AGCTTTATTTTGGATGCCAGTACGGCAGCTCCTTCGGCTACG',\n",
       " 'GTAGTCCCAAGATGCCCGAATTGTGATACATCGTGAGCTATG']"
      ]
     },
     "execution_count": 90,
     "metadata": {},
     "output_type": "execute_result"
    }
   ],
   "source": [
    "new_data[1:-1]"
   ]
  },
  {
   "cell_type": "code",
   "execution_count": 67,
   "metadata": {},
   "outputs": [
    {
     "name": "stdout",
     "output_type": "stream",
     "text": [
      "ATTTC ATGTC ATATC ATCTC \n"
     ]
    }
   ],
   "source": [
    "strr = ''\n",
    "for x in motifEnumeration(new_data[1:-1], 5, 1):\n",
    "    strr += '{} '.format(x)\n",
    "print(strr)"
   ]
  },
  {
   "cell_type": "code",
   "execution_count": 69,
   "metadata": {
    "collapsed": true
   },
   "outputs": [],
   "source": [
    "Motifs = [\n",
    "\"TCGGGGGTTTTT\",\n",
    "\"CCGGTGACTTAC\",\n",
    "\"ACGGGGATTTTC\",\n",
    "\"TTGGGGACTTTT\",\n",
    "\"AAGGGGACTTCC\",\n",
    "\"TTGGGGACTTCC\",\n",
    "\"TCGGGGATTCAT\",\n",
    "\"TCGGGGATTCCT\",\n",
    "\"TAGGGGAACTAC\",\n",
    "\"TCGGGTATAACC\"\n",
    "]"
   ]
  },
  {
   "cell_type": "code",
   "execution_count": 71,
   "metadata": {
    "collapsed": true
   },
   "outputs": [],
   "source": [
    "from collections import Counter\n",
    "import math"
   ]
  },
  {
   "cell_type": "code",
   "execution_count": 74,
   "metadata": {
    "collapsed": true
   },
   "outputs": [],
   "source": [
    "def entropy(motifs):\n",
    "    columns = []\n",
    "    for i in range(len(motifs[0])):\n",
    "        new_col = ''\n",
    "        for x in motifs:\n",
    "            new_col += x[i]\n",
    "        columns.append(new_col)\n",
    "    \n",
    "    total_entropy = 0\n",
    "    for i in columns:\n",
    "        entropy = 0\n",
    "        c = Counter(i)\n",
    "        for nucleotide, frequency in c.items():\n",
    "            entropy -= (frequency/len(motifs))*math.log((frequency/len(motifs)),2)\n",
    "        total_entropy += entropy\n",
    "    \n",
    "    return total_entropy"
   ]
  },
  {
   "cell_type": "code",
   "execution_count": 75,
   "metadata": {},
   "outputs": [
    {
     "data": {
      "text/plain": [
       "9.916290005356972"
      ]
     },
     "execution_count": 75,
     "metadata": {},
     "output_type": "execute_result"
    }
   ],
   "source": [
    "entropy(Motifs)"
   ]
  },
  {
   "cell_type": "code",
   "execution_count": 76,
   "metadata": {
    "collapsed": true
   },
   "outputs": [],
   "source": [
    "def distanceBetweenPatternAndStrings(pattern, dna):\n",
    "    k = len(pattern)\n",
    "    distance = 0\n",
    "    for x in dna:\n",
    "        hammingDist = math.inf\n",
    "        for i in range(len(x)-k+1):\n",
    "            current_kmer = x[i:i+k]\n",
    "            if hammingDist > hammingDistance(pattern, current_kmer):\n",
    "                hammingDist = hammingDistance(pattern, current_kmer)\n",
    "        distance += hammingDist\n",
    "    return distance\n",
    "        "
   ]
  },
  {
   "cell_type": "code",
   "execution_count": 82,
   "metadata": {},
   "outputs": [
    {
     "data": {
      "text/plain": [
       "79"
      ]
     },
     "execution_count": 82,
     "metadata": {},
     "output_type": "execute_result"
    }
   ],
   "source": [
    "distanceBetweenPatternAndStrings(pattern, dna)"
   ]
  },
  {
   "cell_type": "code",
   "execution_count": 83,
   "metadata": {
    "collapsed": true
   },
   "outputs": [],
   "source": [
    "nu_dict_inverse = {0 : 'A', 1 : 'C', 2 : 'G', 3 : 'T'}\n",
    "\n",
    "def numberToPattern(num, k):\n",
    "    if k == 1:\n",
    "        return nu_dict_inverse[num]\n",
    "    prefixIndex = num//4\n",
    "    r = num%4\n",
    "    last_nu = nu_dict_inverse[r]\n",
    "    return numberToPattern(prefixIndex, k-1)+last_nu"
   ]
  },
  {
   "cell_type": "code",
   "execution_count": 85,
   "metadata": {
    "collapsed": true
   },
   "outputs": [],
   "source": [
    "def medianString(dna, k):\n",
    "    distance = math.inf\n",
    "    for i in range(4**k):\n",
    "        pattern = numberToPattern(i, k)\n",
    "        if distance > distanceBetweenPatternAndStrings(pattern, dna):\n",
    "            distance = distanceBetweenPatternAndStrings(pattern, dna)\n",
    "            median = pattern \n",
    "    return median"
   ]
  },
  {
   "cell_type": "code",
   "execution_count": 91,
   "metadata": {},
   "outputs": [
    {
     "data": {
      "text/plain": [
       "'GCTATG'"
      ]
     },
     "execution_count": 91,
     "metadata": {},
     "output_type": "execute_result"
    }
   ],
   "source": [
    "medianString(new_data[1:-1],6)"
   ]
  },
  {
   "cell_type": "code",
   "execution_count": 132,
   "metadata": {
    "collapsed": true
   },
   "outputs": [],
   "source": [
    "def profile_probability(consensus, profile):\n",
    "    prob = 1\n",
    "    for i in range(len(consensus)):\n",
    "        prob *= profile[consensus[i]][i]\n",
    "    return prob"
   ]
  },
  {
   "cell_type": "code",
   "execution_count": 106,
   "metadata": {
    "collapsed": true
   },
   "outputs": [],
   "source": [
    "def profile_most_probable_kmer(dna, k, profile):\n",
    "    prob = 0\n",
    "    for i in range(len(dna)-k+1):\n",
    "        current_kmer = dna[i:i+k]\n",
    "        if profile_probability(current_kmer, profile) > prob:\n",
    "            prob = profile_probability(current_kmer, profile)\n",
    "            most_probable_kmer = current_kmer \n",
    "    return most_probable_kmer"
   ]
  },
  {
   "cell_type": "code",
   "execution_count": 121,
   "metadata": {},
   "outputs": [
    {
     "ename": "TypeError",
     "evalue": "can't multiply sequence by non-int of type 'str'",
     "output_type": "error",
     "traceback": [
      "\u001b[0;31m---------------------------------------------------------------------------\u001b[0m",
      "\u001b[0;31mTypeError\u001b[0m                                 Traceback (most recent call last)",
      "\u001b[0;32m<ipython-input-121-1c83acbfb288>\u001b[0m in \u001b[0;36m<module>\u001b[0;34m()\u001b[0m\n\u001b[0;32m----> 1\u001b[0;31m \u001b[0mprofile_most_probable_kmer\u001b[0m\u001b[0;34m(\u001b[0m\u001b[0mdna\u001b[0m\u001b[0;34m,\u001b[0m \u001b[0;36m15\u001b[0m\u001b[0;34m,\u001b[0m \u001b[0mprofile\u001b[0m\u001b[0;34m)\u001b[0m\u001b[0;34m\u001b[0m\u001b[0m\n\u001b[0m",
      "\u001b[0;32m<ipython-input-106-67c6fe5c3bc0>\u001b[0m in \u001b[0;36mprofile_most_probable_kmer\u001b[0;34m(dna, k, profile)\u001b[0m\n\u001b[1;32m      3\u001b[0m     \u001b[0;32mfor\u001b[0m \u001b[0mi\u001b[0m \u001b[0;32min\u001b[0m \u001b[0mrange\u001b[0m\u001b[0;34m(\u001b[0m\u001b[0mlen\u001b[0m\u001b[0;34m(\u001b[0m\u001b[0mdna\u001b[0m\u001b[0;34m)\u001b[0m\u001b[0;34m-\u001b[0m\u001b[0mk\u001b[0m\u001b[0;34m+\u001b[0m\u001b[0;36m1\u001b[0m\u001b[0;34m)\u001b[0m\u001b[0;34m:\u001b[0m\u001b[0;34m\u001b[0m\u001b[0m\n\u001b[1;32m      4\u001b[0m         \u001b[0mcurrent_kmer\u001b[0m \u001b[0;34m=\u001b[0m \u001b[0mdna\u001b[0m\u001b[0;34m[\u001b[0m\u001b[0mi\u001b[0m\u001b[0;34m:\u001b[0m\u001b[0mi\u001b[0m\u001b[0;34m+\u001b[0m\u001b[0mk\u001b[0m\u001b[0;34m]\u001b[0m\u001b[0;34m\u001b[0m\u001b[0m\n\u001b[0;32m----> 5\u001b[0;31m         \u001b[0;32mif\u001b[0m \u001b[0mprofile_probability\u001b[0m\u001b[0;34m(\u001b[0m\u001b[0mcurrent_kmer\u001b[0m\u001b[0;34m,\u001b[0m \u001b[0mprofile\u001b[0m\u001b[0;34m)\u001b[0m \u001b[0;34m>\u001b[0m \u001b[0mprob\u001b[0m\u001b[0;34m:\u001b[0m\u001b[0;34m\u001b[0m\u001b[0m\n\u001b[0m\u001b[1;32m      6\u001b[0m             \u001b[0mprob\u001b[0m \u001b[0;34m=\u001b[0m \u001b[0mprofile_probability\u001b[0m\u001b[0;34m(\u001b[0m\u001b[0mcurrent_kmer\u001b[0m\u001b[0;34m,\u001b[0m \u001b[0mprofile\u001b[0m\u001b[0;34m)\u001b[0m\u001b[0;34m\u001b[0m\u001b[0m\n\u001b[1;32m      7\u001b[0m             \u001b[0mmost_probable_kmer\u001b[0m \u001b[0;34m=\u001b[0m \u001b[0mcurrent_kmer\u001b[0m\u001b[0;34m\u001b[0m\u001b[0m\n",
      "\u001b[0;32m<ipython-input-95-73d8a7f1230c>\u001b[0m in \u001b[0;36mprofile_probability\u001b[0;34m(consensus, profile)\u001b[0m\n\u001b[1;32m      2\u001b[0m     \u001b[0mprob\u001b[0m \u001b[0;34m=\u001b[0m \u001b[0;36m1\u001b[0m\u001b[0;34m\u001b[0m\u001b[0m\n\u001b[1;32m      3\u001b[0m     \u001b[0;32mfor\u001b[0m \u001b[0mi\u001b[0m \u001b[0;32min\u001b[0m \u001b[0mrange\u001b[0m\u001b[0;34m(\u001b[0m\u001b[0mlen\u001b[0m\u001b[0;34m(\u001b[0m\u001b[0mconsensus\u001b[0m\u001b[0;34m)\u001b[0m\u001b[0;34m)\u001b[0m\u001b[0;34m:\u001b[0m\u001b[0;34m\u001b[0m\u001b[0m\n\u001b[0;32m----> 4\u001b[0;31m         \u001b[0mprob\u001b[0m \u001b[0;34m*=\u001b[0m \u001b[0mprofile\u001b[0m\u001b[0;34m[\u001b[0m\u001b[0mconsensus\u001b[0m\u001b[0;34m[\u001b[0m\u001b[0mi\u001b[0m\u001b[0;34m]\u001b[0m\u001b[0;34m]\u001b[0m\u001b[0;34m[\u001b[0m\u001b[0mi\u001b[0m\u001b[0;34m]\u001b[0m\u001b[0;34m\u001b[0m\u001b[0m\n\u001b[0m\u001b[1;32m      5\u001b[0m     \u001b[0;32mreturn\u001b[0m \u001b[0mprob\u001b[0m\u001b[0;34m\u001b[0m\u001b[0m\n",
      "\u001b[0;31mTypeError\u001b[0m: can't multiply sequence by non-int of type 'str'"
     ]
    }
   ],
   "source": [
    "profile_most_probable_kmer(dna, 15, profile)"
   ]
  }
 ],
 "metadata": {
  "kernelspec": {
   "display_name": "Python 3",
   "language": "python",
   "name": "python3"
  },
  "language_info": {
   "codemirror_mode": {
    "name": "ipython",
    "version": 3
   },
   "file_extension": ".py",
   "mimetype": "text/x-python",
   "name": "python",
   "nbconvert_exporter": "python",
   "pygments_lexer": "ipython3",
   "version": "3.6.1"
  }
 },
 "nbformat": 4,
 "nbformat_minor": 2
}
