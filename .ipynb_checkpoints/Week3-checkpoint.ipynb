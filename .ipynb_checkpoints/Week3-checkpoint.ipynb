{
 "cells": [
  {
   "cell_type": "code",
   "execution_count": 1,
   "metadata": {},
   "outputs": [
    {
     "data": {
      "text/plain": [
       "1.89208984375"
      ]
     },
     "execution_count": 1,
     "metadata": {},
     "output_type": "execute_result"
    }
   ],
   "source": [
    "500*992*(0.25)**9"
   ]
  },
  {
   "cell_type": "code",
   "execution_count": 2,
   "metadata": {
    "collapsed": true
   },
   "outputs": [],
   "source": [
    "def neighbors_of_each_dna(dna_string, k, d):\n",
    "    n_list = []\n",
    "    for i in range(len(dna_string)-k+1):\n",
    "        for n in neighbors(dna_string[i:i+k], d):\n",
    "            n_list.append(n)\n",
    "    n_list = list(set(n_list))\n",
    "    return n_list"
   ]
  },
  {
   "cell_type": "code",
   "execution_count": 3,
   "metadata": {
    "collapsed": true
   },
   "outputs": [],
   "source": [
    "def motifEnumeration(dna, k, d):\n",
    "    patterns = set()\n",
    "    neighbor_list = [neighbors_of_each_dna(dna_string, k, d) for dna_string in dna]\n",
    "    for i in range(len(dna[0])-k+1):\n",
    "        current_kmer = dna[0][i:i+k]\n",
    "        for x in neighbors(current_kmer, d):\n",
    "            count = 0\n",
    "            for i in neighbor_list:\n",
    "                if x in i:\n",
    "                    count += 1\n",
    "            if count == len(dna):\n",
    "                patterns.add(x)\n",
    "    return patterns"
   ]
  },
  {
   "cell_type": "code",
   "execution_count": 11,
   "metadata": {},
   "outputs": [
    {
     "data": {
      "text/plain": [
       "{'ATA', 'ATT', 'GTT', 'TTT'}"
      ]
     },
     "execution_count": 11,
     "metadata": {},
     "output_type": "execute_result"
    }
   ],
   "source": [
    "motifEnumeration(['ATTTGGC', 'TGCCTTA','CGGTATC','GAAAATT'], 3, 1)"
   ]
  },
  {
   "cell_type": "code",
   "execution_count": 5,
   "metadata": {
    "collapsed": true
   },
   "outputs": [],
   "source": [
    "def neighbors(pattern, d):\n",
    "    if d == 0: return set(pattern)\n",
    "    if len(pattern) == 1:\n",
    "        return {'A','C','G','T'}\n",
    "    neighborhood = set()\n",
    "    suffixNeighbors = neighbors(pattern[1:], d)\n",
    "    for i in suffixNeighbors:\n",
    "        if hammingDistance(pattern[1:], i) < d:\n",
    "            for x in nu_list:\n",
    "                neighborhood.add(x + i)\n",
    "        else:\n",
    "            neighborhood.add(pattern[0]+i)\n",
    "    return neighborhood"
   ]
  },
  {
   "cell_type": "code",
   "execution_count": 7,
   "metadata": {
    "collapsed": true
   },
   "outputs": [],
   "source": [
    "def hammingDistance(p, q):\n",
    "    count = 0\n",
    "    for i in range(len(p)):\n",
    "        if p[i] != q[i]:\n",
    "            count += 1\n",
    "    return count"
   ]
  },
  {
   "cell_type": "code",
   "execution_count": 9,
   "metadata": {
    "collapsed": true
   },
   "outputs": [],
   "source": [
    "nu_list = ['A','C','T','G']\n",
    "\n",
    "def immediateNeighbors(pattern):\n",
    "    neighborhood = []\n",
    "    for i in range(len(pattern)):\n",
    "        neighborhood += [pattern[:i] + x + pattern[i+1:] for x in nu_list if x != pattern[i]]\n",
    "    return set(neighborhood)    "
   ]
  },
  {
   "cell_type": "code",
   "execution_count": 10,
   "metadata": {},
   "outputs": [
    {
     "name": "stdout",
     "output_type": "stream",
     "text": [
      "TGGTGAAGCGTTCAGCTGCGGTTATAGATTAGTGTAATCGGCCGCATCCTAGTCACACAGATGCGTTATTGGTTGACCTGATATGGAGTCAATGTTGCAATCACAAATTCCTCGGTACACAGTTAATCTGCTGCAGGTTACGGTAGTCGAGCTCTTTGAGGACACATCTATATACCTATCCCGGATACAAGAAACCGTACCAGTAACTAAGGAAACAAATTAGGATCGCGACGGTCAGCACGGTATAGACGAGAACGCCTGTGACCATGCGGTGGTACTGCCGCAAACTAACGTCTGCCATCGACTATACGGGATGCTCCTCTGCTCGGCAACCCGTGGTGATCCCAACTAAACCGTTCCGAAATCTCGATCTATGGAGTTTTTAATGGGAACATAACGGAGTTAATCTACAGGAGAATCTGCCTACTAATGTTGATGACGGCAGAAGTCATCGAGCAAATGCTTCACTTTCCGCCGGCCGAGCTGGTTGTAAACTGTCTCACGTTGCGACCGCCTCATTGTGCGAAGTCTTGCGCGAACAAGATGTATCAACCCGGGTCGTGACTCTGACTGATCCACAGACATTGGAAGCACCCACACGCCGCGCGCAGCCAACAGTCCAGCCCATATCTCTAACGCTGGTCACCAGATAAGCGTGATCATTGCCGTGTACTCTGCCAGGATGAACTACCGTAGTACATCATATCATAATACGCTGAACGCAGTCGTCACCCACCCACGCAATTATCCGCCTCTGGCTCACGCAATCACCAGCTGCCGGTCACTGCTAGAAAAGCAACCATTTGATTGGCACTCACTTAGCCGAGGGCCCTAATTTACCTGGCCCTAATTTGAGGGGACAGCATTCCACGCCATGATGGCCGGCGCGGACCACCCAGATAACATGTGTCAGCTGGCCCCGGCGAATGGCTTGCGATTATGTGACAAAGTAACGTCCGCGTCTTTGGCTGCAAGGCGTTCTTAAGGTCAAGGGAAGAGT\n",
      "14\n",
      "0.282 0.239 0.282 0.31 0.282 0.254 0.296 0.211 0.324 0.31 0.225 0.225 0.31 0.225\n",
      "0.211 0.282 0.268 0.225 0.282 0.268 0.254 0.282 0.268 0.141 0.239 0.338 0.211 0.296\n",
      "0.239 0.239 0.296 0.197 0.211 0.282 0.254 0.211 0.254 0.338 0.296 0.239 0.211 0.183\n",
      "0.268 0.239 0.155 0.268 0.225 0.197 0.197 0.296 0.155 0.211 0.239 0.197 0.268 0.296\n",
      "\n"
     ]
    }
   ],
   "source": [
    "with open('/home/jeongyeojin/dataset_159_3.txt') as f:\n",
    "    data2 = f.read()\n",
    "\n",
    "print(data2)"
   ]
  },
  {
   "cell_type": "code",
   "execution_count": 142,
   "metadata": {},
   "outputs": [
    {
     "data": {
      "text/plain": [
       "['TGGTGAAGCGTTCAGCTGCGGTTATAGATTAGTGTAATCGGCCGCATCCTAGTCACACAGATGCGTTATTGGTTGACCTGATATGGAGTCAATGTTGCAATCACAAATTCCTCGGTACACAGTTAATCTGCTGCAGGTTACGGTAGTCGAGCTCTTTGAGGACACATCTATATACCTATCCCGGATACAAGAAACCGTACCAGTAACTAAGGAAACAAATTAGGATCGCGACGGTCAGCACGGTATAGACGAGAACGCCTGTGACCATGCGGTGGTACTGCCGCAAACTAACGTCTGCCATCGACTATACGGGATGCTCCTCTGCTCGGCAACCCGTGGTGATCCCAACTAAACCGTTCCGAAATCTCGATCTATGGAGTTTTTAATGGGAACATAACGGAGTTAATCTACAGGAGAATCTGCCTACTAATGTTGATGACGGCAGAAGTCATCGAGCAAATGCTTCACTTTCCGCCGGCCGAGCTGGTTGTAAACTGTCTCACGTTGCGACCGCCTCATTGTGCGAAGTCTTGCGCGAACAAGATGTATCAACCCGGGTCGTGACTCTGACTGATCCACAGACATTGGAAGCACCCACACGCCGCGCGCAGCCAACAGTCCAGCCCATATCTCTAACGCTGGTCACCAGATAAGCGTGATCATTGCCGTGTACTCTGCCAGGATGAACTACCGTAGTACATCATATCATAATACGCTGAACGCAGTCGTCACCCACCCACGCAATTATCCGCCTCTGGCTCACGCAATCACCAGCTGCCGGTCACTGCTAGAAAAGCAACCATTTGATTGGCACTCACTTAGCCGAGGGCCCTAATTTACCTGGCCCTAATTTGAGGGGACAGCATTCCACGCCATGATGGCCGGCGCGGACCACCCAGATAACATGTGTCAGCTGGCCCCGGCGAATGGCTTGCGATTATGTGACAAAGTAACGTCCGCGTCTTTGGCTGCAAGGCGTTCTTAAGGTCAAGGGAAGAGT',\n",
       " '14',\n",
       " '0.282 0.239 0.282 0.31 0.282 0.254 0.296 0.211 0.324 0.31 0.225 0.225 0.31 0.225',\n",
       " '0.211 0.282 0.268 0.225 0.282 0.268 0.254 0.282 0.268 0.141 0.239 0.338 0.211 0.296',\n",
       " '0.239 0.239 0.296 0.197 0.211 0.282 0.254 0.211 0.254 0.338 0.296 0.239 0.211 0.183',\n",
       " '0.268 0.239 0.155 0.268 0.225 0.197 0.197 0.296 0.155 0.211 0.239 0.197 0.268 0.296',\n",
       " '']"
      ]
     },
     "execution_count": 142,
     "metadata": {},
     "output_type": "execute_result"
    }
   ],
   "source": [
    "new_data = data2.split('\\n')\n",
    "new_data"
   ]
  },
  {
   "cell_type": "code",
   "execution_count": 143,
   "metadata": {
    "collapsed": true
   },
   "outputs": [],
   "source": [
    "dna = new_data[0]\n",
    "profile = {'A' :  [float(x) for x in new_data[2].split(' ')], 'C': [float(x) for x in new_data[3].split(' ')], 'G':[float(x) for x in new_data[4].split(' ')], 'T':[float(x) for x in new_data[5].split(' ')] }"
   ]
  },
  {
   "cell_type": "code",
   "execution_count": 144,
   "metadata": {},
   "outputs": [
    {
     "data": {
      "text/plain": [
       "'TGGTGAAGCGTTCAGCTGCGGTTATAGATTAGTGTAATCGGCCGCATCCTAGTCACACAGATGCGTTATTGGTTGACCTGATATGGAGTCAATGTTGCAATCACAAATTCCTCGGTACACAGTTAATCTGCTGCAGGTTACGGTAGTCGAGCTCTTTGAGGACACATCTATATACCTATCCCGGATACAAGAAACCGTACCAGTAACTAAGGAAACAAATTAGGATCGCGACGGTCAGCACGGTATAGACGAGAACGCCTGTGACCATGCGGTGGTACTGCCGCAAACTAACGTCTGCCATCGACTATACGGGATGCTCCTCTGCTCGGCAACCCGTGGTGATCCCAACTAAACCGTTCCGAAATCTCGATCTATGGAGTTTTTAATGGGAACATAACGGAGTTAATCTACAGGAGAATCTGCCTACTAATGTTGATGACGGCAGAAGTCATCGAGCAAATGCTTCACTTTCCGCCGGCCGAGCTGGTTGTAAACTGTCTCACGTTGCGACCGCCTCATTGTGCGAAGTCTTGCGCGAACAAGATGTATCAACCCGGGTCGTGACTCTGACTGATCCACAGACATTGGAAGCACCCACACGCCGCGCGCAGCCAACAGTCCAGCCCATATCTCTAACGCTGGTCACCAGATAAGCGTGATCATTGCCGTGTACTCTGCCAGGATGAACTACCGTAGTACATCATATCATAATACGCTGAACGCAGTCGTCACCCACCCACGCAATTATCCGCCTCTGGCTCACGCAATCACCAGCTGCCGGTCACTGCTAGAAAAGCAACCATTTGATTGGCACTCACTTAGCCGAGGGCCCTAATTTACCTGGCCCTAATTTGAGGGGACAGCATTCCACGCCATGATGGCCGGCGCGGACCACCCAGATAACATGTGTCAGCTGGCCCCGGCGAATGGCTTGCGATTATGTGACAAAGTAACGTCCGCGTCTTTGGCTGCAAGGCGTTCTTAAGGTCAAGGGAAGAGT'"
      ]
     },
     "execution_count": 144,
     "metadata": {},
     "output_type": "execute_result"
    }
   ],
   "source": [
    "dna"
   ]
  },
  {
   "cell_type": "code",
   "execution_count": 145,
   "metadata": {},
   "outputs": [
    {
     "data": {
      "text/plain": [
       "{'A': [0.282,\n",
       "  0.239,\n",
       "  0.282,\n",
       "  0.31,\n",
       "  0.282,\n",
       "  0.254,\n",
       "  0.296,\n",
       "  0.211,\n",
       "  0.324,\n",
       "  0.31,\n",
       "  0.225,\n",
       "  0.225,\n",
       "  0.31,\n",
       "  0.225],\n",
       " 'C': [0.211,\n",
       "  0.282,\n",
       "  0.268,\n",
       "  0.225,\n",
       "  0.282,\n",
       "  0.268,\n",
       "  0.254,\n",
       "  0.282,\n",
       "  0.268,\n",
       "  0.141,\n",
       "  0.239,\n",
       "  0.338,\n",
       "  0.211,\n",
       "  0.296],\n",
       " 'G': [0.239,\n",
       "  0.239,\n",
       "  0.296,\n",
       "  0.197,\n",
       "  0.211,\n",
       "  0.282,\n",
       "  0.254,\n",
       "  0.211,\n",
       "  0.254,\n",
       "  0.338,\n",
       "  0.296,\n",
       "  0.239,\n",
       "  0.211,\n",
       "  0.183],\n",
       " 'T': [0.268,\n",
       "  0.239,\n",
       "  0.155,\n",
       "  0.268,\n",
       "  0.225,\n",
       "  0.197,\n",
       "  0.197,\n",
       "  0.296,\n",
       "  0.155,\n",
       "  0.211,\n",
       "  0.239,\n",
       "  0.197,\n",
       "  0.268,\n",
       "  0.296]}"
      ]
     },
     "execution_count": 145,
     "metadata": {},
     "output_type": "execute_result"
    }
   ],
   "source": [
    "profile"
   ]
  },
  {
   "cell_type": "code",
   "execution_count": 90,
   "metadata": {},
   "outputs": [
    {
     "data": {
      "text/plain": [
       "['ACAATTAAGACATTAACCATACCGGGAGCAGCTAAGCACCGC',\n",
       " 'TGCGTGAGATGTCTTCATGCTAAGTGTGCAGCTGTAAGTCGC',\n",
       " 'AATTAAACATGATACGCGACTTCAGCTAAGCGGCTAGATCCC',\n",
       " 'TTTGTGTTGCTCGCTATGTTTGCCTAGTAGATTGTGGACATT',\n",
       " 'GCGAACACTCCCCATGGAGCCTTTCCACCGGCTATGATTGTA',\n",
       " 'ACACCTTAGTACTCTGCTCGAGCCGCTATGTTGATTCCCGGC',\n",
       " 'CGTGAAAATTGTGCTACGACTTTTTACATTTTTTTTTCAACA',\n",
       " 'ATGCCACTAATTGGCTACGCTACGATCTCCTGGATAAAATGC',\n",
       " 'AGCTTTATTTTGGATGCCAGTACGGCAGCTCCTTCGGCTACG',\n",
       " 'GTAGTCCCAAGATGCCCGAATTGTGATACATCGTGAGCTATG']"
      ]
     },
     "execution_count": 90,
     "metadata": {},
     "output_type": "execute_result"
    }
   ],
   "source": [
    "new_data[1:-1]"
   ]
  },
  {
   "cell_type": "code",
   "execution_count": 67,
   "metadata": {},
   "outputs": [
    {
     "name": "stdout",
     "output_type": "stream",
     "text": [
      "ATTTC ATGTC ATATC ATCTC \n"
     ]
    }
   ],
   "source": [
    "strr = ''\n",
    "for x in motifEnumeration(new_data[1:-1], 5, 1):\n",
    "    strr += '{} '.format(x)\n",
    "print(strr)"
   ]
  },
  {
   "cell_type": "code",
   "execution_count": 12,
   "metadata": {
    "collapsed": true
   },
   "outputs": [],
   "source": [
    "Motifs = [\n",
    "\"TCGGGGGTTTTT\",\n",
    "\"CCGGTGACTTAC\",\n",
    "\"ACGGGGATTTTC\",\n",
    "\"TTGGGGACTTTT\",\n",
    "\"AAGGGGACTTCC\",\n",
    "\"TTGGGGACTTCC\",\n",
    "\"TCGGGGATTCAT\",\n",
    "\"TCGGGGATTCCT\",\n",
    "\"TAGGGGAACTAC\",\n",
    "\"TCGGGTATAACC\"\n",
    "]"
   ]
  },
  {
   "cell_type": "code",
   "execution_count": 13,
   "metadata": {
    "collapsed": true
   },
   "outputs": [],
   "source": [
    "from collections import Counter\n",
    "import math"
   ]
  },
  {
   "cell_type": "code",
   "execution_count": 14,
   "metadata": {
    "collapsed": true
   },
   "outputs": [],
   "source": [
    "def entropy(motifs):\n",
    "    columns = []\n",
    "    for i in range(len(motifs[0])):\n",
    "        new_col = ''\n",
    "        for x in motifs:\n",
    "            new_col += x[i]\n",
    "        columns.append(new_col)\n",
    "    \n",
    "    total_entropy = 0\n",
    "    for i in columns:\n",
    "        entropy = 0\n",
    "        c = Counter(i)\n",
    "        for nucleotide, frequency in c.items():\n",
    "            entropy -= (frequency/len(motifs))*math.log((frequency/len(motifs)),2)\n",
    "        total_entropy += entropy\n",
    "    \n",
    "    return total_entropy"
   ]
  },
  {
   "cell_type": "code",
   "execution_count": 28,
   "metadata": {},
   "outputs": [
    {
     "data": {
      "text/plain": [
       "{'A': [0.2, 0.8, 0.4, 0.2, 0.4, 0.4, 0.2, 0.8, 0.0, 0.0, 0.2, 0.4],\n",
       " 'C': [0.6, 0.0, 0.4, 0.0, 0.0, 0.2, 0.4, 0.0, 0.0, 0.4, 0.6, 0.4],\n",
       " 'G': [0.2, 0.2, 0.2, 0.6, 0.2, 0.0, 0.2, 0.0, 0.4, 0.2, 0.2, 0.2],\n",
       " 'T': [0.0, 0.0, 0.0, 0.2, 0.4, 0.4, 0.2, 0.2, 0.6, 0.4, 0.0, 0.0]}"
      ]
     },
     "execution_count": 28,
     "metadata": {},
     "output_type": "execute_result"
    }
   ],
   "source": [
    "create_profile(sample_dna)"
   ]
  },
  {
   "cell_type": "code",
   "execution_count": 19,
   "metadata": {
    "collapsed": true
   },
   "outputs": [],
   "source": [
    "def distanceBetweenPatternAndStrings(pattern, dna):\n",
    "    k = len(pattern)\n",
    "    distance = 0\n",
    "    for x in dna:\n",
    "        hammingDist = math.inf\n",
    "        for i in range(len(x)-k+1):\n",
    "            current_kmer = x[i:i+k]\n",
    "            if hammingDist > hammingDistance(pattern, current_kmer):\n",
    "                hammingDist = hammingDistance(pattern, current_kmer)\n",
    "        distance += hammingDist\n",
    "    return distance\n",
    "        "
   ]
  },
  {
   "cell_type": "code",
   "execution_count": 20,
   "metadata": {
    "collapsed": true
   },
   "outputs": [],
   "source": [
    "nu_dict_inverse = {0 : 'A', 1 : 'C', 2 : 'G', 3 : 'T'}\n",
    "\n",
    "def numberToPattern(num, k):\n",
    "    if k == 1:\n",
    "        return nu_dict_inverse[num]\n",
    "    prefixIndex = num//4\n",
    "    r = num%4\n",
    "    last_nu = nu_dict_inverse[r]\n",
    "    return numberToPattern(prefixIndex, k-1)+last_nu"
   ]
  },
  {
   "cell_type": "code",
   "execution_count": 21,
   "metadata": {
    "collapsed": true
   },
   "outputs": [],
   "source": [
    "def medianString(dna, k):\n",
    "    distance = math.inf\n",
    "    for i in range(4**k):\n",
    "        pattern = numberToPattern(i, k)\n",
    "        if distance > distanceBetweenPatternAndStrings(pattern, dna):\n",
    "            distance = distanceBetweenPatternAndStrings(pattern, dna)\n",
    "            median = pattern \n",
    "    return median"
   ]
  },
  {
   "cell_type": "code",
   "execution_count": 23,
   "metadata": {
    "collapsed": true
   },
   "outputs": [],
   "source": [
    "def profile_probability(consensus, profile):\n",
    "    prob = 1\n",
    "    for i in range(len(consensus)):\n",
    "        prob *= profile[consensus[i]][i]\n",
    "    return prob"
   ]
  },
  {
   "cell_type": "code",
   "execution_count": 24,
   "metadata": {
    "collapsed": true
   },
   "outputs": [],
   "source": [
    "def profile_most_probable_kmer(dna, k, profile):\n",
    "    prob = 0\n",
    "    most_probable_kmer = ''\n",
    "    for i in range(len(dna)-k+1):\n",
    "        current_kmer = dna[i:i+k]\n",
    "        if profile_probability(current_kmer, profile) > prob:\n",
    "            prob = profile_probability(current_kmer, profile)\n",
    "            most_probable_kmer = current_kmer \n",
    "    return most_probable_kmer"
   ]
  },
  {
   "cell_type": "code",
   "execution_count": 15,
   "metadata": {
    "collapsed": true
   },
   "outputs": [],
   "source": [
    "def create_profile(motifs):\n",
    "    col_len = len(motifs)\n",
    "    A_list = []\n",
    "    C_list = []\n",
    "    G_list = []\n",
    "    T_list = []\n",
    "    for i in range(len(motifs[0])):\n",
    "        col_nucleotides = [x[i] for x in motifs]\n",
    "        c = Counter(col_nucleotides)\n",
    "        A_list.append(c['A']/col_len)\n",
    "        C_list.append(c['C']/col_len)\n",
    "        G_list.append(c['G']/col_len)\n",
    "        T_list.append(c['T']/col_len)\n",
    "    profile = {'A':A_list, 'C':C_list, 'G':G_list, 'T':T_list}\n",
    "    return profile"
   ]
  },
  {
   "cell_type": "code",
   "execution_count": 34,
   "metadata": {},
   "outputs": [],
   "source": [
    "def greedyMotifSearch(dna, k, t):\n",
    "    bestMotifs = [each_dna[:k] for each_dna in dna]\n",
    "    for i in range(len(dna[0])-k+1):\n",
    "        current_first_kmer = dna[0][i:i+k]\n",
    "        motifs = []\n",
    "        motifs.append(current_first_kmer)\n",
    "        print(motifs)\n",
    "        for i in range(1, t):\n",
    "            current_profile = create_profile(motifs)\n",
    "            motifs.append(profile_most_probable_kmer(dna[i], k, current_profile))\n",
    "        if entropy(motifs) < entropy(bestMotifs):\n",
    "            bestMotifs = motifs\n",
    "    return bestMotifs\n",
    "            \n",
    "            \n",
    "            \n",
    "        \n",
    "        "
   ]
  },
  {
   "cell_type": "code",
   "execution_count": 31,
   "metadata": {
    "collapsed": true
   },
   "outputs": [],
   "source": [
    "sample_dna = ['GGCGTTCAGGCA', 'AAGAATCAGTCA', 'CAAGGAGTTCGC', 'CACGTCAATCAC','CAATAATATTCG']"
   ]
  },
  {
   "cell_type": "code",
   "execution_count": 32,
   "metadata": {},
   "outputs": [
    {
     "data": {
      "text/plain": [
       "{'A': [1.0, 1.0, 1.0, 1.0],\n",
       " 'C': [0.0, 0.0, 0.0, 0.0],\n",
       " 'G': [0.0, 0.0, 0.0, 0.0],\n",
       " 'T': [0.0, 0.0, 0.0, 0.0]}"
      ]
     },
     "execution_count": 32,
     "metadata": {},
     "output_type": "execute_result"
    }
   ],
   "source": [
    "create_profile(['AAAA'])"
   ]
  },
  {
   "cell_type": "code",
   "execution_count": 30,
   "metadata": {},
   "outputs": [
    {
     "data": {
      "text/plain": [
       "['GGC', 'AAG', 'CAA', 'CAC', 'CAA']"
      ]
     },
     "execution_count": 30,
     "metadata": {},
     "output_type": "execute_result"
    }
   ],
   "source": [
    " [each_dna[:3] for each_dna in sample_dna]"
   ]
  },
  {
   "cell_type": "code",
   "execution_count": 35,
   "metadata": {},
   "outputs": [
    {
     "name": "stdout",
     "output_type": "stream",
     "text": [
      "['GGC']\n",
      "['GCG']\n",
      "['CGT']\n",
      "['GTT']\n",
      "['TTC']\n",
      "['TCA']\n",
      "['CAG']\n",
      "['AGG']\n",
      "['GGC']\n",
      "['GCA']\n"
     ]
    }
   ],
   "source": [
    "greedyMotifSearch(sample_dna, 3, 5)"
   ]
  }
 ],
 "metadata": {
  "kernelspec": {
   "display_name": "Python 3",
   "language": "python",
   "name": "python3"
  },
  "language_info": {
   "codemirror_mode": {
    "name": "ipython",
    "version": 3
   },
   "file_extension": ".py",
   "mimetype": "text/x-python",
   "name": "python",
   "nbconvert_exporter": "python",
   "pygments_lexer": "ipython3",
   "version": "3.6.1"
  }
 },
 "nbformat": 4,
 "nbformat_minor": 2
}
