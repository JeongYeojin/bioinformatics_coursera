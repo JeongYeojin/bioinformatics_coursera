{
 "cells": [
  {
   "cell_type": "code",
   "execution_count": 1,
   "metadata": {
    "collapsed": true
   },
   "outputs": [],
   "source": [
    "genetic_code_dict = {'AAA':'K','AAC':'N','AAG':'K','AAU':'N','ACA':'T','ACC':'T','ACG':'T','ACU':'T','AGA':'R','AGC':'S','AGG':'R','AGU':'S','AUA':'I','AUC':'I','AUG':'M','AUU':'I',\n",
    "                    'CAA':'Q','CAC':'H','CAG':'Q','CAU':'H','CCA':'P','CCC':'P','CCG':'P','CCU':'P','CGA':'R','CGC':'R','CGG':'R','CGU':'R','CUA':'L','CUC':'L','CUG':'L','CUU':'L',\n",
    "                    'GAA':'E','GAC':'D','GAG':'E','GAU':'D','GCA':'A','GCC':'A','GCG':'A','GCU':'A','GGA':'G','GGC':'G','GGG':'G','GGU':'G','GUA':'V','GUC':'V','GUG':'V','GUU':'V',\n",
    "                    'UAA':'*','UAC':'Y','UAG':'*','UAU':'Y','UCA':'S','UCC':'S','UCG':'S','UCU':'S','UGA':'*','UGC':'C','UGG':'W','UGU':'C','UUA':'L','UUC':'F','UUG':'L','UUU':'F'} "
   ]
  },
  {
   "cell_type": "code",
   "execution_count": 2,
   "metadata": {},
   "outputs": [
    {
     "data": {
      "text/plain": [
       "defaultdict(list,\n",
       "            {'*': ['UAA', 'UAG', 'UGA'],\n",
       "             'A': ['GCA', 'GCC', 'GCG', 'GCU'],\n",
       "             'C': ['UGC', 'UGU'],\n",
       "             'D': ['GAC', 'GAU'],\n",
       "             'E': ['GAA', 'GAG'],\n",
       "             'F': ['UUC', 'UUU'],\n",
       "             'G': ['GGA', 'GGC', 'GGG', 'GGU'],\n",
       "             'H': ['CAC', 'CAU'],\n",
       "             'I': ['AUA', 'AUC', 'AUU'],\n",
       "             'K': ['AAA', 'AAG'],\n",
       "             'L': ['CUA', 'CUC', 'CUG', 'CUU', 'UUA', 'UUG'],\n",
       "             'M': ['AUG'],\n",
       "             'N': ['AAC', 'AAU'],\n",
       "             'P': ['CCA', 'CCC', 'CCG', 'CCU'],\n",
       "             'Q': ['CAA', 'CAG'],\n",
       "             'R': ['AGA', 'AGG', 'CGA', 'CGC', 'CGG', 'CGU'],\n",
       "             'S': ['AGC', 'AGU', 'UCA', 'UCC', 'UCG', 'UCU'],\n",
       "             'T': ['ACA', 'ACC', 'ACG', 'ACU'],\n",
       "             'V': ['GUA', 'GUC', 'GUG', 'GUU'],\n",
       "             'W': ['UGG'],\n",
       "             'Y': ['UAC', 'UAU']})"
      ]
     },
     "execution_count": 2,
     "metadata": {},
     "output_type": "execute_result"
    }
   ],
   "source": [
    "from collections import defaultdict\n",
    "peptide_dict = defaultdict(list)\n",
    "for codon, pep in genetic_code_dict.items():\n",
    "    peptide_dict[pep].append(codon)\n",
    "peptide_dict"
   ]
  },
  {
   "cell_type": "code",
   "execution_count": 3,
   "metadata": {
    "collapsed": true
   },
   "outputs": [],
   "source": [
    "abbrev_dict = {'Val':'V','Gly':'G','Ala':'A','Glu':'E','Asp':'D','Leu':'L','Arg':'R','Pro':'P','Gln':'Q',\n",
    "                      'His':'H','Met':'M','Ile':'I','Ser':'S','Thr':'T','Lys':'K','Asn':'N','Phe':'F','Trp':'W','STP':'*','Cys':'C','Tyr':'Y'}"
   ]
  },
  {
   "cell_type": "code",
   "execution_count": 34,
   "metadata": {
    "collapsed": true
   },
   "outputs": [],
   "source": [
    "with open('/home/jeongyeojin/anaconda2/bioinformatics/Bacillus_brevis.txt') as f:\n",
    "    dna_data = f.read().split('\\n')[:-1] "
   ]
  },
  {
   "cell_type": "code",
   "execution_count": 5,
   "metadata": {
    "collapsed": true
   },
   "outputs": [],
   "source": [
    "def rna_translation(rna_string):\n",
    "    peptide_sequence =''\n",
    "    for i in range(len(rna_string)//3):\n",
    "        peptide = genetic_code_dict[rna_string[3*i:3*i+3]]\n",
    "        if peptide == '*':\n",
    "            break\n",
    "        peptide_sequence += peptide\n",
    "    return peptide_sequence"
   ]
  },
  {
   "cell_type": "code",
   "execution_count": 6,
   "metadata": {},
   "outputs": [
    {
     "data": {
      "text/plain": [
       "'AGU'"
      ]
     },
     "execution_count": 6,
     "metadata": {},
     "output_type": "execute_result"
    }
   ],
   "source": [
    "comp_nu = {'A' : 'T', 'C':'G','G':'C','T':'A'}\n",
    "def reverseComplement(sequence):\n",
    "    return   ''.join(comp_nu[x] for x in sequence[::-1])\n",
    "\n",
    "reverseComplement('GATTACA')\n",
    "\n",
    "def dna_to_rna(rna):\n",
    "    return rna.replace('T','U')\n",
    "\n",
    "dna_to_rna('AGT')"
   ]
  },
  {
   "cell_type": "code",
   "execution_count": 7,
   "metadata": {
    "collapsed": true
   },
   "outputs": [],
   "source": [
    "def find_substring(dna_string, peptide_string):\n",
    "    substring_list = []\n",
    "    substring_len = len(peptide_string)*3\n",
    "    for i in range(len(dna_string)-substring_len+1):\n",
    "        current_substring = dna_string[i:i+substring_len]\n",
    "        if rna_translation(dna_to_rna(current_substring)) == peptide_string or rna_translation(dna_to_rna(reverseComplement(current_substring))) == peptide_string:\n",
    "            substring_list.append(current_substring)\n",
    "    return substring_list\n",
    "        "
   ]
  },
  {
   "cell_type": "code",
   "execution_count": 66,
   "metadata": {
    "collapsed": true
   },
   "outputs": [],
   "source": [
    "with open('/home/jeongyeojin/result.txt','w') as f:\n",
    "    for a in result:\n",
    "        f.write(str(a)+' ')"
   ]
  },
  {
   "cell_type": "code",
   "execution_count": 8,
   "metadata": {
    "collapsed": true
   },
   "outputs": [],
   "source": [
    "amino_acid_mass_dict = {'G':57,'A':71,'S':87,'P':97,'V':99,'T':101,'C':103,'I':113,'L':113,'N':114,'D':115,\n",
    "                       'K':128, 'Q':128, 'E':129,'M':131,'H':137,'F':147,'R':156,'Y':163,'W':186}"
   ]
  },
  {
   "cell_type": "code",
   "execution_count": 9,
   "metadata": {
    "collapsed": true
   },
   "outputs": [],
   "source": [
    "def possible_subpeptides_numbers(n):\n",
    "    return n*(n-1)\n",
    "\n",
    "def linear_spectrum(peptide):\n",
    "    prefix_mass = [0]\n",
    "    for i in range(len(peptide)):\n",
    "        current_amino_acid = peptide[i]\n",
    "        prefix_mass.append(prefix_mass[-1]+amino_acid_mass_dict[current_amino_acid])\n",
    "    linearSpectrum = [0]\n",
    "    for i in range(len(peptide)):\n",
    "        for j in range(i+1, len(peptide)+1):\n",
    "            linearSpectrum.append(prefix_mass[j]-prefix_mass[i])\n",
    "    linearSpectrum.sort()\n",
    "    return linearSpectrum\n",
    "\n",
    "def cyclic_spectrum(peptide):\n",
    "    prefix_mass = [0]\n",
    "    for i in range(len(peptide)):\n",
    "        current_amino_acid = peptide[i]\n",
    "        prefix_mass.append(prefix_mass[-1]+amino_acid_mass_dict[current_amino_acid])\n",
    "    cyclicSpectrum = [0]\n",
    "    peptide_mass = prefix_mass[-1]  # mass of entire peptide \n",
    "    for i in range(len(peptide)):\n",
    "        for j in range(i+1, len(peptide)+1):\n",
    "            cyclicSpectrum.append(prefix_mass[j]-prefix_mass[i])\n",
    "            if i > 0 and j < (len(peptide)):\n",
    "                cyclicSpectrum.append(peptide_mass - (prefix_mass[j]-prefix_mass[i]))\n",
    "    cyclicSpectrum.sort()\n",
    "    return cyclicSpectrum\n",
    "\n"
   ]
  },
  {
   "cell_type": "code",
   "execution_count": 10,
   "metadata": {},
   "outputs": [
    {
     "data": {
      "text/plain": [
       "[0, 71, 103, 115, 174, 218, 289]"
      ]
     },
     "execution_count": 10,
     "metadata": {},
     "output_type": "execute_result"
    }
   ],
   "source": [
    "linear_spectrum('ACD')"
   ]
  },
  {
   "cell_type": "code",
   "execution_count": 11,
   "metadata": {},
   "outputs": [
    {
     "name": "stdout",
     "output_type": "stream",
     "text": [
      "[0, 1, 1, 8, 30, 82, 195, 442, 957, 1949, 3516, 5895, 9653, 14490, 19746, 28498, 37566, 48993, 61081, 71814]\n",
      "71814\n"
     ]
    }
   ],
   "source": [
    "def count(S, m, n):\n",
    "    table = [[0 for x in range(m)] for x in range(n+1)]\n",
    "    \n",
    "    for i in range(m):\n",
    "        table[0][i] = 1\n",
    "    #print(table)\n",
    "    \n",
    "    for i in range(1, n+1):\n",
    "        for j in range(m):\n",
    "            x = table[i-S[j]][j] if i-S[j] >= 0 else 0 # solutions that contain at least one S[j] \n",
    "            y = table[i][j-1] if j >=1 else 0 # solutions that do not contain jth coin \n",
    "            table[i][j] = x+y\n",
    "    print(table[n])\n",
    "    return table[n][m-1]\n",
    "\n",
    "arr = list(amino_acid_mass_dict.values())\n",
    "m = len(arr)\n",
    "n = 1024\n",
    "print(count(arr, m, n))\n",
    "            \n",
    "        "
   ]
  },
  {
   "cell_type": "code",
   "execution_count": 12,
   "metadata": {},
   "outputs": [
    {
     "name": "stdout",
     "output_type": "stream",
     "text": [
      "[0, 1, 4, 6]\n"
     ]
    },
    {
     "data": {
      "text/plain": [
       "6"
      ]
     },
     "execution_count": 12,
     "metadata": {},
     "output_type": "execute_result"
    }
   ],
   "source": [
    "count([2,5,3,6],4,11)\n",
    "    "
   ]
  }
 ],
 "metadata": {
  "kernelspec": {
   "display_name": "Python 3",
   "language": "python",
   "name": "python3"
  },
  "language_info": {
   "codemirror_mode": {
    "name": "ipython",
    "version": 3
   },
   "file_extension": ".py",
   "mimetype": "text/x-python",
   "name": "python",
   "nbconvert_exporter": "python",
   "pygments_lexer": "ipython3",
   "version": "3.6.1"
  }
 },
 "nbformat": 4,
 "nbformat_minor": 2
}
