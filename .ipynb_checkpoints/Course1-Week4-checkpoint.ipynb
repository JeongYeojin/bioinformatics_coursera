{
 "cells": [
  {
   "cell_type": "code",
   "execution_count": 24,
   "metadata": {
    "collapsed": true
   },
   "outputs": [],
   "source": [
    "import random\n",
    "from collections import Counter\n",
    "import itertools"
   ]
  },
  {
   "cell_type": "code",
   "execution_count": 26,
   "metadata": {
    "collapsed": true
   },
   "outputs": [],
   "source": [
    "def hammingDistance(p, q):\n",
    "    count = 0\n",
    "    for i in range(len(p)):\n",
    "        if p[i] != q[i]:\n",
    "            count += 1\n",
    "    return count"
   ]
  },
  {
   "cell_type": "code",
   "execution_count": 20,
   "metadata": {
    "collapsed": true
   },
   "outputs": [],
   "source": [
    "def profile_probability(consensus, profile):\n",
    "    prob = 1\n",
    "    for i in range(len(consensus)):\n",
    "        prob *= profile[consensus[i]][i]\n",
    "    return prob"
   ]
  },
  {
   "cell_type": "code",
   "execution_count": 22,
   "metadata": {
    "collapsed": true
   },
   "outputs": [],
   "source": [
    "def profile_to_consensus(profile):\n",
    "    \n",
    "    nu_list = ['A','C','G','T']\n",
    "    nu_candidates = []\n",
    "    consensus_list = []\n",
    "    for i in range(len(profile['A'])):\n",
    "        current_col = [profile[x][i] for x in nu_list]\n",
    "        max_freq = max(enumerate(current_col),key=lambda x: x[1])[1]\n",
    "        current_candidates = []\n",
    "        for j in range(len(current_col)):\n",
    "            if current_col[j] == max_freq:\n",
    "                current_candidates.append(nu_list[j])\n",
    "        nu_candidates.append(current_candidates)\n",
    "    #print(nu_candidates)\n",
    "    for x in list(itertools.product(*nu_candidates)):\n",
    "        consensus_list.append(''.join(y for y in x))\n",
    "    return consensus_list"
   ]
  },
  {
   "cell_type": "code",
   "execution_count": 3,
   "metadata": {
    "collapsed": true
   },
   "outputs": [],
   "source": [
    "def create_profile(motifs):\n",
    "    col_len = len(motifs)\n",
    "    A_list = []\n",
    "    C_list = []\n",
    "    G_list = []\n",
    "    T_list = []\n",
    "    for i in range(len(motifs[0])):\n",
    "        col_nucleotides = [each_motif[i] for each_motif in motifs]\n",
    "        c = Counter(col_nucleotides)\n",
    "        A_list.append(c['A']/col_len)\n",
    "        C_list.append(c['C']/col_len)\n",
    "        G_list.append(c['G']/col_len)\n",
    "        T_list.append(c['T']/col_len)\n",
    "    profile = {'A':A_list, 'C':C_list, 'G':G_list, 'T':T_list}\n",
    "    return profile"
   ]
  },
  {
   "cell_type": "code",
   "execution_count": 30,
   "metadata": {
    "collapsed": true
   },
   "outputs": [],
   "source": [
    "def create_profile_laplacian(motifs):\n",
    "    col_len = len(motifs)\n",
    "    A_list = []\n",
    "    C_list = []\n",
    "    G_list = []\n",
    "    T_list = []\n",
    "    for i in range(len(motifs[0])):\n",
    "        col_nucleotides = [each_motif[i] for each_motif in motifs]\n",
    "        c = Counter(col_nucleotides)\n",
    "        A_list.append((c['A']+1)/(2*col_len))\n",
    "        C_list.append((c['C']+1)/(2*col_len))\n",
    "        G_list.append((c['G']+1)/(2*col_len))\n",
    "        T_list.append((c['T']+1)/(2*col_len))\n",
    "    profile = {'A':A_list, 'C':C_list, 'G':G_list, 'T':T_list}\n",
    "    return profile      "
   ]
  },
  {
   "cell_type": "code",
   "execution_count": 6,
   "metadata": {
    "collapsed": true
   },
   "outputs": [],
   "source": [
    "def profile_most_probable_kmer(dna, k, profile):\n",
    "    prob = 0\n",
    "    most_probable_kmer = ''\n",
    "    for i in range(len(dna)-k+1):\n",
    "        current_kmer = dna[i:i+k]\n",
    "        if profile_probability(current_kmer, profile) > prob:\n",
    "            prob = profile_probability(current_kmer, profile)\n",
    "            most_probable_kmer = current_kmer \n",
    "            \n",
    "    if prob == 0:\n",
    "        most_probable_kmer = dna[:k]\n",
    "    return most_probable_kmer"
   ]
  },
  {
   "cell_type": "code",
   "execution_count": 7,
   "metadata": {
    "collapsed": true
   },
   "outputs": [],
   "source": [
    "def score(motifs):\n",
    "    profile = create_profile(motifs)\n",
    "    consensus = profile_to_consensus(profile)\n",
    "    score = 0\n",
    "    for i in motifs:\n",
    "        score += hammingDistance(consensus, i)\n",
    "    return score\n",
    "    "
   ]
  },
  {
   "cell_type": "code",
   "execution_count": 33,
   "metadata": {},
   "outputs": [],
   "source": [
    "def randomizedMotifSearch(dna, k, t):\n",
    "    random_indexes = [random.randint(0, len(dna[0])-k) for _ in range(t)]\n",
    "    #print(random_indexes)\n",
    "    motifs = [dna[i][random_indexes[i]:random_indexes[i]+k] for i in range(len(random_indexes))]\n",
    "    bestMotifs = motifs\n",
    "    while True:\n",
    "        profile = create_profile_laplacian(motifs)\n",
    "        motifs = [profile_most_probable_kmer(x, k, profile) for x in dna]\n",
    "        if score(motifs) < score(bestMotifs):\n",
    "            bestMotifs = motifs\n",
    "        else:\n",
    "            return bestMotifs, score(bestMotifs)"
   ]
  },
  {
   "cell_type": "code",
   "execution_count": 10,
   "metadata": {
    "collapsed": true
   },
   "outputs": [],
   "source": [
    "sample_dna = ['CGCCCCTCTCGGGGGTGTTCAGTAAACGGCCA','GGGCGAGGTATGTGTAAGTGCCAAGGTGCCAG','TAGTACCGAGACCGAAAGAAGTATACAGGCGT','TAGATCAAGTTTCAGGTGCACGTCGGTGAACC','AATCCACCAGCTCCACGTGCAATGTTGGCCTA']"
   ]
  },
  {
   "cell_type": "code",
   "execution_count": 34,
   "metadata": {},
   "outputs": [
    {
     "data": {
      "text/plain": [
       "(['TCAGTAAA', 'TGTGTAAG', 'TATACAGG', 'TAGATCAA', 'CAGCTCCA'], 20)"
      ]
     },
     "execution_count": 34,
     "metadata": {},
     "output_type": "execute_result"
    }
   ],
   "source": [
    "score_list = []\n",
    "bestMotifs_list = []\n",
    "for i in range(1000):\n",
    "    bestMotifs, score = randomizedMotifSearch(sample_dna, 8, 5)\n",
    "    score_list.append((bestMotifs,score))\n",
    "\n",
    "min_score = min(score_list)\n",
    "for i in range(score_list):\n",
    "    bestMotifs_list.append()\n",
    "    "
   ]
  }
 ],
 "metadata": {
  "kernelspec": {
   "display_name": "Python 3",
   "language": "python",
   "name": "python3"
  },
  "language_info": {
   "codemirror_mode": {
    "name": "ipython",
    "version": 3
   },
   "file_extension": ".py",
   "mimetype": "text/x-python",
   "name": "python",
   "nbconvert_exporter": "python",
   "pygments_lexer": "ipython3",
   "version": "3.6.1"
  }
 },
 "nbformat": 4,
 "nbformat_minor": 2
}
