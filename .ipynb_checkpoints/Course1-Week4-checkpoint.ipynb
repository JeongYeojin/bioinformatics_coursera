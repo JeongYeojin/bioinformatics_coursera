{
 "cells": [
  {
   "cell_type": "code",
   "execution_count": 112,
   "metadata": {
    "collapsed": true
   },
   "outputs": [],
   "source": [
    "import random\n",
    "from collections import Counter\n",
    "import itertools\n",
    "import numpy as np"
   ]
  },
  {
   "cell_type": "code",
   "execution_count": 2,
   "metadata": {
    "collapsed": true
   },
   "outputs": [],
   "source": [
    "def hammingDistance(p, q):\n",
    "    count = 0\n",
    "    for i in range(len(p)):\n",
    "        if p[i] != q[i]:\n",
    "            count += 1\n",
    "    return count"
   ]
  },
  {
   "cell_type": "code",
   "execution_count": 3,
   "metadata": {
    "collapsed": true
   },
   "outputs": [],
   "source": [
    "def profile_probability(consensus, profile):\n",
    "    prob = 1\n",
    "    for i in range(len(consensus)):\n",
    "        prob *= profile[consensus[i]][i]\n",
    "    return prob"
   ]
  },
  {
   "cell_type": "code",
   "execution_count": 4,
   "metadata": {
    "collapsed": true
   },
   "outputs": [],
   "source": [
    "def profile_to_consensus(profile):\n",
    "    \n",
    "    nu_list = ['A','C','G','T']\n",
    "    nu_candidates = []\n",
    "    consensus_list = []\n",
    "    for i in range(len(profile['A'])):\n",
    "        current_col = [profile[x][i] for x in nu_list]\n",
    "        max_freq = max(enumerate(current_col),key=lambda x: x[1])[1]\n",
    "        current_candidates = []\n",
    "        for j in range(len(current_col)):\n",
    "            if current_col[j] == max_freq:\n",
    "                current_candidates.append(nu_list[j])\n",
    "        nu_candidates.append(current_candidates)\n",
    "    #print(nu_candidates)\n",
    "    for x in list(itertools.product(*nu_candidates)):\n",
    "        consensus_list.append(''.join(y for y in x))\n",
    "    return consensus_list"
   ]
  },
  {
   "cell_type": "code",
   "execution_count": 5,
   "metadata": {
    "collapsed": true
   },
   "outputs": [],
   "source": [
    "def create_profile(motifs):\n",
    "    col_len = len(motifs)\n",
    "    A_list = []\n",
    "    C_list = []\n",
    "    G_list = []\n",
    "    T_list = []\n",
    "    for i in range(len(motifs[0])):\n",
    "        col_nucleotides = [each_motif[i] for each_motif in motifs]\n",
    "        c = Counter(col_nucleotides)\n",
    "        A_list.append(c['A']/col_len)\n",
    "        C_list.append(c['C']/col_len)\n",
    "        G_list.append(c['G']/col_len)\n",
    "        T_list.append(c['T']/col_len)\n",
    "    profile = {'A':A_list, 'C':C_list, 'G':G_list, 'T':T_list}\n",
    "    return profile"
   ]
  },
  {
   "cell_type": "code",
   "execution_count": 6,
   "metadata": {
    "collapsed": true
   },
   "outputs": [],
   "source": [
    "def create_profile_laplacian(motifs):\n",
    "    col_len = len(motifs)\n",
    "    A_list = []\n",
    "    C_list = []\n",
    "    G_list = []\n",
    "    T_list = []\n",
    "    for i in range(len(motifs[0])):\n",
    "        col_nucleotides = [each_motif[i] for each_motif in motifs]\n",
    "        c = Counter(col_nucleotides)\n",
    "        A_list.append((c['A']+1)/(2*col_len))\n",
    "        C_list.append((c['C']+1)/(2*col_len))\n",
    "        G_list.append((c['G']+1)/(2*col_len))\n",
    "        T_list.append((c['T']+1)/(2*col_len))\n",
    "    profile = {'A':A_list, 'C':C_list, 'G':G_list, 'T':T_list}\n",
    "    return profile      "
   ]
  },
  {
   "cell_type": "code",
   "execution_count": 7,
   "metadata": {
    "collapsed": true
   },
   "outputs": [],
   "source": [
    "def profile_most_probable_kmer(dna, k, profile):\n",
    "    prob = 0\n",
    "    most_probable_kmer = ''\n",
    "    for i in range(len(dna)-k+1):\n",
    "        current_kmer = dna[i:i+k]\n",
    "        if profile_probability(current_kmer, profile) > prob:\n",
    "            prob = profile_probability(current_kmer, profile)\n",
    "            most_probable_kmer = current_kmer \n",
    "            \n",
    "    if prob == 0:\n",
    "        most_probable_kmer = dna[:k]\n",
    "    return most_probable_kmer"
   ]
  },
  {
   "cell_type": "code",
   "execution_count": 52,
   "metadata": {
    "collapsed": true
   },
   "outputs": [],
   "source": [
    "def score(motifs):\n",
    "    profile = create_profile_laplacian(motifs)\n",
    "    consensus = profile_to_consensus(profile)[0]\n",
    "    total_score = 0\n",
    "    for i in motifs:\n",
    "        total_score += hammingDistance(consensus, i)\n",
    "    return total_score\n",
    "    "
   ]
  },
  {
   "cell_type": "code",
   "execution_count": 57,
   "metadata": {
    "collapsed": true
   },
   "outputs": [],
   "source": [
    "def randomizedMotifSearch(dna, k, t):\n",
    "    random_indexes = [random.randint(0, len(dna[0])-k) for _ in range(t)]\n",
    "    #print(random_indexes)\n",
    "    motifs = [dna[i][random_indexes[i]:random_indexes[i]+k] for i in range(len(random_indexes))]\n",
    "    bestMotifs = motifs\n",
    "    #print(bestMotifs)\n",
    "    while True:\n",
    "        profile = create_profile_laplacian(motifs)\n",
    "        motifs = [profile_most_probable_kmer(x, k, profile) for x in dna]\n",
    "        #print(motifs)\n",
    "        if score(motifs) < score(bestMotifs):\n",
    "            bestMotifs = motifs\n",
    "        else:\n",
    "            return bestMotifs"
   ]
  },
  {
   "cell_type": "code",
   "execution_count": 174,
   "metadata": {
    "collapsed": true
   },
   "outputs": [],
   "source": [
    "sample_dna = ['CGCCCCTCTCGGGGGTGTTCAGTAAACGGCCA','GGGCGAGGTATGTGTAAGTGCCAAGGTGCCAG','TAGTACCGAGACCGAAAGAAGTATACAGGCGT','TAGATCAAGTTTCAGGTGCACGTCGGTGAACC','AATCCACCAGCTCCACGTGCAATGTTGGCCTA']"
   ]
  },
  {
   "cell_type": "code",
   "execution_count": 58,
   "metadata": {},
   "outputs": [
    {
     "data": {
      "text/plain": [
       "['GGTGTTCA', 'AAGTGCCA', 'GAGACCGA', 'AAGTTTCA', 'CAGCTCCA']"
      ]
     },
     "execution_count": 58,
     "metadata": {},
     "output_type": "execute_result"
    }
   ],
   "source": [
    "randomizedMotifSearch(sample_dna, 8, 5)"
   ]
  },
  {
   "cell_type": "code",
   "execution_count": 59,
   "metadata": {},
   "outputs": [
    {
     "data": {
      "text/plain": [
       "13"
      ]
     },
     "execution_count": 59,
     "metadata": {},
     "output_type": "execute_result"
    }
   ],
   "source": [
    "score(randomizedMotifSearch(sample_dna, 8, 5))"
   ]
  },
  {
   "cell_type": "code",
   "execution_count": 97,
   "metadata": {},
   "outputs": [
    {
     "name": "stdout",
     "output_type": "stream",
     "text": [
      "('TTGTTAGGCACACAA', 'TGGCTTACCAAAAAT', 'ACGTCAACCAAAAAG', 'TGGTTTTCCAAAAAT', 'TGGTCAACACGAAAT', 'TGGTCCTACAAAAAT', 'TGGTCAACCCCCAAT', 'TGGTCAGAAAAAAAT', 'TGTCGAACCAAAAAT', 'TGGTCAAGGGAAAAT', 'TGGTCAACCATTGAT', 'TGGTAGCCCAAAAAT', 'TGGTCATATAAAAAT', 'AGGTCAACCAAAACA', 'TGGTCAACCAACTCT', 'TGGGATACCAAAAAT', 'AATTCAACCAAAAAT', 'TGGTCGTACAAAAAT', 'TAAACAACCAAAAAT', 'TGGTCAACCAAATCC')\n"
     ]
    }
   ],
   "source": [
    "score_list = []\n",
    "bestMotifs_list = []\n",
    "result_list = []\n",
    "for i in range(1000):\n",
    "    bestMotifs = randomizedMotifSearch(real_data[1:-1], 15, 20)\n",
    "    score_list.append(score(bestMotifs))\n",
    "    bestMotifs_list.append(bestMotifs)\n",
    "\n",
    "min_score = min(score_list)\n",
    "for i in range(len(score_list)):\n",
    "    if score_list[i] == min_score:\n",
    "        result_list.append(tuple(bestMotifs_list[i]))\n",
    "\n",
    "print(Counter(result_list).most_common()[0][0])\n",
    "\n",
    "\n",
    "\n",
    "\n",
    "    "
   ]
  },
  {
   "cell_type": "code",
   "execution_count": 99,
   "metadata": {},
   "outputs": [
    {
     "name": "stdout",
     "output_type": "stream",
     "text": [
      "TTGTTAGGCACACAA\n",
      "TGGCTTACCAAAAAT\n",
      "ACGTCAACCAAAAAG\n",
      "TGGTTTTCCAAAAAT\n",
      "TGGTCAACACGAAAT\n",
      "TGGTCCTACAAAAAT\n",
      "TGGTCAACCCCCAAT\n",
      "TGGTCAGAAAAAAAT\n",
      "TGTCGAACCAAAAAT\n",
      "TGGTCAAGGGAAAAT\n",
      "TGGTCAACCATTGAT\n",
      "TGGTAGCCCAAAAAT\n",
      "TGGTCATATAAAAAT\n",
      "AGGTCAACCAAAACA\n",
      "TGGTCAACCAACTCT\n",
      "TGGGATACCAAAAAT\n",
      "AATTCAACCAAAAAT\n",
      "TGGTCGTACAAAAAT\n",
      "TAAACAACCAAAAAT\n",
      "TGGTCAACCAAATCC\n"
     ]
    }
   ],
   "source": [
    "for i in bb:\n",
    "    print(i)"
   ]
  },
  {
   "cell_type": "code",
   "execution_count": 170,
   "metadata": {},
   "outputs": [
    {
     "data": {
      "text/plain": [
       "['15 20 2000',\n",
       " 'TTCCGACATGTTGTGCTATCACGACGGAAGACCGCCAATATCTTGTTACTTGTCTTTTGACGCTAACCCTGTCACATTAAAGTGTAGACGATCCACTACAAACCCCCTCTATCGCGACGGGCTGTCAATCCACGATGATCATGTCACCAACTTTTAGATACAGAGTTCGCGAGCGATTTAAGTCGGTCCCGCACCGAAAATGAAAATGCCACTCGTGATGCGTGGAGCCGTGGATAGTACCAGGATTACCCTTAGCCGACATGATATCTTATGTTCTAGCGCCGCGATATCGCGCGTGCCACCGTTTTCCGACATGTTGTG',\n",
       " 'CTATATCCGATCAAGAGCTCACGACGGAAGACCGCCAATATCTTGTTACTTGTCTTTTGACGCTAACCCTGTCACATTAAAGTGTAGACGATCCACTACAAACCCCCTCTATCGCGACGGGCTGTCAATCCACGATGATCATGTCACCAACTTTTAGATACAGAGTTCGCGAGCGATTTAAGTCGGTCCCGCACCGAAAATGAAAATGCCACTCGTGATGCGTGGAGCCGTGGATAGTACCAGGATTACCCTTAGCCGACATGATATCTTATGTTCTAGCGCCGCGATATCGCGCGTGCCACCGTTTTCCGACATGTTGTG',\n",
       " 'AACGACCTGCGCGAACGCGATCGACGCGGGTTAATCACCGCCTGAACAAGCCGGGGATTCTGATAGACTACACCGCTGCCAGTACGGTCTTACTTCACGGCGCGGCAAGAATTTCTGATCCGCGGGTTACTCCTATGAGAAACGGCCATGTAAAAGTAGTCCACCCCTGTATTAGAACGAATGTTAAGTCTGCCGTCAATGGGGCCCGGGATTACGGCACTCGTGCCCCCCCGCGTTCACACGCTGACCACTCCCGCCTACGGTATAGAATTCTGAGCGGATATCATGGCGACCCGCTAACCCCTCGATCGTACCGTCTCA',\n",
       " 'TTCCTCGCAGGTTGGTGGCTGTTCCTGTTTTTACGTAGGTTTATGTTAGAGCCTACACCTACATTTTTGTGCAATTAAGATAGTTTTAGATAACTACCCCTGCGGGGTAAACGTCAGACAAGTTCCATAGTCCATTACGCCCGACACTACCGGCCCGTCCCCTGCCCTTTCATGAGCGCAGGTGGCGCTTGTGCGTAATCAATCAAGAGCCACGTGGTTCTAAGATCTGAAGCGAGAGCCGTAGCAACCGTATTATCAGAGGGTTTTTCCGTCTCGGGACGGCCTGGACCGGGACAACACATGGATGAGTCCTTGACCGGG',\n",
       " 'TCATGATACCTATGCCGTCATCCCAATCTAGGTGGAAGTTTTAGTGTTAGTAAGCTTACGCCTTCCACACGCCTTAACTCCGTCATAGTCTAACGTCTTAAGGATCAATCCAACAAGCCAATCTATCGACCCCCCACGGCTGATTGCGTCCACACGTCCCGAGCCACACCCAACAGCAGGCCGGTGCCACCAGGAGCCCCAGAAATGCAACAGTCTGCAGGTGTTAAGTGCCAAAAGTAGCCAACTAGGGGATAAGAATCAAGAGCCGATTAGGTAACGTTGCGTTGAGCATATGGAATGGACACGTGCCGATAGCTGAGT',\n",
       " 'GCCGTGCCCGGGACGATCGGGCAAATTGTATATTTCGTGGACTCTCTGGGAGATGACCGCCCATCGTTTTCTCCTCTACCCTGATCAGCTCCCTATGCGCGGGGCGCAATTCGAGAGCGTACGGAAGTTCAGTCGTATAGAATCAAGTCTGACTAGCGCAGCTGACTTCGGGACGTTAAACACAAGGTTAATGGGTAGAGATAGAGGATGAATGGTTCCAACTTGTGAGGTGGGCAGTCAGTCGCCCGTGTAAACCGGAACACTCTCCCGTGCGCTCGTAAACTAACAGCGAAACGCACCCCCGCGACGGAGGACAGCTGA',\n",
       " 'CCAGCCTACATGGGCCCACCGTTTCCATATGTTCGACCCCAAGAACTGTCTCTTATAGAAGACAGAGCCTACAACATCTGTAGGAATTGACCCCTTTAATGCTAGCTGGGTACTGTGACAGGACTCAGCCATGCAAGGGAATCTGGTTAGGCCCTTGATTTCTCGGGTGTCACATAAAATGGAAGCCTTCTATACGCGGACGACCTCCTCAGAGGGGTGCTAACCACATTTATGTAAATTGTTCGTGTTGCCTTTATGATTACCGACCAAAGACCAAATGTTACAATGCCCGAGAGTCGATCCTGCATGAGTTCATCATAA',\n",
       " 'TTCACGGTTCCAAGCTAGAGGGCTTATTGAGATTTGACTTAGTTAAAGCAACGACTGGGGGCGTACGCCGTTGTCGAGGGCCATAACTTTATTTGAACGCAGTGATCCATGAAGGCAACTCCCACGGAAGTGCTCCTGCTAAAATCCTATTGGTTTTAATAGAAGACCTGCCTTGTAGGGGGACGGGACATCAATATAGTTGCAAGAGCGGCGTCGATAAGCTTCGACGTAGATCATTGTACCCGTCCGATCTTCGGAGGAGCTCAACTACTTCATTAACAGGCCGACGCCGGTGAGCTGCCACCCGCCGGCGTAGTGCTA',\n",
       " 'AATTCTGAGAGCTTGTGTGCAGCTGTTAGTCAATTGGAACATCCATTTAGTGTAGTGGGATACTTAGGAATACCTAACCTTACGAATCAAGAGCCGGAACTATCCCGCTGGATCCTTTGTAAGGAAACCAACACTTGGCGGCTACCAGAGCGTCCTCCGATTATATATCACATGTTAAGAGGCTCACAGGTCTCCTCGAGAAACATGGTCCTATCCTTCATGGGGCCTTAGCTCATTGGTGACAACCTGTGGTTTGCGGCGCAAACCCAGCGTCGTGAACTCCCCTGTTCTTTGTTGGTAATCTAGTAGTTTCATGTGATG',\n",
       " 'CAATCGGGTAGGCTAGTGCAAATACGTCTGATACCTTAAAAAAACAGTCGCAGACTAATGCTAAGTCAAAGAGGTAAATTCATGATAAGAGCCGGTGCAAAGGCAGACGCACTGGCAACGAAACGTCGTGAATGGGTGGCAATATTTTCTGGGAACATAGATCGCACACCTCTTATAGAATCCGAAGCTGGGCATAACCTCTACACTCTTTCAACCTCTGTGACTGCGTTGGCTCAGAGCCACCCTGATGTACGAGCCGTCCGTATCATTGGGCACTCAACGCACAAAGCAAGGAGATCTCAATAATCATTATTCAGGACC',\n",
       " 'CTCCTGAAATGGTACCCCGCTAGACCCTCGTATTCCAGCAAAGCCAGCGCCCACTATGTATACCAGAAGTAGGGCTATTTAGGGCGGTAACGTTCCCGAAGTATTTGGCGGATGTCGATAGCATGCCAAAACTGACTCCTGAACAATTTTGAACAACCTGCTGGCGGGTAAGTGTATACCGTCAAGAGCGGAACAGAGATAATATGAGAAGAGCATGACAACCAGCACGGACCTGGATTATGTGCTACGTACCAAATGCCTCATTGGACTTCTGTGGAACCCCTGTGAAATCACAGTCTCAGGCAAACACGCGGAATCCCA',\n",
       " 'GTTCAAAGACAAATAGACCGGGTATTGCCGCGATCTCTACTCGTTTCGAGAGCATGGCGGTGCCATTTAAAGCAGTTTTAACCGCAGATTACTCCTTGTGGAAGCCCCACCCCGCCACCTTGCATTGGACTCCGCTCCTCGGGACCGACTGGCGAAGAACCAGGTATGCCATCCGTCTTAGATAGTGTTGCGGGAGCAATGAAACTTTCTACATCCACCATATCCGATTGATTGAAACGGGCACATGTTACGTTGGGACACCAGAGAGAATCCACTGAGTGCGCACTAGCCTTTCCGTTCTTCATAGAATCAAGACGTACT',\n",
       " 'AATAAAGATGCGTGTGGTCGGCGACAGTCCGACGTTTCCCTCAGTAAGATGTCTCTGAAACAGGTATTTGCAGCCAACGTGAATCGGCCTTCATATTCTTTGGAGCTCTTGACCTCATATCCTGCTGATTGCTAAATGTCAGGACTGTACACTCGTTCTAGGAGATGGGCAAGCCAACTTCCTTCATGGAATCATCACACAGCTCCTTGCGTAGTAGCACGTTACCAAGTGTGTCTTTTATAGACCTAAGAGCTGCTGTCGAATAGACCGTGTCGTGGGCGCATTGGTCAACCATTACCGCTGAATCCTACTCACTTACGG',\n",
       " 'GAAGAAGTCCAGTCACAAACGTGGTAGATTCGCAAGCTTGAACTTGAGTCTGAGCTACTCTAACCGTTCGTATTTGCAAATTTCATAGTATAGCTGCAAGAGCAACGCGTTCCGCAGGCAGGCGAACGGATTATAATTACCTTCTGACAGATAATGTCATCCTAGCAGACATGAGGGGGGAGTCCCGATCTTCATACACTGCAATCTTTCATACCACTGGCCCCTAAGGAGCCATGTGGGAGATAGACTAAGAGTAAAGTTACAGCCTCTCCTTCATGCATTTCTAACCCAGTGTAGGCCGCGTTGCGGAACAACTACAAC',\n",
       " 'TGGCTAAGTGTCAAAGCGTGGACCCGCGCCACCCTCTGGGTCGTCACCCGACAAGAGTATTGGGCCTCACCGCGCGGCAACCATAACATTAAGTAACTAATTGTGTACTCAGGGACGTAAGCGGGCGTGCTCGCGATAAGGCAAACACGCGCCTTCAGAAAGTATAGAACTGGCCGACGTACGGCGGAAAGCGTTGGATGGGCCGCTGTGTTCAGGCTTGGTGGTATCCGTGGAACATTATAGAATCAGATGCTCCGAATAGCCGAATTTCCCCACTCTGCGCCCTTCTCGGAGATCAGGACCATTTCCCAAGCTGTTAGC',\n",
       " 'AATCGACTCCCGAAGCTAACCTTGGTTTGTGACCATGTGACGTAGAGCAATGCTTTTCGGACACGCAGAGCTCGAAAAGGCAGGCAACCATTAAACTCAAAGCCCACGCGCATTCTAACTCCACATAACTCAAATTGAGGTCTACAACCTAATCGTATGTATGACATCAAGAGCCGCACTCCGCCGCCGCCGCGGGCAAAAGACGCGTGATAACAACTCTGTATCCACCCCTCAGGACAATCGTATAAACTAGTAAAGCACTACGACTTTCTTCCTTCGGAATTGCTGTCGGTGGTTGAACACCGTAAATTTTGCACCTGG',\n",
       " 'TATAATCCGATGGACGAGCTGATATGACGGTACATTTCAGCGCACGTCATGTTAAAGTTCTTTGAGTGACACAGTGGCGCAATGAAGTTCAATGGCCCTATAGCTTTAGACCACCAGCAATTAGAAACTGGTGAAGCTATAAGCTCAAGAGCGTCTTCCATAAAAGCGTGGCAGCTTCAAGGATTAATGGTAAAATTCCTTTGGCTGGCCCGGTTCCCGTACCTAACGACACCGCGTACCGTAAACCCGACGGAATTTGGGATGTTTCTACAATCAACAGCCTTAGGTGCGCTGTTAAAGGGCCCCGTATGGACGTACCCG',\n",
       " 'TTAGCAGCGTGGACATTGGTACATATATGGTCGTCATACTATTGCCTGGCCCCATATCCACCGTGTTTTGAAGTTCACGGAGCGTTTTCAAGGTGGCCAATTTGGACCCAGTAAATGTCCGATGCCACCTTAGGGATGATAGTGAGACCAGTTACCCCTTAACATTTGGCCTTTCTGCAGCCCTGTCCCAAGGCGTACTGATTAAACTATAGAATCAATTTCCTGCAAGGAGGGCACGCACCGAAGTTCCGTTACTGCGGGGAGTATATACTTCGAGTATCGCGACCGTATGGCCTAGCCTCCTTGCTACAGAAAGAGACG',\n",
       " 'ATGCGAACCGCCGCATTATGTGTCGGGCCGCGATCCGTAAACACACTGCTCTGTAAGGCTTGGGGGGTCTACACGAGACACCCAAATGCAGGAGCTTACCTTACTCTTTATTCAGAAAATGTTTTGGACCCCCGCTTCACAGGGGACCTCTTTGCGTAAGAGTCCCTTTCTATAGAGGAAAGAGCATACCATGAGCGCTGGGGGAACAAGGAGCTGACGAGTATGGTGCCCGGATATGTTCCGTGTATCTAACGTCTAGTTGGCAGGAGACTAGCTGCTTATGATCTGCTGGAGCGACCGGCTGAGAATCCACTCAACTTA',\n",
       " 'CCCATCCTACAGAGCGGTGCTCTCTGTGGTCCTGCCTGACAATGAGGGGCCTAGATTGCGCCATGTGGCGGGGGTGTCTCTTGGCCTACACTCTTTCGAAAAGGAGATTATGTTCTAGAGCGTAAGTAGAATCAAGAGAGGCTCCCAAGGAGCTTGGGGTAACGCACATGGCATGATGAGGCGGAGTAAATATGATATCTAATCGGACATGGAAAAAGGATCCCCATCCGCAAGGACGATCGATGACGCTTGAGTCAGCGCTCGAATCGCAATGAAGCGACCTGTTACCATAAATGCCACTCCTGTGGAGTGATTTGCGTA',\n",
       " '']"
      ]
     },
     "execution_count": 170,
     "metadata": {},
     "output_type": "execute_result"
    }
   ],
   "source": [
    "with open('/home/jeongyeojin/dataset_163_4.txt') as f:\n",
    "    data3 = f.read()\n",
    "data3\n",
    "real_data = data3.split('\\n')\n",
    "real_data"
   ]
  },
  {
   "cell_type": "code",
   "execution_count": 110,
   "metadata": {},
   "outputs": [
    {
     "data": {
      "text/plain": [
       "0.01693439692911025"
      ]
     },
     "execution_count": 110,
     "metadata": {},
     "output_type": "execute_result"
    }
   ],
   "source": [
    "#probability that ten randomly selected 15-mers from the ten 600-nucleotide long strings in the Subtle Motif Problem capture at least one implanted 15-mer.\n",
    "1-((585/586)**10)"
   ]
  },
  {
   "cell_type": "code",
   "execution_count": 111,
   "metadata": {},
   "outputs": [
    {
     "data": {
      "text/plain": [
       "0.00012985670567623384"
      ]
     },
     "execution_count": 111,
     "metadata": {},
     "output_type": "execute_result"
    }
   ],
   "source": [
    "#probability that ten randomly selected 15-mers from ten 600-nucleotide long strings (as in the Subtle Motif Problem) capture at least two implanted 15-mers\n",
    "1-((585/586)**10)-(10*(585**9)/586**10)"
   ]
  },
  {
   "cell_type": "code",
   "execution_count": 113,
   "metadata": {},
   "outputs": [
    {
     "data": {
      "text/plain": [
       "0.21029724648974146"
      ]
     },
     "execution_count": 113,
     "metadata": {},
     "output_type": "execute_result"
    }
   ],
   "source": [
    "1-a"
   ]
  },
  {
   "cell_type": "code",
   "execution_count": 114,
   "metadata": {
    "collapsed": true
   },
   "outputs": [],
   "source": [
    "def weighted_choice(weights):\n",
    "    rnd = random.random()*sum(weights)\n",
    "    for i, w in enumerate(weights):\n",
    "        rnd -= w\n",
    "        if rnd < 0:\n",
    "            return i"
   ]
  },
  {
   "cell_type": "code",
   "execution_count": 159,
   "metadata": {
    "collapsed": true
   },
   "outputs": [],
   "source": [
    "def gibbsSampler(dna, k, t, N):\n",
    "    random_indexes = [random.randint(0, len(dna[0])-k) for _ in range(t)]\n",
    "    motifs = [dna[i][random_indexes[i]:random_indexes[i]+k] for i in range(len(random_indexes))]\n",
    "    bestMotifs = motifs\n",
    "    for j in range(N):\n",
    "        i = random.randint(0, t-1)\n",
    "        del motifs[i]\n",
    "        profile = create_profile_laplacian(motifs)\n",
    "        prob_list = []\n",
    "        for x in range(len(dna[0])-k+1):\n",
    "            prob_list.append(profile_probability(dna[i][x:x+k],profile))\n",
    "        chosen_idx = weighted_choice(prob_list)\n",
    "        ith_motif = dna[i][chosen_idx:chosen_idx+k]\n",
    "        motifs.insert(i, ith_motif)\n",
    "        best_score = score(bestMotifs)\n",
    "        if score(motifs) < best_score:\n",
    "            bestMotifs = motifs\n",
    "    return bestMotifs\n",
    "        \n",
    "        "
   ]
  },
  {
   "cell_type": "code",
   "execution_count": 160,
   "metadata": {
    "collapsed": true
   },
   "outputs": [],
   "source": [
    "gibbs_dna = ['CGCCCCTCTCGGGGGTGTTCAGTAACCGGCCA','GGGCGAGGTATGTGTAAGTGCCAAGGTGCCAG','TAGTACCGAGACCGAAAGAAGTATACAGGCGT','TAGATCAAGTTTCAGGTGCACGTCGGTGAACC','AATCCACCAGCTCCACGTGCAATGTTGGCCTA']"
   ]
  },
  {
   "cell_type": "code",
   "execution_count": 171,
   "metadata": {},
   "outputs": [
    {
     "name": "stdout",
     "output_type": "stream",
     "text": [
      "('GATAGTACCAGGATT', 'TATCCGATCAAGAGC', 'TATAGAATTCTGAGC', 'TAATCAATCAAGAGC', 'ATAAGAATCAAGAGC', 'TATAGAATCAAGTCT', 'TATAGAAGACAGAGC', 'TATAGTTGCAAGAGC', 'TTACGAATCAAGAGC', 'TATAGAATCCGAAGC', 'TATACCGTCAAGAGC', 'CATAGAATCAAGACG', 'TATAGACCTAAGAGC', 'TATAGCTGCAAGAGC', 'TATAGAATCAGATGC', 'TATGACATCAAGAGC', 'TATAAGCTCAAGAGC', 'TATAGAATCAATTTC', 'TATAGAGGAAAGAGC', 'AGTAGAATCAAGAGA')\n"
     ]
    }
   ],
   "source": [
    "score_list = []\n",
    "bestMotifs_list = []\n",
    "result_list = []\n",
    "for i in range(20):\n",
    "    bestMotifs = gibbsSampler(real_data[1:-1], 15, 20, 2000)\n",
    "    score_list.append(score(bestMotifs))\n",
    "    bestMotifs_list.append(bestMotifs)\n",
    "\n",
    "min_score = min(score_list)\n",
    "for i in range(len(score_list)):\n",
    "    if score_list[i] == min_score:\n",
    "        result_list.append(tuple(bestMotifs_list[i]))\n",
    "\n",
    "print(Counter(result_list).most_common()[0][0])"
   ]
  }
 ],
 "metadata": {
  "kernelspec": {
   "display_name": "Python 3",
   "language": "python",
   "name": "python3"
  },
  "language_info": {
   "codemirror_mode": {
    "name": "ipython",
    "version": 3
   },
   "file_extension": ".py",
   "mimetype": "text/x-python",
   "name": "python",
   "nbconvert_exporter": "python",
   "pygments_lexer": "ipython3",
   "version": "3.6.1"
  }
 },
 "nbformat": 4,
 "nbformat_minor": 2
}
