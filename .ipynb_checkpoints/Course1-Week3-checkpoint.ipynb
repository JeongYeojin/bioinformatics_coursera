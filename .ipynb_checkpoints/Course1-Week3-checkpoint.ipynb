{
 "cells": [
  {
   "cell_type": "code",
   "execution_count": 1,
   "metadata": {},
   "outputs": [
    {
     "data": {
      "text/plain": [
       "1.89208984375"
      ]
     },
     "execution_count": 1,
     "metadata": {},
     "output_type": "execute_result"
    }
   ],
   "source": [
    "500*992*(0.25)**9"
   ]
  },
  {
   "cell_type": "code",
   "execution_count": 1,
   "metadata": {
    "collapsed": true
   },
   "outputs": [],
   "source": [
    "def neighbors_of_each_dna(dna_string, k, d):\n",
    "    n_list = []\n",
    "    for i in range(len(dna_string)-k+1):\n",
    "        for n in neighbors(dna_string[i:i+k], d):\n",
    "            n_list.append(n)\n",
    "    n_list = list(set(n_list))\n",
    "    return n_list"
   ]
  },
  {
   "cell_type": "code",
   "execution_count": 2,
   "metadata": {
    "collapsed": true
   },
   "outputs": [],
   "source": [
    "def motifEnumeration(dna, k, d):\n",
    "    patterns = set()\n",
    "    neighbor_list = [neighbors_of_each_dna(dna_string, k, d) for dna_string in dna]\n",
    "    for i in range(len(dna[0])-k+1):\n",
    "        current_kmer = dna[0][i:i+k]\n",
    "        for x in neighbors(current_kmer, d):\n",
    "            count = 0\n",
    "            for i in neighbor_list:\n",
    "                if x in i:\n",
    "                    count += 1\n",
    "            if count == len(dna):\n",
    "                patterns.add(x)\n",
    "    return patterns"
   ]
  },
  {
   "cell_type": "code",
   "execution_count": 11,
   "metadata": {},
   "outputs": [
    {
     "data": {
      "text/plain": [
       "{'ATA', 'ATT', 'GTT', 'TTT'}"
      ]
     },
     "execution_count": 11,
     "metadata": {},
     "output_type": "execute_result"
    }
   ],
   "source": [
    "motifEnumeration(['ATTTGGC', 'TGCCTTA','CGGTATC','GAAAATT'], 3, 1)"
   ]
  },
  {
   "cell_type": "code",
   "execution_count": 3,
   "metadata": {
    "collapsed": true
   },
   "outputs": [],
   "source": [
    "def neighbors(pattern, d):\n",
    "    if d == 0: return set(pattern)\n",
    "    if len(pattern) == 1:\n",
    "        return {'A','C','G','T'}\n",
    "    neighborhood = set()\n",
    "    suffixNeighbors = neighbors(pattern[1:], d)\n",
    "    for i in suffixNeighbors:\n",
    "        if hammingDistance(pattern[1:], i) < d:\n",
    "            for x in nu_list:\n",
    "                neighborhood.add(x + i)\n",
    "        else:\n",
    "            neighborhood.add(pattern[0]+i)\n",
    "    return neighborhood"
   ]
  },
  {
   "cell_type": "code",
   "execution_count": 4,
   "metadata": {
    "collapsed": true
   },
   "outputs": [],
   "source": [
    "def hammingDistance(p, q):\n",
    "    count = 0\n",
    "    for i in range(len(p)):\n",
    "        if p[i] != q[i]:\n",
    "            count += 1\n",
    "    return count"
   ]
  },
  {
   "cell_type": "code",
   "execution_count": 5,
   "metadata": {
    "collapsed": true
   },
   "outputs": [],
   "source": [
    "nu_list = ['A','C','T','G']\n",
    "\n",
    "def immediateNeighbors(pattern):\n",
    "    neighborhood = []\n",
    "    for i in range(len(pattern)):\n",
    "        neighborhood += [pattern[:i] + x + pattern[i+1:] for x in nu_list if x != pattern[i]]\n",
    "    return set(neighborhood)    "
   ]
  },
  {
   "cell_type": "code",
   "execution_count": 10,
   "metadata": {},
   "outputs": [
    {
     "name": "stdout",
     "output_type": "stream",
     "text": [
      "TGGTGAAGCGTTCAGCTGCGGTTATAGATTAGTGTAATCGGCCGCATCCTAGTCACACAGATGCGTTATTGGTTGACCTGATATGGAGTCAATGTTGCAATCACAAATTCCTCGGTACACAGTTAATCTGCTGCAGGTTACGGTAGTCGAGCTCTTTGAGGACACATCTATATACCTATCCCGGATACAAGAAACCGTACCAGTAACTAAGGAAACAAATTAGGATCGCGACGGTCAGCACGGTATAGACGAGAACGCCTGTGACCATGCGGTGGTACTGCCGCAAACTAACGTCTGCCATCGACTATACGGGATGCTCCTCTGCTCGGCAACCCGTGGTGATCCCAACTAAACCGTTCCGAAATCTCGATCTATGGAGTTTTTAATGGGAACATAACGGAGTTAATCTACAGGAGAATCTGCCTACTAATGTTGATGACGGCAGAAGTCATCGAGCAAATGCTTCACTTTCCGCCGGCCGAGCTGGTTGTAAACTGTCTCACGTTGCGACCGCCTCATTGTGCGAAGTCTTGCGCGAACAAGATGTATCAACCCGGGTCGTGACTCTGACTGATCCACAGACATTGGAAGCACCCACACGCCGCGCGCAGCCAACAGTCCAGCCCATATCTCTAACGCTGGTCACCAGATAAGCGTGATCATTGCCGTGTACTCTGCCAGGATGAACTACCGTAGTACATCATATCATAATACGCTGAACGCAGTCGTCACCCACCCACGCAATTATCCGCCTCTGGCTCACGCAATCACCAGCTGCCGGTCACTGCTAGAAAAGCAACCATTTGATTGGCACTCACTTAGCCGAGGGCCCTAATTTACCTGGCCCTAATTTGAGGGGACAGCATTCCACGCCATGATGGCCGGCGCGGACCACCCAGATAACATGTGTCAGCTGGCCCCGGCGAATGGCTTGCGATTATGTGACAAAGTAACGTCCGCGTCTTTGGCTGCAAGGCGTTCTTAAGGTCAAGGGAAGAGT\n",
      "14\n",
      "0.282 0.239 0.282 0.31 0.282 0.254 0.296 0.211 0.324 0.31 0.225 0.225 0.31 0.225\n",
      "0.211 0.282 0.268 0.225 0.282 0.268 0.254 0.282 0.268 0.141 0.239 0.338 0.211 0.296\n",
      "0.239 0.239 0.296 0.197 0.211 0.282 0.254 0.211 0.254 0.338 0.296 0.239 0.211 0.183\n",
      "0.268 0.239 0.155 0.268 0.225 0.197 0.197 0.296 0.155 0.211 0.239 0.197 0.268 0.296\n",
      "\n"
     ]
    }
   ],
   "source": [
    "with open('/home/jeongyeojin/dataset_159_3.txt') as f:\n",
    "    data2 = f.read()\n",
    "\n",
    "print(data2)"
   ]
  },
  {
   "cell_type": "code",
   "execution_count": 142,
   "metadata": {},
   "outputs": [
    {
     "data": {
      "text/plain": [
       "['TGGTGAAGCGTTCAGCTGCGGTTATAGATTAGTGTAATCGGCCGCATCCTAGTCACACAGATGCGTTATTGGTTGACCTGATATGGAGTCAATGTTGCAATCACAAATTCCTCGGTACACAGTTAATCTGCTGCAGGTTACGGTAGTCGAGCTCTTTGAGGACACATCTATATACCTATCCCGGATACAAGAAACCGTACCAGTAACTAAGGAAACAAATTAGGATCGCGACGGTCAGCACGGTATAGACGAGAACGCCTGTGACCATGCGGTGGTACTGCCGCAAACTAACGTCTGCCATCGACTATACGGGATGCTCCTCTGCTCGGCAACCCGTGGTGATCCCAACTAAACCGTTCCGAAATCTCGATCTATGGAGTTTTTAATGGGAACATAACGGAGTTAATCTACAGGAGAATCTGCCTACTAATGTTGATGACGGCAGAAGTCATCGAGCAAATGCTTCACTTTCCGCCGGCCGAGCTGGTTGTAAACTGTCTCACGTTGCGACCGCCTCATTGTGCGAAGTCTTGCGCGAACAAGATGTATCAACCCGGGTCGTGACTCTGACTGATCCACAGACATTGGAAGCACCCACACGCCGCGCGCAGCCAACAGTCCAGCCCATATCTCTAACGCTGGTCACCAGATAAGCGTGATCATTGCCGTGTACTCTGCCAGGATGAACTACCGTAGTACATCATATCATAATACGCTGAACGCAGTCGTCACCCACCCACGCAATTATCCGCCTCTGGCTCACGCAATCACCAGCTGCCGGTCACTGCTAGAAAAGCAACCATTTGATTGGCACTCACTTAGCCGAGGGCCCTAATTTACCTGGCCCTAATTTGAGGGGACAGCATTCCACGCCATGATGGCCGGCGCGGACCACCCAGATAACATGTGTCAGCTGGCCCCGGCGAATGGCTTGCGATTATGTGACAAAGTAACGTCCGCGTCTTTGGCTGCAAGGCGTTCTTAAGGTCAAGGGAAGAGT',\n",
       " '14',\n",
       " '0.282 0.239 0.282 0.31 0.282 0.254 0.296 0.211 0.324 0.31 0.225 0.225 0.31 0.225',\n",
       " '0.211 0.282 0.268 0.225 0.282 0.268 0.254 0.282 0.268 0.141 0.239 0.338 0.211 0.296',\n",
       " '0.239 0.239 0.296 0.197 0.211 0.282 0.254 0.211 0.254 0.338 0.296 0.239 0.211 0.183',\n",
       " '0.268 0.239 0.155 0.268 0.225 0.197 0.197 0.296 0.155 0.211 0.239 0.197 0.268 0.296',\n",
       " '']"
      ]
     },
     "execution_count": 142,
     "metadata": {},
     "output_type": "execute_result"
    }
   ],
   "source": [
    "new_data = data2.split('\\n')\n",
    "new_data"
   ]
  },
  {
   "cell_type": "code",
   "execution_count": 143,
   "metadata": {
    "collapsed": true
   },
   "outputs": [],
   "source": [
    "dna = new_data[0]\n",
    "profile = {'A' :  [float(x) for x in new_data[2].split(' ')], 'C': [float(x) for x in new_data[3].split(' ')], 'G':[float(x) for x in new_data[4].split(' ')], 'T':[float(x) for x in new_data[5].split(' ')] }"
   ]
  },
  {
   "cell_type": "code",
   "execution_count": 144,
   "metadata": {},
   "outputs": [
    {
     "data": {
      "text/plain": [
       "'TGGTGAAGCGTTCAGCTGCGGTTATAGATTAGTGTAATCGGCCGCATCCTAGTCACACAGATGCGTTATTGGTTGACCTGATATGGAGTCAATGTTGCAATCACAAATTCCTCGGTACACAGTTAATCTGCTGCAGGTTACGGTAGTCGAGCTCTTTGAGGACACATCTATATACCTATCCCGGATACAAGAAACCGTACCAGTAACTAAGGAAACAAATTAGGATCGCGACGGTCAGCACGGTATAGACGAGAACGCCTGTGACCATGCGGTGGTACTGCCGCAAACTAACGTCTGCCATCGACTATACGGGATGCTCCTCTGCTCGGCAACCCGTGGTGATCCCAACTAAACCGTTCCGAAATCTCGATCTATGGAGTTTTTAATGGGAACATAACGGAGTTAATCTACAGGAGAATCTGCCTACTAATGTTGATGACGGCAGAAGTCATCGAGCAAATGCTTCACTTTCCGCCGGCCGAGCTGGTTGTAAACTGTCTCACGTTGCGACCGCCTCATTGTGCGAAGTCTTGCGCGAACAAGATGTATCAACCCGGGTCGTGACTCTGACTGATCCACAGACATTGGAAGCACCCACACGCCGCGCGCAGCCAACAGTCCAGCCCATATCTCTAACGCTGGTCACCAGATAAGCGTGATCATTGCCGTGTACTCTGCCAGGATGAACTACCGTAGTACATCATATCATAATACGCTGAACGCAGTCGTCACCCACCCACGCAATTATCCGCCTCTGGCTCACGCAATCACCAGCTGCCGGTCACTGCTAGAAAAGCAACCATTTGATTGGCACTCACTTAGCCGAGGGCCCTAATTTACCTGGCCCTAATTTGAGGGGACAGCATTCCACGCCATGATGGCCGGCGCGGACCACCCAGATAACATGTGTCAGCTGGCCCCGGCGAATGGCTTGCGATTATGTGACAAAGTAACGTCCGCGTCTTTGGCTGCAAGGCGTTCTTAAGGTCAAGGGAAGAGT'"
      ]
     },
     "execution_count": 144,
     "metadata": {},
     "output_type": "execute_result"
    }
   ],
   "source": [
    "dna"
   ]
  },
  {
   "cell_type": "code",
   "execution_count": 145,
   "metadata": {},
   "outputs": [
    {
     "data": {
      "text/plain": [
       "{'A': [0.282,\n",
       "  0.239,\n",
       "  0.282,\n",
       "  0.31,\n",
       "  0.282,\n",
       "  0.254,\n",
       "  0.296,\n",
       "  0.211,\n",
       "  0.324,\n",
       "  0.31,\n",
       "  0.225,\n",
       "  0.225,\n",
       "  0.31,\n",
       "  0.225],\n",
       " 'C': [0.211,\n",
       "  0.282,\n",
       "  0.268,\n",
       "  0.225,\n",
       "  0.282,\n",
       "  0.268,\n",
       "  0.254,\n",
       "  0.282,\n",
       "  0.268,\n",
       "  0.141,\n",
       "  0.239,\n",
       "  0.338,\n",
       "  0.211,\n",
       "  0.296],\n",
       " 'G': [0.239,\n",
       "  0.239,\n",
       "  0.296,\n",
       "  0.197,\n",
       "  0.211,\n",
       "  0.282,\n",
       "  0.254,\n",
       "  0.211,\n",
       "  0.254,\n",
       "  0.338,\n",
       "  0.296,\n",
       "  0.239,\n",
       "  0.211,\n",
       "  0.183],\n",
       " 'T': [0.268,\n",
       "  0.239,\n",
       "  0.155,\n",
       "  0.268,\n",
       "  0.225,\n",
       "  0.197,\n",
       "  0.197,\n",
       "  0.296,\n",
       "  0.155,\n",
       "  0.211,\n",
       "  0.239,\n",
       "  0.197,\n",
       "  0.268,\n",
       "  0.296]}"
      ]
     },
     "execution_count": 145,
     "metadata": {},
     "output_type": "execute_result"
    }
   ],
   "source": [
    "profile"
   ]
  },
  {
   "cell_type": "code",
   "execution_count": 90,
   "metadata": {},
   "outputs": [
    {
     "data": {
      "text/plain": [
       "['ACAATTAAGACATTAACCATACCGGGAGCAGCTAAGCACCGC',\n",
       " 'TGCGTGAGATGTCTTCATGCTAAGTGTGCAGCTGTAAGTCGC',\n",
       " 'AATTAAACATGATACGCGACTTCAGCTAAGCGGCTAGATCCC',\n",
       " 'TTTGTGTTGCTCGCTATGTTTGCCTAGTAGATTGTGGACATT',\n",
       " 'GCGAACACTCCCCATGGAGCCTTTCCACCGGCTATGATTGTA',\n",
       " 'ACACCTTAGTACTCTGCTCGAGCCGCTATGTTGATTCCCGGC',\n",
       " 'CGTGAAAATTGTGCTACGACTTTTTACATTTTTTTTTCAACA',\n",
       " 'ATGCCACTAATTGGCTACGCTACGATCTCCTGGATAAAATGC',\n",
       " 'AGCTTTATTTTGGATGCCAGTACGGCAGCTCCTTCGGCTACG',\n",
       " 'GTAGTCCCAAGATGCCCGAATTGTGATACATCGTGAGCTATG']"
      ]
     },
     "execution_count": 90,
     "metadata": {},
     "output_type": "execute_result"
    }
   ],
   "source": [
    "new_data[1:-1]"
   ]
  },
  {
   "cell_type": "code",
   "execution_count": 67,
   "metadata": {},
   "outputs": [
    {
     "name": "stdout",
     "output_type": "stream",
     "text": [
      "ATTTC ATGTC ATATC ATCTC \n"
     ]
    }
   ],
   "source": [
    "strr = ''\n",
    "for x in motifEnumeration(new_data[1:-1], 5, 1):\n",
    "    strr += '{} '.format(x)\n",
    "print(strr)"
   ]
  },
  {
   "cell_type": "code",
   "execution_count": 6,
   "metadata": {
    "collapsed": true
   },
   "outputs": [],
   "source": [
    "Motifs = [\n",
    "\"TCGGGGGTTTTT\",\n",
    "\"CCGGTGACTTAC\",\n",
    "\"ACGGGGATTTTC\",\n",
    "\"TTGGGGACTTTT\",\n",
    "\"AAGGGGACTTCC\",\n",
    "\"TTGGGGACTTCC\",\n",
    "\"TCGGGGATTCAT\",\n",
    "\"TCGGGGATTCCT\",\n",
    "\"TAGGGGAACTAC\",\n",
    "\"TCGGGTATAACC\"\n",
    "]"
   ]
  },
  {
   "cell_type": "code",
   "execution_count": 7,
   "metadata": {
    "collapsed": true
   },
   "outputs": [],
   "source": [
    "from collections import Counter\n",
    "import math"
   ]
  },
  {
   "cell_type": "code",
   "execution_count": 8,
   "metadata": {
    "collapsed": true
   },
   "outputs": [],
   "source": [
    "def entropy(motifs):\n",
    "    columns = []\n",
    "    for i in range(len(motifs[0])):\n",
    "        new_col = ''\n",
    "        for x in motifs:\n",
    "            new_col += x[i]\n",
    "        columns.append(new_col)\n",
    "    \n",
    "    total_entropy = 0\n",
    "    for i in columns:\n",
    "        entropy = 0\n",
    "        c = Counter(i)\n",
    "        for nucleotide, frequency in c.items():\n",
    "            entropy -= (frequency/len(motifs))*math.log((frequency/len(motifs)),2)\n",
    "        total_entropy += entropy\n",
    "    \n",
    "    return total_entropy"
   ]
  },
  {
   "cell_type": "code",
   "execution_count": 9,
   "metadata": {},
   "outputs": [
    {
     "data": {
      "text/plain": [
       "0.0"
      ]
     },
     "execution_count": 9,
     "metadata": {},
     "output_type": "execute_result"
    }
   ],
   "source": [
    "entropy(['CCC'])"
   ]
  },
  {
   "cell_type": "code",
   "execution_count": 10,
   "metadata": {
    "collapsed": true
   },
   "outputs": [],
   "source": [
    "def simple_entropy(nums):\n",
    "    en = 0\n",
    "    for x in nums:\n",
    "        if x != 0:\n",
    "            en -= x*math.log(x, 2)\n",
    "        else:\n",
    "            en -= 0\n",
    "    return en"
   ]
  },
  {
   "cell_type": "code",
   "execution_count": 11,
   "metadata": {},
   "outputs": [
    {
     "data": {
      "text/plain": [
       "1.0"
      ]
     },
     "execution_count": 11,
     "metadata": {},
     "output_type": "execute_result"
    }
   ],
   "source": [
    "simple_entropy([0.5, 0, 0, 0.5])"
   ]
  },
  {
   "cell_type": "code",
   "execution_count": 12,
   "metadata": {},
   "outputs": [
    {
     "data": {
      "text/plain": [
       "2.0"
      ]
     },
     "execution_count": 12,
     "metadata": {},
     "output_type": "execute_result"
    }
   ],
   "source": [
    "simple_entropy([0.25, 0.25, 0.25, 0.25])"
   ]
  },
  {
   "cell_type": "code",
   "execution_count": 13,
   "metadata": {},
   "outputs": [
    {
     "data": {
      "text/plain": [
       "0.0"
      ]
     },
     "execution_count": 13,
     "metadata": {},
     "output_type": "execute_result"
    }
   ],
   "source": [
    "simple_entropy([0, 0, 0, 1])"
   ]
  },
  {
   "cell_type": "code",
   "execution_count": 14,
   "metadata": {},
   "outputs": [
    {
     "data": {
      "text/plain": [
       "1.5"
      ]
     },
     "execution_count": 14,
     "metadata": {},
     "output_type": "execute_result"
    }
   ],
   "source": [
    "simple_entropy([0.25, 0, 0.5, 0.25])"
   ]
  },
  {
   "cell_type": "code",
   "execution_count": 56,
   "metadata": {
    "collapsed": true
   },
   "outputs": [],
   "source": [
    "def distanceBetweenPatternAndStrings(pattern, dna):\n",
    "    k = len(pattern)\n",
    "    total_distance = 0\n",
    "    for x in dna:\n",
    "        hammingDist = math.inf\n",
    "        for i in range(len(x)-k+1):\n",
    "            current_kmer = x[i:i+k]\n",
    "            if hammingDist > hammingDistance(pattern, current_kmer):\n",
    "                hammingDist = hammingDistance(pattern, current_kmer)\n",
    "        total_distance += hammingDist\n",
    "    return total_distance\n",
    "        "
   ]
  },
  {
   "cell_type": "code",
   "execution_count": 16,
   "metadata": {
    "collapsed": true
   },
   "outputs": [],
   "source": [
    "nu_dict_inverse = {0 : 'A', 1 : 'C', 2 : 'G', 3 : 'T'}\n",
    "\n",
    "def numberToPattern(num, k):\n",
    "    if k == 1:\n",
    "        return nu_dict_inverse[num]\n",
    "    prefixIndex = num//4\n",
    "    r = num%4\n",
    "    last_nu = nu_dict_inverse[r]\n",
    "    return numberToPattern(prefixIndex, k-1)+last_nu"
   ]
  },
  {
   "cell_type": "code",
   "execution_count": 17,
   "metadata": {
    "collapsed": true
   },
   "outputs": [],
   "source": [
    "def profile_probability(consensus, profile):\n",
    "    prob = 1\n",
    "    for i in range(len(consensus)):\n",
    "        prob *= profile[consensus[i]][i]\n",
    "    return prob"
   ]
  },
  {
   "cell_type": "code",
   "execution_count": 18,
   "metadata": {
    "collapsed": true
   },
   "outputs": [],
   "source": [
    "sample_profile3 = {'A':[0.4, 0.3, 0.0, 0.1, 0.0, 0.9], 'C':[0.2, 0.3, 0.0, 0.4, 0.0, 0.1], 'G':[0.1,0.3,1.0,0.1,0.5,0.0],'T':[0.3,0.1,0.0,0.4,0.5,0.0]}"
   ]
  },
  {
   "cell_type": "code",
   "execution_count": 52,
   "metadata": {},
   "outputs": [
    {
     "data": {
      "text/plain": [
       "0.0054"
      ]
     },
     "execution_count": 52,
     "metadata": {},
     "output_type": "execute_result"
    }
   ],
   "source": [
    "profile_probability('GAGCTA', sample_profile3)"
   ]
  },
  {
   "cell_type": "code",
   "execution_count": 53,
   "metadata": {
    "collapsed": true
   },
   "outputs": [],
   "source": [
    "import itertools"
   ]
  },
  {
   "cell_type": "code",
   "execution_count": 54,
   "metadata": {},
   "outputs": [],
   "source": [
    "def profile_to_consensus(profile):\n",
    "    \n",
    "    nu_list = ['A','C','G','T']\n",
    "    nu_candidates = []\n",
    "    consensus_list = []\n",
    "    for i in range(len(profile['A'])):\n",
    "        current_col = [profile[x][i] for x in nu_list]\n",
    "        max_freq = max(enumerate(current_col),key=lambda x: x[1])[1]\n",
    "        current_candidates = []\n",
    "        for j in range(len(current_col)):\n",
    "            if current_col[j] == max_freq:\n",
    "                current_candidates.append(nu_list[j])\n",
    "        nu_candidates.append(current_candidates)\n",
    "    #print(nu_candidates)\n",
    "    for x in list(itertools.product(*nu_candidates)):\n",
    "        consensus_list.append(''.join(y for y in x))\n",
    "    return consensus_list\n",
    "\n"
   ]
  },
  {
   "cell_type": "code",
   "execution_count": 55,
   "metadata": {},
   "outputs": [
    {
     "data": {
      "text/plain": [
       "['AAGCGA',\n",
       " 'AAGCTA',\n",
       " 'AAGTGA',\n",
       " 'AAGTTA',\n",
       " 'ACGCGA',\n",
       " 'ACGCTA',\n",
       " 'ACGTGA',\n",
       " 'ACGTTA',\n",
       " 'AGGCGA',\n",
       " 'AGGCTA',\n",
       " 'AGGTGA',\n",
       " 'AGGTTA']"
      ]
     },
     "execution_count": 55,
     "metadata": {},
     "output_type": "execute_result"
    }
   ],
   "source": [
    "profile_to_consensus({'A': [0.4, 0.3, 0.0, 0.1, 0.0, 0.9], 'C': [0.2, 0.3, 0.0, 0.4, 0.0, 0.1], 'G': [0.1, 0.3, 1.0, 0.1, 0.5, 0.0], 'T': [0.3, 0.1, 0.0, 0.4, 0.5, 0.0]})"
   ]
  },
  {
   "cell_type": "code",
   "execution_count": 64,
   "metadata": {
    "collapsed": true
   },
   "outputs": [],
   "source": [
    "def medianString(dna, k):\n",
    "    dist_list = []\n",
    "    median_list = []\n",
    "    for i in range(4**k):\n",
    "        pattern = numberToPattern(i, k)\n",
    "        dist_list.append(distanceBetweenPatternAndStrings(pattern, dna))\n",
    "#    print(dist_list)\n",
    "    min_dist = min(dist_list)\n",
    "    \n",
    "    for j in range(4**k):\n",
    "        if dist_list[j] == min_dist:\n",
    "            median_list.append(numberToPattern(j, k))\n",
    "        \n",
    "#        if distance > distanceBetweenPatternAndStrings(pattern, dna):\n",
    "#            distance = distanceBetweenPatternAndStrings(pattern, dna)\n",
    "#            median = pattern \n",
    "    return median_list"
   ]
  },
  {
   "cell_type": "code",
   "execution_count": 65,
   "metadata": {},
   "outputs": [
    {
     "data": {
      "text/plain": [
       "['AATCCTA', 'GAACCAC', 'GTAGGAA', 'TAGTTTC']"
      ]
     },
     "execution_count": 65,
     "metadata": {},
     "output_type": "execute_result"
    }
   ],
   "source": [
    "medianString(['CTCGATGAGTAGGAAAGTAGTTTCACTGGGCGAACCACCCCGGCGCTAATCCTAGTGCCC', 'GCAATCCTACCCGAGGCCACATATCAGTAGGAACTAGAACCACCACGGGTGGCTAGTTTC',\n",
    "              'GGTGTTGAACCACGGGGTTAGTTTCATCTATTGTAGGAATCGGCTTCAAATCCTACACAG'], 7)"
   ]
  },
  {
   "cell_type": "code",
   "execution_count": 206,
   "metadata": {
    "collapsed": true
   },
   "outputs": [],
   "source": [
    "def profile_most_probable_kmer(dna, k, profile):\n",
    "    prob = 0\n",
    "    most_probable_kmer = ''\n",
    "    for i in range(len(dna)-k+1):\n",
    "        current_kmer = dna[i:i+k]\n",
    "        if profile_probability(current_kmer, profile) > prob:\n",
    "            prob = profile_probability(current_kmer, profile)\n",
    "            most_probable_kmer = current_kmer \n",
    "            \n",
    "    if prob == 0:\n",
    "        #current_consensus = profile_to_consensus(profile)\n",
    "        #h_dist = []\n",
    "        #for i in range(len(dna)-k+1):\n",
    "          #  current_kmer = dna[i:i+k]\n",
    "           # h_dist.append(hammingDistance(current_consensus, current_kmer))\n",
    "        #min_idx = min(enumerate(h_dist),key=lambda x: x[1])[0]\n",
    "        #most_probable_kmer = dna[min_idx:min_idx+k]\n",
    "        most_probable_kmer = dna[:k]\n",
    "    return most_probable_kmer"
   ]
  },
  {
   "cell_type": "code",
   "execution_count": 185,
   "metadata": {
    "collapsed": true
   },
   "outputs": [],
   "source": [
    "sample_profile = {'A':[0.2, 0.2, 0.3, 0.2, 0.3], 'C':[0.4, 0.3, 0.1, 0.5, 0.1], 'G' : [0.3, 0.3, 0.5, 0.2, 0.4], 'T':[0.1, 0.2, 0.1, 0.1, 0.2]}"
   ]
  },
  {
   "cell_type": "code",
   "execution_count": 186,
   "metadata": {
    "collapsed": true
   },
   "outputs": [],
   "source": [
    "sample_profile2 = {'A':[0.364, 0.333, 0.303, 0.212, 0.121, 0.242], 'C':[0.182, 0.182, 0.212, 0.303, 0.182, 0.303], 'G':[0.121, 0.303, 0.182, 0.273, 0.333, 0.303],'T':[0.333, 0.182, 0.303, 0.212, 0.364, 0.152]}\n",
    "sample_dna_2 = 'TGCCCGAGCTATCTTATGCGCATCGCATGCGGACCCTTCCCTAGGCTTGTCGCAAGCCATTATCCTGGGCGCTAGTTGCGCGAGTATTGTCAGACCTGATGACGCTGTAAGCTAGCGTGTTCAGCGGCGCGCAATGAGCGGTTTAGATCACAGAATCCTTTGGCGTATTCCTATCCGTTACATCACCTTCCTCACCCCTA'\n"
   ]
  },
  {
   "cell_type": "code",
   "execution_count": 203,
   "metadata": {},
   "outputs": [
    {
     "data": {
      "text/plain": [
       "'TGTCGC'"
      ]
     },
     "execution_count": 203,
     "metadata": {},
     "output_type": "execute_result"
    }
   ],
   "source": [
    "profile_most_probable_kmer(sample_dna_2, 6, \n",
    "                           sample_profile2\n",
    ")"
   ]
  },
  {
   "cell_type": "code",
   "execution_count": 188,
   "metadata": {
    "collapsed": true
   },
   "outputs": [],
   "source": [
    "def score(motifs):\n",
    "    profile = create_profile(motifs)\n",
    "    consensus = profile_to_consensus(profile)\n",
    "    score = 0\n",
    "    for i in motifs:\n",
    "        score += hammingDistance(consensus, i)\n",
    "    return score\n",
    "    "
   ]
  },
  {
   "cell_type": "code",
   "execution_count": 189,
   "metadata": {},
   "outputs": [
    {
     "data": {
      "text/plain": [
       "30"
      ]
     },
     "execution_count": 189,
     "metadata": {},
     "output_type": "execute_result"
    }
   ],
   "source": [
    "score(Motifs)"
   ]
  },
  {
   "cell_type": "code",
   "execution_count": 216,
   "metadata": {
    "collapsed": true
   },
   "outputs": [],
   "source": [
    "def create_profile(motifs):\n",
    "    col_len = len(motifs)\n",
    "    A_list = []\n",
    "    C_list = []\n",
    "    G_list = []\n",
    "    T_list = []\n",
    "    for i in range(len(motifs[0])):\n",
    "        col_nucleotides = [each_motif[i] for each_motif in motifs]\n",
    "        c = Counter(col_nucleotides)\n",
    "        A_list.append(c['A']/col_len)\n",
    "        C_list.append(c['C']/col_len)\n",
    "        G_list.append(c['G']/col_len)\n",
    "        T_list.append(c['T']/col_len)\n",
    "    profile = {'A':A_list, 'C':C_list, 'G':G_list, 'T':T_list}\n",
    "    return profile"
   ]
  },
  {
   "cell_type": "code",
   "execution_count": 221,
   "metadata": {
    "collapsed": true
   },
   "outputs": [],
   "source": [
    "def create_profile_laplacian(motifs):\n",
    "    col_len = len(motifs)\n",
    "    A_list = []\n",
    "    C_list = []\n",
    "    G_list = []\n",
    "    T_list = []\n",
    "    for i in range(len(motifs[0])):\n",
    "        col_nucleotides = [each_motif[i] for each_motif in motifs]\n",
    "        c = Counter(col_nucleotides)\n",
    "        A_list.append((c['A']+1)/(2*col_len))\n",
    "        C_list.append((c['C']+1)/(2*col_len))\n",
    "        G_list.append((c['G']+1)/(2*col_len))\n",
    "        T_list.append((c['T']+1)/(2*col_len))\n",
    "    profile = {'A':A_list, 'C':C_list, 'G':G_list, 'T':T_list}\n",
    "    return profile      "
   ]
  },
  {
   "cell_type": "code",
   "execution_count": 222,
   "metadata": {},
   "outputs": [
    {
     "data": {
      "text/plain": [
       "{'A': [0.375, 0.25, 0.25, 0.25],\n",
       " 'C': [0.125, 0.25, 0.25, 0.25],\n",
       " 'G': [0.25, 0.25, 0.25, 0.125],\n",
       " 'T': [0.25, 0.25, 0.25, 0.375]}"
      ]
     },
     "execution_count": 222,
     "metadata": {},
     "output_type": "execute_result"
    }
   ],
   "source": [
    "create_profile_laplacian(['TAAC','GTCT','ACTA','AGGT'])"
   ]
  },
  {
   "cell_type": "code",
   "execution_count": 191,
   "metadata": {},
   "outputs": [
    {
     "data": {
      "text/plain": [
       "{'A': [0.0, 0.0, 0.0],\n",
       " 'C': [0.0, 0.0, 1.0],\n",
       " 'G': [1.0, 1.0, 0.0],\n",
       " 'T': [0.0, 0.0, 0.0]}"
      ]
     },
     "execution_count": 191,
     "metadata": {},
     "output_type": "execute_result"
    }
   ],
   "source": [
    "create_profile(['GGC'])"
   ]
  },
  {
   "cell_type": "code",
   "execution_count": 223,
   "metadata": {
    "collapsed": true
   },
   "outputs": [],
   "source": [
    "def greedyMotifSearch(dna, k, t):\n",
    "    bestMotifs = [each_dna[:k] for each_dna in dna]\n",
    "    for i in range(len(dna[0])-k+1):\n",
    "        current_first_kmer = dna[0][i:i+k]\n",
    "        motifs = []\n",
    "        motifs.append(current_first_kmer)\n",
    "\n",
    "        for j in range(1, t):\n",
    "            now_profile = create_profile_laplacian(motifs)\n",
    "            most_probable_kmer = profile_most_probable_kmer(dna[j], k, now_profile)\n",
    "            motifs.append(most_probable_kmer)\n",
    "\n",
    "        if score(motifs) < score(bestMotifs):\n",
    "            bestMotifs = motifs\n",
    "    return bestMotifs\n",
    "            \n",
    "            \n",
    "            \n",
    "        \n",
    "        "
   ]
  },
  {
   "cell_type": "code",
   "execution_count": 193,
   "metadata": {
    "collapsed": true
   },
   "outputs": [],
   "source": [
    "sample_dna = ['GGCGTTCAGGCA', 'AAGAATCAGTCA', 'CAAGGAGTTCGC', 'CACGTCAATCAC','CAATAATATTCG']"
   ]
  },
  {
   "cell_type": "code",
   "execution_count": 198,
   "metadata": {},
   "outputs": [
    {
     "data": {
      "text/plain": [
       "'CAAGAACATCCA'"
      ]
     },
     "execution_count": 198,
     "metadata": {},
     "output_type": "execute_result"
    }
   ],
   "source": [
    "profile_to_consensus(create_profile(sample_dna))"
   ]
  },
  {
   "cell_type": "code",
   "execution_count": 195,
   "metadata": {},
   "outputs": [
    {
     "data": {
      "text/plain": [
       "['GGC', 'AAG', 'CAA', 'CAC', 'CAA']"
      ]
     },
     "execution_count": 195,
     "metadata": {},
     "output_type": "execute_result"
    }
   ],
   "source": [
    " [each_dna[:3] for each_dna in sample_dna]"
   ]
  },
  {
   "cell_type": "code",
   "execution_count": 224,
   "metadata": {},
   "outputs": [
    {
     "data": {
      "text/plain": [
       "['TTC', 'ATC', 'TTC', 'ATC', 'TTC']"
      ]
     },
     "execution_count": 224,
     "metadata": {},
     "output_type": "execute_result"
    }
   ],
   "source": [
    "greedyMotifSearch(sample_dna, 3, 5)"
   ]
  },
  {
   "cell_type": "code",
   "execution_count": 225,
   "metadata": {
    "collapsed": true
   },
   "outputs": [],
   "source": [
    "with open('/home/jeongyeojin/dataset_160_9.txt') as f:\n",
    "    data = f.read()"
   ]
  },
  {
   "cell_type": "code",
   "execution_count": 226,
   "metadata": {},
   "outputs": [
    {
     "data": {
      "text/plain": [
       "['12 25',\n",
       " 'CCTCACGTAATGAACACCAAATACATTGTTAGAAGAAGCGAGGTCGAAGCGGTATGCAGAATAGCTCTTATGCGCACTTACTTTTCACAACGCTAAGCCTTGCCAGGCTTCTGTAGACAGGAAACCCCGTCAAGAGCGGTATTTAGACACCACGGC',\n",
       " 'CACCCTTGCTTTCTGGGGCTCTACGACGAAGGAGCCGGCCATATCGTGCGCTTGGCCTATGGCTCACGGCCAACGAGGCCCGAGCAGCCGATACACTGGTCTGAGGTGGGCCCAACTCCTGGCGACGACCCCCTGGTAAATCTCAATGTCTGTACT',\n",
       " 'TTATGTTTGTAGTAGGTCTTATAGCTATTCGCAGCGTAAATTCACAACTGCTAGGCAAACCACCCTTTCTTTATTCTCCGGTTCACCAGTCCTTGTTTCGGCTCAGCGATTTCTGCTGCAGCCTCAGATGACCCGCGTTATTTTATTCCTTCCAAC',\n",
       " 'AACTAAGCACTCAACCTAAGTAACCAAGGTTCAGGGGAGACCACCTGATACATTAAGGGGCCGACCGGCGCACCACCGGTGCTCCCTGCTAACGGGCACCCGTTCTTTCAGACCGTTCCTTGGTGCAGTCGGCAAGTATCCATTGTGGCAGCATTT',\n",
       " 'TATCTGGGCTCATACCTCGCTGGATTTCGTGTCCCGAGCATCATGTAATTCTGCTCCACGGGAACCCGGGGACCCACCTGCTTTTCGGCCGTTCCGGTCGCGACTAGTCTTGTAACACTCGCAACGGGGTTTCATCCGAGCTCCCCATGTTGATAC',\n",
       " 'TAGTCGCGGATCCTCATGTATCCGATGGGAGAAAATTTCTTGGGGTTACAAGAGATGTGACACCCCTCCTTTCGCCTACTCTCTGGCTGTTTTGCTATTTTATTACGTGGAATGAATTTTTACGTACGTAGCTTAAAGGTAGAATTATAGTATAAG',\n",
       " 'ACATGCCTCCACATTTTCACCGGACCCTCTTGCTTTAAAGCGGATAGTCCTGATAAGTTGGCGAAGCTCCTCAGCCCTTTTCGGTCACTGGACAATAGAATATAAGGGTACTACAAGCTGTTCTGCTAGATGCATCCGCTCGGCTCGTCGGGTTCC',\n",
       " 'GTAGATACCCTTCCCCCGCACGCGGTGGCGCCGTTGGATGCCGGTAAACCTATAACTTGCAGACTCTGCGGTTAACCACGGACGAGCTCCGACCAACCGTAGCCTAACTCACCCTACCAAAATCCGGTGCGCGAGGACGTAAAACACCCATTCTTT',\n",
       " 'CCGGGGTGGGACGAGCAGCGGGTACTATATGCTTAACGCGCGTACTTTCAACCTAGCCGGCCCGTAACTCGTGTAAGTAATCAACGAGTTGAGCTGCATGTGCTAAGGATCTCTAGGCATTTTTGTCAAACAGGCACTTTACTCACAGTACGTCTG',\n",
       " 'CGAGCGGGGGCAGGACTATCCACCGGAAGGGCTACATATCTAATTAGGGAGGAGAAATTCTCGATTTGGGCGGAAGCGCAGGAACGCTCGTGCTTTCTCGCGCTTGGGCAAGTGACTAATTACCGATGACTGTTGCGGTTTCCTTCTAATATGACA',\n",
       " 'CCCCCCTCCTTTCCGACCGTTAACAGATCATACCACATTGCACCAGACCATACGATCCGTCTAGTTCAGGTCAGCGAGAAGACGTCCGCTCTAGGTCTTCGTCTACCAAGAATCGTTATGCAATCCAGGAATCATATCGCCAGGACTGGTCAGGGT',\n",
       " 'GTGTCGTGAAAGTGAAGCCTAGTCCAGTGAATGTGGCCCACGTACTTTTCGTAAAGTGAGGACGTCAAGTGACGACCAATGCTAACGCAGATCAATTGTTAGTAGGAACGGCAATCCTCCCACCCCTGATATCCGGGTACGCTTGCAGATGCCCCG',\n",
       " 'TTTTCATAGTTGCAAACTTGCGACATAAACTGACTACGGTCTAGAGTCCGCCCCTTCTTTTTCTTTGTGAAACCTGAACTATCAATCGTCTATCACTACGATCTAAGCCCTTACCTGCATCATACTGTTATCGAATGTGTGCCCGAGGTTCTCATG',\n",
       " 'CTATAGAACGCAACCGCGCTACGACTAAGTTCAAGAACAAAATCGCCCTCCTCTGTGCGTTATATGCATTATTTTCGGGAACGGCACACCTCCTTTAGTTGCCTCAGAGTTGCCGATCCCTTCACGGCCGCATCCACCAGATCGCCATAGAGGGTC',\n",
       " 'TCGCCAGCGACTGGTGACTTCGCCTGGATAAAATGTTACAAATTAAGTCAAAATTGGTCACGTGTTCATCTGATCCGCGAAATAACCGTACTCCTATGTGATCCGGCCCGATTCGATCGGCGCCCGTACTTTAACTGCTCAGCATGTCCATTACTA',\n",
       " 'CCGTAGTTGTCCCCCCAAAGTTGTACACCTTTGTAAAATAGGCGAGACCCGCACACATCACGGTTGCAGGTTCTACATGGGGAATCTCGGGGACGTCTCACATTCTTTCCACGTACACGCGACTCGAGCAGGATGCGCGGCAGCTATCACAGCTTA',\n",
       " 'TAGCGTACTTCACCGGCACAGGGGTACCGAAAACAAGTGCACTCCCAACGCTCTTTCTTTTTGCAGTGAGTCAGACGGTAGTGGATACGACCGCAATTTGAGTCCGGGACCGAGGAAGCCTATATACGCTCTTTTTCGCTTGGATGTCGATTGAGG',\n",
       " 'TCCAAGAAATGGTATGCCCACGGTCCTCTACAGACGTCTAGGAGGCATTGGGATGTTTTTAGAACGCGTACAGAGCATAGAGCTCTCTCGTGCTTTCCGCCCTCATGCCAGTTGCAACCTGGCCTAGCGTGCTAACTATTCATTCCTTCCGGCTCT',\n",
       " 'CTGCGACCTAAGACAGGACTCCGTTCGCCCGAAATGGACTAATATTCCATCGTGCAGTGCCTGGTAACACTCTTGCAGGGGTTCCCCACATTCTTTATTTAGGGCGTCATCGGGAACCATGAGGTGCCGTTATACCGGAGAGGTGACCCGTGGACA',\n",
       " 'ACTCTTGCTAGGCATCTGGCTTTACCCTGGCATTCCGGGGGGAGAATTGTTTGTATCCGGGCCCGAAGTTTAAATAATCGCTAGCTCAACGCAAATCACACATGCTTTCTGCTGCGAGGCTATTAGGGTGTACATGGCCCGATAATTTTTGCGCGA',\n",
       " 'GACCAGCAGATCGGACTTCGCCCCAGTAAGGGTCTCAGGTGAATGACGTTGGTACGGCATATCTATGATTGCGTCGTCCGACCACTCACCTACTTTAGGGCCCGGTGTAATGACTTGCTTACCAAAGACAGTTGCGGATAACTAAGCCTAAAGAAC',\n",
       " 'CCGACCAGCATAGGGTTTCTAAAGCGCGTTTGTAGGACATTCTGCTTCGAAGGCGATGCGCACTAGGTACGTGCGATACCCGAAATTAATCTGCGGTTCCAATGGTCCCTTAAAACAAGTCTCGCCTACTTTCCTCATATCCGGTGCAAGATGAGT',\n",
       " 'ATCCGGAGAACACCAGCCCTGAAAACCAAGCGTGAACTCCCCTTCTTTGGGTTTTAATGGCTTCTGCGCGGACTATGTGTTTAAAAATCTCATGCACCGGACAATTGTCGGCAGCGCAAGGGGTTCTACTGAGACTTGCCATGGAGTGACAGAAGC',\n",
       " 'GCTACTTATCATAATTTGATACTCAATATTCTACCCAGTCACCTGGGCTAAATTTCACCCAGCACGGCCGCAAAAAGTCGGTGGTCCAATGTGATTCGTGTATCGGCCCGCTTACTTCGGCATTCCCTGGTACCCTCTTCCTTTACCGGACCCTGG',\n",
       " 'AGCTCGACTAACAAATGATCGATCACCATGTCACCACTCTCGTGCTTTCCGACGTCTGTTCTCGTGACGGTAAAGCAGGCCTGCTTTCTGCTGCAATCACATCGACTACCTCAGAGAACGAAAGAGTTAACTAAATGACAAGGCGTCCCAAACAGG',\n",
       " '']"
      ]
     },
     "execution_count": 226,
     "metadata": {},
     "output_type": "execute_result"
    }
   ],
   "source": [
    "new_data = data.split('\\n')\n",
    "new_data"
   ]
  },
  {
   "cell_type": "code",
   "execution_count": 227,
   "metadata": {
    "collapsed": true
   },
   "outputs": [],
   "source": [
    "test_motifs = new_data[1:-1]"
   ]
  },
  {
   "cell_type": "code",
   "execution_count": 228,
   "metadata": {},
   "outputs": [
    {
     "name": "stdout",
     "output_type": "stream",
     "text": [
      "CGCACTTACTTT\n",
      "CACCCTTGCTTT\n",
      "CACCCTTTCTTT\n",
      "CACCCGTTCTTT\n",
      "CCCACCTGCTTT\n",
      "CACCCCTCCTTT\n",
      "CCCTCTTGCTTT\n",
      "CACCCATTCTTT\n",
      "CGCGCGTACTTT\n",
      "CGCTCGTGCTTT\n",
      "CCCCCCTCCTTT\n",
      "CCCACGTACTTT\n",
      "CGCCCCTTCTTT\n",
      "CACACCTCCTTT\n",
      "CGCCCGTACTTT\n",
      "CTCACATTCTTT\n",
      "CGCTCTTTCTTT\n",
      "CTCTCGTGCTTT\n",
      "CCCACATTCTTT\n",
      "CACACATGCTTT\n",
      "CTCACCTACTTT\n",
      "CTCGCCTACTTT\n",
      "CTCCCCTTCTTT\n",
      "CCCTCTTCCTTT\n",
      "CTCTCGTGCTTT\n"
     ]
    }
   ],
   "source": [
    "for x in greedyMotifSearch(test_motifs, 12, 25):\n",
    "    print(x)"
   ]
  }
 ],
 "metadata": {
  "kernelspec": {
   "display_name": "Python 3",
   "language": "python",
   "name": "python3"
  },
  "language_info": {
   "codemirror_mode": {
    "name": "ipython",
    "version": 3
   },
   "file_extension": ".py",
   "mimetype": "text/x-python",
   "name": "python",
   "nbconvert_exporter": "python",
   "pygments_lexer": "ipython3",
   "version": "3.6.1"
  }
 },
 "nbformat": 4,
 "nbformat_minor": 2
}
