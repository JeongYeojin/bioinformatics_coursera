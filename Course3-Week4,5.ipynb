{
 "cells": [
  {
   "cell_type": "code",
   "execution_count": 28,
   "metadata": {},
   "outputs": [
    {
     "data": {
      "text/plain": [
       "['(+83 -76 +128 -70 -74 +130 +46 -104 -121 -37 +10 -5 +124 -93 -82 -55 +127 -34 -32 +111 -25 -50 -22 +133 -6 -126 +75 +114 +54 +120 +42 -119 +91 -110 +2 +8 +71 +36 +57 -92 -40 +47 +107 +24 -96 +103 -132 -39 -87 -102 +106 +56 +64 +43 +73 -44 -20 +14 +112 +95 +88 -12 +118 +108 -21 -26 -31 -60 +122 -84 +48 +53 +13 +125 +72 -79 +61 +78 +65 -16 -109 +1 -7 -4 +68 +35 +17 -58 +131 -99 +81 +51 +115 +117 +66 -63 -129 -94 +62 -41 -29 +123 +33 -90 -69 +38 +67 +19 +52 -86 +89 -30 +15 -27 -101 -85 +23 -80 +3 +97 -9 +59 -49 -11 -18 +28 +113 +105 -98 +45 +100 +77 +116)']"
      ]
     },
     "execution_count": 28,
     "metadata": {},
     "output_type": "execute_result"
    }
   ],
   "source": [
    "with open('/home/jeongyeojin/dataset_286_4.txt') as f:\n",
    "    data = f.read()\n",
    "    dna_data = data.split('\\n')[:-1]\n",
    "dna_data"
   ]
  },
  {
   "cell_type": "code",
   "execution_count": 26,
   "metadata": {},
   "outputs": [],
   "source": [
    "# ex. P : '(-3 +1 +2)\n",
    "import re\n",
    "\n",
    "def greedy_sorting(P):\n",
    "    print_list = lambda x : print(\"(\" + \" \".join([\"+\"+str(s) if s>0 else str(s) for s in x]) + \")\")\n",
    "    approx_reversal_distance = 0\n",
    "    p_list = [int(s) for s in re.split('[( )]', P)[1:-1]] \n",
    "    for i in range(len(p_list)):\n",
    "        # single flip\n",
    "        if p_list[i] == -(i+1):\n",
    "            p_list[i] *= -1\n",
    "            approx_reversal_distance += 1\n",
    "            print_list(p_list)\n",
    "        elif p_list[i] != (i+1):\n",
    "            if (i+1) in p_list[i+1:]:\n",
    "                target_index = p_list.index(i+1)\n",
    "                p_list = p_list[:i] + [-s for s in p_list[i:target_index+1][::-1]] + p_list[target_index+1:]\n",
    "                approx_reversal_distance += 1\n",
    "                print_list(p_list)\n",
    "                p_list[i] *= -1\n",
    "                approx_reversal_distance += 1\n",
    "                print_list(p_list)\n",
    "            elif -(i+1) in p_list[i+1:]:\n",
    "                target_index = p_list.index(-(i+1))\n",
    "                p_list = p_list[:i] + [-s for s in p_list[i:target_index+1][::-1]] + p_list[target_index+1:]\n",
    "                approx_reversal_distance += 1\n",
    "                print_list(p_list)\n",
    "                "
   ]
  }
 ],
 "metadata": {
  "kernelspec": {
   "display_name": "Python 3",
   "language": "python",
   "name": "python3"
  },
  "language_info": {
   "codemirror_mode": {
    "name": "ipython",
    "version": 3
   },
   "file_extension": ".py",
   "mimetype": "text/x-python",
   "name": "python",
   "nbconvert_exporter": "python",
   "pygments_lexer": "ipython3",
   "version": "3.6.1"
  }
 },
 "nbformat": 4,
 "nbformat_minor": 2
}
